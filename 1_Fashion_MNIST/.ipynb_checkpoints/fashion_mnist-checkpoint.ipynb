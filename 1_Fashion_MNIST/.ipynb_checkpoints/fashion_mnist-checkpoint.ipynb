{
 "cells": [
  {
   "cell_type": "markdown",
   "metadata": {},
   "source": [
    "# Fashion MNIST\n",
    "\n",
    "\n",
    "### Imports"
   ]
  },
  {
   "cell_type": "code",
   "execution_count": 3,
   "metadata": {},
   "outputs": [
    {
     "name": "stderr",
     "output_type": "stream",
     "text": [
      "Using TensorFlow backend.\n"
     ]
    }
   ],
   "source": [
    "import keras\n",
    "import numpy as np\n",
    "import seaborn as sns\n",
    "import pandas as pd\n",
    "from matplotlib import pyplot as plt\n",
    "from keras.losses import mean_squared_error\n",
    "from keras.models import Sequential\n",
    "from keras.layers import Flatten, Dense, SimpleRNN"
   ]
  },
  {
   "cell_type": "markdown",
   "metadata": {},
   "source": [
    "### Data\n",
    "\n",
    "First, load the Fashion MNIST dataset using Keras. It is a collection of 6000 images which are represented using 28x28 arrays."
   ]
  },
  {
   "cell_type": "code",
   "execution_count": 8,
   "metadata": {},
   "outputs": [
    {
     "name": "stdout",
     "output_type": "stream",
     "text": [
      "(60000, 28, 28)\n",
      "[  0   0   1   4   6   7   2   0   0   0   0   0 237 226 217 223 222 219\n",
      " 222 221 216 223 229 215 218 255  77   0]\n"
     ]
    }
   ],
   "source": [
    "fashion_mnist = keras.datasets.fashion_mnist\n",
    "(x_train, y_train), (x_test, y_test) = fashion_mnist.load_data()\n",
    "\n",
    "# images are represented as 28x28 arrays...\n",
    "print(x_train.shape)\n",
    "# ... with integer pixel intensity from 0 to 255\n",
    "print(x_train[0,14,:])"
   ]
  },
  {
   "cell_type": "markdown",
   "metadata": {},
   "source": [
    "Two data transformations are necessary: first, we have to split the dataset into a training and a validation set, second, we have to scale features to be bounded in the (0,1) interval. Since the minimum value is 0, min-max scaling only requires to divide by the maximum value."
   ]
  },
  {
   "cell_type": "code",
   "execution_count": 9,
   "metadata": {},
   "outputs": [],
   "source": [
    "x_val, x_train = x_train[:5000] / 255.0, x_train[5000:] /255.0\n",
    "y_val, y_train = y_train[:5000], y_train[5000:]"
   ]
  },
  {
   "cell_type": "markdown",
   "metadata": {},
   "source": [
    "Numerical labels can be converted to categorical, string, labels according to the following list:"
   ]
  },
  {
   "cell_type": "code",
   "execution_count": 10,
   "metadata": {},
   "outputs": [],
   "source": [
    "labels = ['T-shirt', 'Troursers', 'Pullover', 'Dress', 'Coat', 'Sandal',\n",
    "              'Shirt', 'Sneaker', 'Bag', 'Ankle_boot']"
   ]
  },
  {
   "cell_type": "markdown",
   "metadata": {},
   "source": [
    "Let's plot some items just to have a better idea about the task at hand:"
   ]
  },
  {
   "cell_type": "code",
   "execution_count": 11,
   "metadata": {},
   "outputs": [
    {
     "data": {
      "image/png": "[encoded data removed]",
      "text/plain": [
       "<Figure size 360x360 with 9 Axes>"
      ]
     },
     "metadata": {},
     "output_type": "display_data"
    }
   ],
   "source": [
    "plt.figure(figsize=(5,5))\n",
    "for i in range(9):\n",
    "    plt.subplot(3,3,i+1)\n",
    "    plt.xticks([])\n",
    "    plt.yticks([])\n",
    "    plt.grid(False)\n",
    "    plt.imshow(x_train[i], cmap=plt.cm.binary)\n",
    "    plt.xlabel(labels[y_train[i]])\n",
    "plt.show()"
   ]
  },
  {
   "cell_type": "markdown",
   "metadata": {},
   "source": [
    "### Baselines\n",
    "Model's performances metrics like accuracy and AUC should not be compared to zero, but rather to a very trivial baseline like random-guess or linear regression. Notice that we always use **softmax activation** for the output layer when we are dealing with a classification task over multiple mutually-exclusive classes. Instead, we would use the simpler **sigmoid activation** for binary classification."
   ]
  },
  {
   "cell_type": "code",
   "execution_count": 13,
   "metadata": {},
   "outputs": [
    {
     "name": "stdout",
     "output_type": "stream",
     "text": [
      "Train on 55000 samples, validate on 5000 samples\n",
      "Epoch 1/20\n",
      "55000/55000 [==============================] - 2s 41us/step - loss: 0.8451 - accuracy: 0.7349 - val_loss: 0.6471 - val_accuracy: 0.7866\n",
      "Epoch 2/20\n",
      "55000/55000 [==============================] - 2s 39us/step - loss: 0.6033 - accuracy: 0.8035 - val_loss: 0.5631 - val_accuracy: 0.8210\n",
      "Epoch 3/20\n",
      "55000/55000 [==============================] - 2s 39us/step - loss: 0.5514 - accuracy: 0.8203 - val_loss: 0.5276 - val_accuracy: 0.8322\n",
      "Epoch 4/20\n",
      "55000/55000 [==============================] - 2s 39us/step - loss: 0.5234 - accuracy: 0.8264 - val_loss: 0.5077 - val_accuracy: 0.8364\n",
      "Epoch 5/20\n",
      "55000/55000 [==============================] - 2s 40us/step - loss: 0.5051 - accuracy: 0.8315 - val_loss: 0.4911 - val_accuracy: 0.8396\n",
      "Epoch 6/20\n",
      "55000/55000 [==============================] - 2s 40us/step - loss: 0.4918 - accuracy: 0.8364 - val_loss: 0.4840 - val_accuracy: 0.8420\n",
      "Epoch 7/20\n",
      "55000/55000 [==============================] - 2s 41us/step - loss: 0.4815 - accuracy: 0.8383 - val_loss: 0.4744 - val_accuracy: 0.8462\n",
      "Epoch 8/20\n",
      "55000/55000 [==============================] - 2s 40us/step - loss: 0.4736 - accuracy: 0.8413 - val_loss: 0.4697 - val_accuracy: 0.8472\n",
      "Epoch 9/20\n",
      "55000/55000 [==============================] - 2s 41us/step - loss: 0.4664 - accuracy: 0.8435 - val_loss: 0.4605 - val_accuracy: 0.8492\n",
      "Epoch 10/20\n",
      "55000/55000 [==============================] - 2s 43us/step - loss: 0.4607 - accuracy: 0.8441 - val_loss: 0.4597 - val_accuracy: 0.8502\n",
      "Epoch 11/20\n",
      "55000/55000 [==============================] - 2s 40us/step - loss: 0.4558 - accuracy: 0.8454 - val_loss: 0.4515 - val_accuracy: 0.8524\n",
      "Epoch 12/20\n",
      "55000/55000 [==============================] - 2s 37us/step - loss: 0.4514 - accuracy: 0.8476 - val_loss: 0.4529 - val_accuracy: 0.8512\n",
      "Epoch 13/20\n",
      "55000/55000 [==============================] - 2s 44us/step - loss: 0.4479 - accuracy: 0.8482 - val_loss: 0.4474 - val_accuracy: 0.8556\n",
      "Epoch 14/20\n",
      "55000/55000 [==============================] - 2s 40us/step - loss: 0.4440 - accuracy: 0.8500 - val_loss: 0.4454 - val_accuracy: 0.8526\n",
      "Epoch 15/20\n",
      "55000/55000 [==============================] - 2s 41us/step - loss: 0.4412 - accuracy: 0.8498 - val_loss: 0.4449 - val_accuracy: 0.8564\n",
      "Epoch 16/20\n",
      "55000/55000 [==============================] - 2s 42us/step - loss: 0.4382 - accuracy: 0.8513 - val_loss: 0.4441 - val_accuracy: 0.8560\n",
      "Epoch 17/20\n",
      "55000/55000 [==============================] - 2s 43us/step - loss: 0.4359 - accuracy: 0.8519 - val_loss: 0.4393 - val_accuracy: 0.8556\n",
      "Epoch 18/20\n",
      "55000/55000 [==============================] - 2s 41us/step - loss: 0.4335 - accuracy: 0.8530 - val_loss: 0.4374 - val_accuracy: 0.8580\n",
      "Epoch 19/20\n",
      "55000/55000 [==============================] - 2s 44us/step - loss: 0.4313 - accuracy: 0.8541 - val_loss: 0.4406 - val_accuracy: 0.8536\n",
      "Epoch 20/20\n",
      "55000/55000 [==============================] - 2s 44us/step - loss: 0.4296 - accuracy: 0.8535 - val_loss: 0.4318 - val_accuracy: 0.8578\n"
     ]
    },
    {
     "data": {
      "text/plain": [
       "<keras.callbacks.callbacks.History at 0x7f9c7033a8d0>"
      ]
     },
     "execution_count": 13,
     "metadata": {},
     "output_type": "execute_result"
    }
   ],
   "source": [
    "baseline = Sequential()\n",
    "baseline.add(Flatten(input_shape = [28,28]))\n",
    "baseline.add(Dense(10, activation= 'softmax'))\n",
    "\n",
    "baseline.compile(loss = 'sparse_categorical_crossentropy', optimizer='sgd', metrics=['accuracy'])\n",
    "baseline.fit(x_train, y_train, epochs = 20, validation_data = (x_val, y_val))"
   ]
  },
  {
   "cell_type": "markdown",
   "metadata": {},
   "source": [
    "### Model\n",
    "Use a fully connected network with two hiddens layers."
   ]
  },
  {
   "cell_type": "code",
   "execution_count": 18,
   "metadata": {},
   "outputs": [],
   "source": [
    "model = Sequential()\n",
    "model.add(Flatten(input_shape = [28,28]))\n",
    "model.add(Dense(100, activation = 'relu'))\n",
    "model.add(Dense(100, activation = 'relu'))\n",
    "model.add(Dense(10, activation= 'softmax'))"
   ]
  },
  {
   "cell_type": "markdown",
   "metadata": {},
   "source": [
    "To see how many parameters the network has, we can use the **summary( )** method. Notice that FC layers tend to have lots of parameters!"
   ]
  },
  {
   "cell_type": "code",
   "execution_count": 19,
   "metadata": {},
   "outputs": [
    {
     "name": "stdout",
     "output_type": "stream",
     "text": [
      "Model: \"sequential_4\"\n",
      "_________________________________________________________________\n",
      "Layer (type)                 Output Shape              Param #   \n",
      "=================================================================\n",
      "flatten_4 (Flatten)          (None, 784)               0         \n",
      "_________________________________________________________________\n",
      "dense_7 (Dense)              (None, 100)               78500     \n",
      "_________________________________________________________________\n",
      "dense_8 (Dense)              (None, 100)               10100     \n",
      "_________________________________________________________________\n",
      "dense_9 (Dense)              (None, 10)                1010      \n",
      "=================================================================\n",
      "Total params: 89,610\n",
      "Trainable params: 89,610\n",
      "Non-trainable params: 0\n",
      "_________________________________________________________________\n"
     ]
    }
   ],
   "source": [
    "model.summary()"
   ]
  },
  {
   "cell_type": "markdown",
   "metadata": {},
   "source": [
    "It's time to compile the model by telling Keras which loss function and optimizer we would like to use. Furthermore, we can also provide additional metrics to keep track of. In this case, we use **sparse_categorical_crossentropy** because we have multiple classes, which are mutually exclusive and sparse, as they have not been one-hot-encoded. Instead, if we had proceeded with one-hot encoding we would be using **categorical_crossentropy** loss instead. Finally, when the problem is binary we can simply choose **binary_crossentropy** as the loss function."
   ]
  },
  {
   "cell_type": "code",
   "execution_count": 20,
   "metadata": {},
   "outputs": [],
   "source": [
    "model.compile(loss = 'sparse_categorical_crossentropy', optimizer='sgd', metrics=['accuracy'])"
   ]
  },
  {
   "cell_type": "markdown",
   "metadata": {},
   "source": [
    "Finally, we are ready to train the model by calling its **fit( )** method."
   ]
  },
  {
   "cell_type": "code",
   "execution_count": 21,
   "metadata": {},
   "outputs": [
    {
     "name": "stdout",
     "output_type": "stream",
     "text": [
      "Train on 55000 samples, validate on 5000 samples\n",
      "Epoch 1/30\n",
      "55000/55000 [==============================] - 3s 60us/step - loss: 0.7851 - accuracy: 0.7436 - val_loss: 0.5255 - val_accuracy: 0.8210\n",
      "Epoch 2/30\n",
      "55000/55000 [==============================] - 3s 58us/step - loss: 0.5105 - accuracy: 0.8209 - val_loss: 0.4946 - val_accuracy: 0.8312\n",
      "Epoch 3/30\n",
      "55000/55000 [==============================] - 3s 57us/step - loss: 0.4645 - accuracy: 0.8358 - val_loss: 0.4261 - val_accuracy: 0.8554\n",
      "Epoch 4/30\n",
      "55000/55000 [==============================] - 3s 60us/step - loss: 0.4359 - accuracy: 0.8463 - val_loss: 0.4315 - val_accuracy: 0.8522\n",
      "Epoch 5/30\n",
      "55000/55000 [==============================] - 3s 59us/step - loss: 0.4163 - accuracy: 0.8532 - val_loss: 0.4070 - val_accuracy: 0.8592\n",
      "Epoch 6/30\n",
      "55000/55000 [==============================] - 3s 59us/step - loss: 0.4000 - accuracy: 0.8586 - val_loss: 0.4013 - val_accuracy: 0.8600\n",
      "Epoch 7/30\n",
      "55000/55000 [==============================] - 3s 60us/step - loss: 0.3874 - accuracy: 0.8623 - val_loss: 0.3711 - val_accuracy: 0.8694\n",
      "Epoch 8/30\n",
      "55000/55000 [==============================] - 3s 58us/step - loss: 0.3744 - accuracy: 0.8680 - val_loss: 0.3909 - val_accuracy: 0.8650\n",
      "Epoch 9/30\n",
      "55000/55000 [==============================] - 3s 60us/step - loss: 0.3638 - accuracy: 0.8706 - val_loss: 0.3817 - val_accuracy: 0.8624\n",
      "Epoch 10/30\n",
      "55000/55000 [==============================] - 3s 62us/step - loss: 0.3530 - accuracy: 0.8749 - val_loss: 0.3572 - val_accuracy: 0.8742\n",
      "Epoch 11/30\n",
      "55000/55000 [==============================] - 3s 60us/step - loss: 0.3445 - accuracy: 0.8776 - val_loss: 0.3553 - val_accuracy: 0.8720\n",
      "Epoch 12/30\n",
      "55000/55000 [==============================] - 3s 61us/step - loss: 0.3371 - accuracy: 0.8799 - val_loss: 0.3438 - val_accuracy: 0.8758\n",
      "Epoch 13/30\n",
      "55000/55000 [==============================] - 3s 59us/step - loss: 0.3294 - accuracy: 0.8822 - val_loss: 0.3386 - val_accuracy: 0.8784\n",
      "Epoch 14/30\n",
      "55000/55000 [==============================] - 4s 64us/step - loss: 0.3218 - accuracy: 0.8858 - val_loss: 0.3387 - val_accuracy: 0.8788\n",
      "Epoch 15/30\n",
      "55000/55000 [==============================] - 3s 57us/step - loss: 0.3170 - accuracy: 0.8863 - val_loss: 0.3401 - val_accuracy: 0.8780\n",
      "Epoch 16/30\n",
      "55000/55000 [==============================] - 3s 63us/step - loss: 0.3097 - accuracy: 0.8891 - val_loss: 0.3560 - val_accuracy: 0.8744\n",
      "Epoch 17/30\n",
      "55000/55000 [==============================] - 3s 62us/step - loss: 0.3054 - accuracy: 0.8899 - val_loss: 0.3300 - val_accuracy: 0.8832\n",
      "Epoch 18/30\n",
      "55000/55000 [==============================] - 4s 64us/step - loss: 0.3002 - accuracy: 0.8925 - val_loss: 0.3221 - val_accuracy: 0.8836\n",
      "Epoch 19/30\n",
      "55000/55000 [==============================] - 4s 64us/step - loss: 0.2953 - accuracy: 0.8945 - val_loss: 0.3246 - val_accuracy: 0.8836\n",
      "Epoch 20/30\n",
      "55000/55000 [==============================] - 3s 63us/step - loss: 0.2895 - accuracy: 0.8969 - val_loss: 0.3314 - val_accuracy: 0.8830\n",
      "Epoch 21/30\n",
      "55000/55000 [==============================] - 3s 62us/step - loss: 0.2862 - accuracy: 0.8971 - val_loss: 0.3303 - val_accuracy: 0.8852\n",
      "Epoch 22/30\n",
      "55000/55000 [==============================] - 3s 63us/step - loss: 0.2827 - accuracy: 0.8981 - val_loss: 0.3213 - val_accuracy: 0.8848\n",
      "Epoch 23/30\n",
      "55000/55000 [==============================] - 3s 62us/step - loss: 0.2769 - accuracy: 0.9000 - val_loss: 0.3325 - val_accuracy: 0.8800\n",
      "Epoch 24/30\n",
      "55000/55000 [==============================] - 3s 61us/step - loss: 0.2737 - accuracy: 0.9013 - val_loss: 0.3245 - val_accuracy: 0.8830\n",
      "Epoch 25/30\n",
      "55000/55000 [==============================] - 3s 62us/step - loss: 0.2700 - accuracy: 0.9020 - val_loss: 0.3135 - val_accuracy: 0.8904\n",
      "Epoch 26/30\n",
      "55000/55000 [==============================] - 4s 64us/step - loss: 0.2665 - accuracy: 0.9045 - val_loss: 0.3152 - val_accuracy: 0.8862\n",
      "Epoch 27/30\n",
      "55000/55000 [==============================] - 4s 64us/step - loss: 0.2625 - accuracy: 0.9055 - val_loss: 0.3230 - val_accuracy: 0.8826\n",
      "Epoch 28/30\n",
      "55000/55000 [==============================] - 4s 64us/step - loss: 0.2596 - accuracy: 0.9071 - val_loss: 0.3060 - val_accuracy: 0.8888\n",
      "Epoch 29/30\n",
      "55000/55000 [==============================] - 4s 64us/step - loss: 0.2566 - accuracy: 0.9071 - val_loss: 0.3035 - val_accuracy: 0.8888\n",
      "Epoch 30/30\n",
      "55000/55000 [==============================] - 4s 65us/step - loss: 0.2523 - accuracy: 0.9083 - val_loss: 0.3069 - val_accuracy: 0.8874\n"
     ]
    }
   ],
   "source": [
    "history = model.fit(x_train, y_train, epochs = 30, validation_data = (x_val, y_val))"
   ]
  },
  {
   "cell_type": "markdown",
   "metadata": {},
   "source": [
    "The history object that is returned when training the model contains much useful information about the training itself. Especially, we can use it to retrieve and plot **learning curves**."
   ]
  },
  {
   "cell_type": "code",
   "execution_count": 22,
   "metadata": {},
   "outputs": [
    {
     "data": {
      "image/png": "[encoded data removed]",
      "text/plain": [
       "<Figure size 432x288 with 1 Axes>"
      ]
     },
     "metadata": {
      "needs_background": "light"
     },
     "output_type": "display_data"
    }
   ],
   "source": [
    "pd.DataFrame(history.history).plot(figsize = (6,4))\n",
    "plt.grid(True)\n",
    "plt.gca().set_ylim(0, 1)\n",
    "plt.show()"
   ]
  },
  {
   "cell_type": "markdown",
   "metadata": {},
   "source": [
    "To evaluated the model's performances on the test set we can simply call the **evaluate()** method, which will return the loss and the others metrics that keras has been told to track (accuracy, in this case)."
   ]
  },
  {
   "cell_type": "code",
   "execution_count": 23,
   "metadata": {},
   "outputs": [
    {
     "name": "stdout",
     "output_type": "stream",
     "text": [
      "10000/10000 [==============================] - 0s 28us/step\n"
     ]
    },
    {
     "data": {
      "text/plain": [
       "[68.94434970617294, 0.8396999835968018]"
      ]
     },
     "execution_count": 23,
     "metadata": {},
     "output_type": "execute_result"
    }
   ],
   "source": [
    "model.evaluate(x_test, y_test)"
   ]
  },
  {
   "cell_type": "markdown",
   "metadata": {},
   "source": [
    "Finally, we can make predictions on new data and compare predicted labels (x_axis) with actual labels (y_axis)."
   ]
  },
  {
   "cell_type": "code",
   "execution_count": 24,
   "metadata": {},
   "outputs": [
    {
     "data": {
      "image/png": "[encoded data removed]",
      "text/plain": [
       "<Figure size 360x360 with 9 Axes>"
      ]
     },
     "metadata": {},
     "output_type": "display_data"
    }
   ],
   "source": [
    "y_proba = model.predict(x_test[:9])\n",
    "y_preds = model.predict_classes(x_test[:9])\n",
    "\n",
    "# plot actual vs predicted classes\n",
    "plt.figure(figsize=(5,5))\n",
    "for i in range(9):\n",
    "    plt.subplot(3,3,i+1)\n",
    "    plt.xticks([])\n",
    "    plt.yticks([])\n",
    "    plt.grid(False)\n",
    "    plt.imshow(x_test[i], cmap=plt.cm.binary)\n",
    "    plt.ylabel(labels[y_test[i]])\n",
    "    plt.xlabel(labels[y_preds[i]])\n",
    "plt.show()"
   ]
  }
 ],
 "metadata": {
  "kernelspec": {
   "display_name": "newpy36",
   "language": "python",
   "name": "newpy36"
  },
  "language_info": {
   "codemirror_mode": {
    "name": "ipython",
    "version": 3
   },
   "file_extension": ".py",
   "mimetype": "text/x-python",
   "name": "python",
   "nbconvert_exporter": "python",
   "pygments_lexer": "ipython3",
   "version": "3.7.6"
  }
 },
 "nbformat": 4,
 "nbformat_minor": 4
}
