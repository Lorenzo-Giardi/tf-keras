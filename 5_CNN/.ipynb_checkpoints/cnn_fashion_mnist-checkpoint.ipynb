{
 "cells": [
  {
   "cell_type": "markdown",
   "metadata": {},
   "source": [
    "# CNN Fashion MNIST\n"
   ]
  },
  {
   "cell_type": "markdown",
   "metadata": {},
   "source": [
    "<table align=\"left\">\n",
    "  <td>\n",
    "    <a target=\"_blank\" href=\"https://colab.research.google.com/github/Lorenzo-Giardi/tf-keras/blob/master/5_CNN/cnn_fashion_mnist.ipynb\"><img src=\"https://www.tensorflow.org/images/colab_logo_32px.png\" />Run in Google Colab</a>\n",
    "  </td>\n",
    "</table>"
   ]
  },
  {
   "cell_type": "code",
   "execution_count": 1,
   "metadata": {},
   "outputs": [],
   "source": [
    "# use in colab\n",
    "# %tensorflow_version 2.x"
   ]
  },
  {
   "cell_type": "code",
   "execution_count": 2,
   "metadata": {},
   "outputs": [],
   "source": [
    "import tensorflow as tf\n",
    "import tensorflow.keras as keras\n",
    "import numpy as np\n",
    "import seaborn as sns\n",
    "import pandas as pd\n",
    "from matplotlib import pyplot as plt\n",
    "from tensorflow.keras.losses import mean_squared_error\n",
    "from tensorflow.keras.models import Sequential\n",
    "from tensorflow.keras.layers import Flatten, Dense, Conv2D, MaxPooling2D, Dropout, AveragePooling2D\n",
    "\n",
    "np.random.seed(42)\n",
    "tf.random.set_seed(42)"
   ]
  },
  {
   "cell_type": "markdown",
   "metadata": {},
   "source": [
    "## Data\n",
    "We use the usual Fashion MNIST dataset and images are standardized. Notice that they could be simply rescaled dividing by 255."
   ]
  },
  {
   "cell_type": "code",
   "execution_count": 3,
   "metadata": {},
   "outputs": [],
   "source": [
    "(X_train_full, y_train_full), (X_test, y_test) = keras.datasets.fashion_mnist.load_data()\n",
    "X_train, X_valid = X_train_full[:-5000], X_train_full[-5000:]\n",
    "y_train, y_valid = y_train_full[:-5000], y_train_full[-5000:]\n",
    "\n",
    "X_mean = X_train.mean(axis=0, keepdims=True)\n",
    "X_std = X_train.std(axis=0, keepdims=True) + 1e-7\n",
    "X_train = (X_train - X_mean) / X_std\n",
    "X_valid = (X_valid - X_mean) / X_std\n",
    "X_test = (X_test - X_mean) / X_std"
   ]
  },
  {
   "cell_type": "markdown",
   "metadata": {},
   "source": [
    "Convolutional 2D layers expect the single input data to be 3D, with dimensions [height, width, channels], however Fashion MNIST images are grey-scale, thus they do not have a channel axis. We can directly add it to the data using np.newaxis or we can begin the network with a reshape layer. Notice that while the single image should be 3D, a minibatch of multiple images will be a 4D tensor with dimensions [batch_size, height, width, channels]."
   ]
  },
  {
   "cell_type": "code",
   "execution_count": 4,
   "metadata": {},
   "outputs": [
    {
     "name": "stdout",
     "output_type": "stream",
     "text": [
      "Training set shape: (55000, 28, 28, 1)\n"
     ]
    }
   ],
   "source": [
    "X_train = X_train[..., np.newaxis]\n",
    "X_valid = X_valid[..., np.newaxis]\n",
    "X_test = X_test[..., np.newaxis]\n",
    "\n",
    "print(f'Training set shape: {X_train.shape}')"
   ]
  },
  {
   "cell_type": "code",
   "execution_count": 5,
   "metadata": {},
   "outputs": [],
   "source": [
    "labels = ['T-shirt', 'Troursers', 'Pullover', 'Dress', 'Coat', 'Sandal',\n",
    "              'Shirt', 'Sneaker', 'Bag', 'Ankle_boot']"
   ]
  },
  {
   "cell_type": "markdown",
   "metadata": {},
   "source": [
    "## Convolutional layers\n",
    "When dealing with images, convolutional layers generally outperform fully connected one because they are better at recognizing small patterns, like lines and circles. The core idea is that of a **receptive field**: while neurons in a FC layers are connected with every neuron in the preceeding layer, neurons in a convolutional layer are only connected to a local subset of neurons in the preceeding layer. \\\n",
    "The width and heigh of this receptive field is determined by the kernel_size parameter. Then, this kind of filter will be swept all over the image according to the stride parameter, which determines the filter's movement in each direction. Near the edges there could be a mismatch between the filter and the image, which can be either solved by discarding these corner pixels (padding = 'valid', aka no-padding) or by zero-padding wherever needed (padding = 'same').  \\\n",
    "A filter will output a **feature map**, i.e. a new image that highlights certain features of the original image (e.g. horizontal lines). Each convolutional layer combines multiple filters, which will thus produce multiple feature maps as their outputs. These are stacked together exactly like RGB channels in a colour image. Thus, convolutional layers effectively increase the depth of the images!"
   ]
  },
  {
   "cell_type": "code",
   "execution_count": 6,
   "metadata": {},
   "outputs": [
    {
     "data": {
      "text/plain": [
       "<tensorflow.python.keras.layers.convolutional.Conv2D at 0x7f3c17cdafd0>"
      ]
     },
     "execution_count": 6,
     "metadata": {},
     "output_type": "execute_result"
    }
   ],
   "source": [
    "Conv2D(filters = 64, # number of filters, determines depth of output\n",
    "       kernel_size = (3,3), # could be a single integer\n",
    "       strides = (1,1), # could be a single integer\n",
    "       activation='relu', \n",
    "       padding = 'same' # same or valid\n",
    "      )"
   ]
  },
  {
   "cell_type": "markdown",
   "metadata": {},
   "source": [
    "## Pooling layers\n",
    "Since convolutional layers increase the depth of images, we need to **downscale** their resolution (i.e. their height and width) in order to keep the data size manageable. This is done through pooling layers, which perform a **local aggregation** by taking the mean or max value in a certain area of the image or feature map. "
   ]
  },
  {
   "cell_type": "code",
   "execution_count": 7,
   "metadata": {},
   "outputs": [
    {
     "data": {
      "text/plain": [
       "<tensorflow.python.keras.layers.pooling.MaxPooling2D at 0x7f3c8c82ec90>"
      ]
     },
     "execution_count": 7,
     "metadata": {},
     "output_type": "execute_result"
    }
   ],
   "source": [
    "MaxPooling2D(pool_size=(2,2), # halve size in each dimension, hence resolution is 1/4\n",
    "             strides=None, # automatically equal to pooling size\n",
    "             padding = 'valid'\n",
    "            )"
   ]
  },
  {
   "cell_type": "code",
   "execution_count": 8,
   "metadata": {},
   "outputs": [
    {
     "data": {
      "text/plain": [
       "<tensorflow.python.keras.layers.pooling.AveragePooling2D at 0x7f3c17ce1810>"
      ]
     },
     "execution_count": 8,
     "metadata": {},
     "output_type": "execute_result"
    }
   ],
   "source": [
    "AveragePooling2D(pool_size=(2,2), # halve size in each dimension, hence resolution is 1/4\n",
    "             strides=None, # automatically equal to pooling size\n",
    "             padding = 'valid'\n",
    "            )"
   ]
  },
  {
   "cell_type": "markdown",
   "metadata": {},
   "source": [
    "## Convolutional Network"
   ]
  },
  {
   "cell_type": "code",
   "execution_count": 9,
   "metadata": {},
   "outputs": [],
   "source": [
    "model = Sequential([\n",
    "    Conv2D(64, 7, activation='relu', padding = 'same', input_shape = [28, 28, 1]),\n",
    "    MaxPooling2D(2),\n",
    "    Conv2D(128, 3, activation='relu', padding = 'same'),\n",
    "    MaxPooling2D(2),\n",
    "    Conv2D(256, 3, activation='relu', padding = 'same'),\n",
    "    MaxPooling2D(2),\n",
    "    Flatten(),\n",
    "    Dense(64, activation='relu'),\n",
    "    Dropout(0.3),\n",
    "    Dense(64, activation='relu'),\n",
    "    Dropout(0.3),\n",
    "    Dense(10, activation='softmax')\n",
    "])"
   ]
  },
  {
   "cell_type": "code",
   "execution_count": 10,
   "metadata": {},
   "outputs": [
    {
     "name": "stdout",
     "output_type": "stream",
     "text": [
      "Model: \"sequential\"\n",
      "_________________________________________________________________\n",
      "Layer (type)                 Output Shape              Param #   \n",
      "=================================================================\n",
      "conv2d_1 (Conv2D)            (None, 28, 28, 64)        3200      \n",
      "_________________________________________________________________\n",
      "max_pooling2d_1 (MaxPooling2 (None, 14, 14, 64)        0         \n",
      "_________________________________________________________________\n",
      "conv2d_2 (Conv2D)            (None, 14, 14, 128)       73856     \n",
      "_________________________________________________________________\n",
      "max_pooling2d_2 (MaxPooling2 (None, 7, 7, 128)         0         \n",
      "_________________________________________________________________\n",
      "conv2d_3 (Conv2D)            (None, 7, 7, 256)         295168    \n",
      "_________________________________________________________________\n",
      "max_pooling2d_3 (MaxPooling2 (None, 3, 3, 256)         0         \n",
      "_________________________________________________________________\n",
      "flatten (Flatten)            (None, 2304)              0         \n",
      "_________________________________________________________________\n",
      "dense (Dense)                (None, 64)                147520    \n",
      "_________________________________________________________________\n",
      "dropout (Dropout)            (None, 64)                0         \n",
      "_________________________________________________________________\n",
      "dense_1 (Dense)              (None, 64)                4160      \n",
      "_________________________________________________________________\n",
      "dropout_1 (Dropout)          (None, 64)                0         \n",
      "_________________________________________________________________\n",
      "dense_2 (Dense)              (None, 10)                650       \n",
      "=================================================================\n",
      "Total params: 524,554\n",
      "Trainable params: 524,554\n",
      "Non-trainable params: 0\n",
      "_________________________________________________________________\n"
     ]
    }
   ],
   "source": [
    "model.summary()"
   ]
  },
  {
   "cell_type": "code",
   "execution_count": 11,
   "metadata": {},
   "outputs": [],
   "source": [
    "model.compile(loss = 'sparse_categorical_crossentropy', optimizer='nadam', metrics=['accuracy'])\n",
    "\n",
    "earlystop_cb = keras.callbacks.EarlyStopping(patience=5, restore_best_weights= True)"
   ]
  },
  {
   "cell_type": "code",
   "execution_count": 12,
   "metadata": {},
   "outputs": [
    {
     "name": "stdout",
     "output_type": "stream",
     "text": [
      "Train on 55000 samples, validate on 5000 samples\n",
      "Epoch 1/10\n",
      "55000/55000 [==============================] - 147s 3ms/sample - loss: 0.6002 - accuracy: 0.7888 - val_loss: 0.3397 - val_accuracy: 0.8762\n",
      "Epoch 2/10\n",
      "55000/55000 [==============================] - 151s 3ms/sample - loss: 0.3702 - accuracy: 0.8713 - val_loss: 0.3091 - val_accuracy: 0.8888\n",
      "Epoch 3/10\n",
      "55000/55000 [==============================] - 145s 3ms/sample - loss: 0.3148 - accuracy: 0.8919 - val_loss: 0.2931 - val_accuracy: 0.8900\n",
      "Epoch 4/10\n",
      "55000/55000 [==============================] - 142s 3ms/sample - loss: 0.2804 - accuracy: 0.9009 - val_loss: 0.2857 - val_accuracy: 0.8982\n",
      "Epoch 5/10\n",
      "55000/55000 [==============================] - 143s 3ms/sample - loss: 0.2579 - accuracy: 0.9101 - val_loss: 0.2851 - val_accuracy: 0.8990\n",
      "Epoch 6/10\n",
      "55000/55000 [==============================] - 158s 3ms/sample - loss: 0.2377 - accuracy: 0.9163 - val_loss: 0.2513 - val_accuracy: 0.9064\n",
      "Epoch 7/10\n",
      "55000/55000 [==============================] - 145s 3ms/sample - loss: 0.2214 - accuracy: 0.9226 - val_loss: 0.2578 - val_accuracy: 0.9070\n",
      "Epoch 8/10\n",
      "55000/55000 [==============================] - 151s 3ms/sample - loss: 0.2071 - accuracy: 0.9278 - val_loss: 0.2591 - val_accuracy: 0.9078\n",
      "Epoch 9/10\n",
      "55000/55000 [==============================] - 155s 3ms/sample - loss: 0.1922 - accuracy: 0.9319 - val_loss: 0.2800 - val_accuracy: 0.9018\n",
      "Epoch 10/10\n",
      "55000/55000 [==============================] - 146s 3ms/sample - loss: 0.1824 - accuracy: 0.9356 - val_loss: 0.2738 - val_accuracy: 0.9082\n"
     ]
    }
   ],
   "source": [
    "history = model.fit(X_train, y_train, epochs = 10, \n",
    "                    validation_data = (X_valid, y_valid),\n",
    "                    callbacks=[earlystop_cb]\n",
    "                   )"
   ]
  },
  {
   "cell_type": "code",
   "execution_count": 13,
   "metadata": {},
   "outputs": [
    {
     "data": {
      "image/png": "[encoded data removed]",
      "text/plain": [
       "<Figure size 432x288 with 1 Axes>"
      ]
     },
     "metadata": {
      "needs_background": "light"
     },
     "output_type": "display_data"
    }
   ],
   "source": [
    "pd.DataFrame(history.history).plot(figsize = (6,4))\n",
    "plt.grid(True)\n",
    "plt.gca().set_ylim(0, 1)\n",
    "plt.show()"
   ]
  },
  {
   "cell_type": "code",
   "execution_count": 14,
   "metadata": {},
   "outputs": [
    {
     "name": "stdout",
     "output_type": "stream",
     "text": [
      "10000/10000 [==============================] - 7s 699us/sample - loss: 0.2837 - accuracy: 0.9059\n"
     ]
    },
    {
     "data": {
      "text/plain": [
       "[0.2837317298173904, 0.9059]"
      ]
     },
     "execution_count": 14,
     "metadata": {},
     "output_type": "execute_result"
    }
   ],
   "source": [
    "model.evaluate(X_test, y_test)"
   ]
  },
  {
   "cell_type": "code",
   "execution_count": 20,
   "metadata": {},
   "outputs": [
    {
     "data": {
      "image/png": "[encoded data removed]",
      "text/plain": [
       "<Figure size 360x360 with 9 Axes>"
      ]
     },
     "metadata": {},
     "output_type": "display_data"
    }
   ],
   "source": [
    "y_proba = model.predict(X_test[:9])\n",
    "y_preds = model.predict_classes(X_test[:9])\n",
    "\n",
    "# plot actual vs predicted classes\n",
    "plt.figure(figsize=(5,5))\n",
    "for i in range(9):\n",
    "    plt.subplot(3,3,i+1)\n",
    "    plt.xticks([])\n",
    "    plt.yticks([])\n",
    "    plt.grid(False)\n",
    "    plt.imshow(X_test.squeeze()[i], cmap=plt.cm.binary)\n",
    "    plt.ylabel(labels[y_test[i]])\n",
    "    plt.xlabel(labels[y_preds[i]])\n",
    "plt.show()"
   ]
  },
  {
   "cell_type": "code",
   "execution_count": null,
   "metadata": {},
   "outputs": [],
   "source": []
  }
 ],
 "metadata": {
  "kernelspec": {
   "display_name": "newpy36",
   "language": "python",
   "name": "newpy36"
  },
  "language_info": {
   "codemirror_mode": {
    "name": "ipython",
    "version": 3
   },
   "file_extension": ".py",
   "mimetype": "text/x-python",
   "name": "python",
   "nbconvert_exporter": "python",
   "pygments_lexer": "ipython3",
   "version": "3.7.6"
  }
 },
 "nbformat": 4,
 "nbformat_minor": 4
}
