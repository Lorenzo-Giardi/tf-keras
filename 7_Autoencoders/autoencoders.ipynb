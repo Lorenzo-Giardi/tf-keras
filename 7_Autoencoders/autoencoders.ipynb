{
 "cells": [
  {
   "cell_type": "markdown",
   "metadata": {},
   "source": [
    "# Autoencoders\n",
    "Autoencoders are neural networks able to learn dense representations of the input data in a unsupervised way. The lower dimensionality output is generally called latent representation or coding. The goal of the algorithm is to reduce dimensionality (hence operate a compression), while minimizing the compression loss, i.e. the amount of information that is not possible to retrieve after the decompression.\n",
    "An autoencoder is composed of two main parts: an **encoder** which converts the original inputs to a reduced latent representation, and a **decoder** that does the inverse operation of converrting the internal representation to the output, which is simply a reconstruction of the original input."
   ]
  },
   {
   "cell_type": "markdown",
   "metadata": {},
   "source": [
    "<table align=\"left\">\n",
    "  <td>\n",
    "    <a target=\"_blank\" href=\"https://colab.research.google.com/github/Lorenzo-Giardi/tf-keras/blob/master/9_Autoencoders/autoencoders.ipynb\"><img src=\"https://www.tensorflow.org/images/colab_logo_32px.png\" />Run in Google Colab</a>\n",
    "  </td>\n",
    "</table>"
   ]
  },
  {
   "cell_type": "code",
   "execution_count": 1,
   "metadata": {},
   "outputs": [
    {
     "name": "stderr",
     "output_type": "stream",
     "text": [
      "Using TensorFlow backend.\n"
     ]
    }
   ],
   "source": [
    "import keras\n",
    "import tensorflow as tf\n",
    "import numpy as np\n",
    "import seaborn as sns\n",
    "import pandas as pd\n",
    "import matplotlib.pyplot as plt\n",
    "\n",
    "from keras.losses import mean_squared_error\n",
    "from keras.models import Sequential\n",
    "from keras.layers import Flatten, Dense, SimpleRNN, Input, Concatenate, Reshape, Conv2D, MaxPool2D, Conv2DTranspose\n",
    "from keras.optimizers import SGD, adam, nadam\n",
    "\n",
    "from sklearn.datasets import fetch_california_housing\n",
    "from sklearn.model_selection import train_test_split\n",
    "from sklearn.preprocessing import StandardScaler"
   ]
  },
  {
   "cell_type": "code",
   "execution_count": 2,
   "metadata": {},
   "outputs": [],
   "source": [
    "random_seed = 56841\n",
    "np.random.seed(random_seed)\n",
    "tf.random.set_seed(random_seed)"
   ]
  },
  {
   "cell_type": "markdown",
   "metadata": {},
   "source": [
    "## PCA\n",
    "When an autoencoder only uses linear activation functions and the MSE is used as the cost function, then the network will perfom linear PCA."
   ]
  },
  {
   "cell_type": "code",
   "execution_count": 3,
   "metadata": {},
   "outputs": [
    {
     "data": {
      "text/plain": [
       "(8,)"
      ]
     },
     "execution_count": 3,
     "metadata": {},
     "output_type": "execute_result"
    }
   ],
   "source": [
    "# load some data\n",
    "housing = fetch_california_housing()\n",
    "x_train, x_val, y_train, y_val = train_test_split(\n",
    "                                housing.data, housing.target, random_state = random_seed)\n",
    "\n",
    "scl = StandardScaler()\n",
    "x_train = scl.fit_transform(x_train)\n",
    "x_val = scl.transform(x_val)\n",
    "\n",
    "x_train.shape[1:]"
   ]
  },
  {
   "cell_type": "code",
   "execution_count": 4,
   "metadata": {},
   "outputs": [],
   "source": [
    "encoder = Sequential([Dense(2, input_shape=x_train.shape[1:])])\n",
    "decoder = Sequential([Dense(8, input_shape=[2])])\n",
    "autoencoder = Sequential([encoder, decoder])"
   ]
  },
  {
   "cell_type": "code",
   "execution_count": 5,
   "metadata": {},
   "outputs": [],
   "source": [
    "autoencoder.compile(loss='mse', optimizer='nadam')"
   ]
  },
  {
   "cell_type": "code",
   "execution_count": 6,
   "metadata": {},
   "outputs": [
    {
     "name": "stdout",
     "output_type": "stream",
     "text": [
      "Train on 15480 samples, validate on 5160 samples\n",
      "Epoch 1/20\n",
      "15480/15480 [==============================] - 1s 73us/step - loss: 0.8254 - val_loss: 0.5834\n",
      "Epoch 2/20\n",
      "15480/15480 [==============================] - 1s 51us/step - loss: 0.7130 - val_loss: 0.5390\n",
      "Epoch 3/20\n",
      "15480/15480 [==============================] - 1s 50us/step - loss: 0.6658 - val_loss: 0.5056\n",
      "Epoch 4/20\n",
      "15480/15480 [==============================] - 1s 45us/step - loss: 0.6280 - val_loss: 0.4770\n",
      "Epoch 5/20\n",
      "15480/15480 [==============================] - 1s 51us/step - loss: 0.5976 - val_loss: 0.4596\n",
      "Epoch 6/20\n",
      "15480/15480 [==============================] - 1s 43us/step - loss: 0.5763 - val_loss: 0.4489\n",
      "Epoch 7/20\n",
      "15480/15480 [==============================] - 1s 42us/step - loss: 0.5585 - val_loss: 0.4413\n",
      "Epoch 8/20\n",
      "15480/15480 [==============================] - 1s 42us/step - loss: 0.5445 - val_loss: 0.4358\n",
      "Epoch 9/20\n",
      "15480/15480 [==============================] - 1s 42us/step - loss: 0.5352 - val_loss: 0.4325\n",
      "Epoch 10/20\n",
      "15480/15480 [==============================] - 1s 41us/step - loss: 0.5281 - val_loss: 0.4320\n",
      "Epoch 11/20\n",
      "15480/15480 [==============================] - 1s 41us/step - loss: 0.5227 - val_loss: 0.4306\n",
      "Epoch 12/20\n",
      "15480/15480 [==============================] - 1s 42us/step - loss: 0.5199 - val_loss: 0.4306\n",
      "Epoch 13/20\n",
      "15480/15480 [==============================] - 1s 42us/step - loss: 0.5171 - val_loss: 0.4303\n",
      "Epoch 14/20\n",
      "15480/15480 [==============================] - 1s 42us/step - loss: 0.5155 - val_loss: 0.4302\n",
      "Epoch 15/20\n",
      "15480/15480 [==============================] - 1s 42us/step - loss: 0.5150 - val_loss: 0.4302\n",
      "Epoch 16/20\n",
      "15480/15480 [==============================] - 1s 41us/step - loss: 0.5143 - val_loss: 0.4300\n",
      "Epoch 17/20\n",
      "15480/15480 [==============================] - 1s 41us/step - loss: 0.5134 - val_loss: 0.4306\n",
      "Epoch 18/20\n",
      "15480/15480 [==============================] - 1s 41us/step - loss: 0.5130 - val_loss: 0.4306\n",
      "Epoch 19/20\n",
      "15480/15480 [==============================] - 1s 41us/step - loss: 0.5134 - val_loss: 0.4319\n",
      "Epoch 20/20\n",
      "15480/15480 [==============================] - 1s 42us/step - loss: 0.5127 - val_loss: 0.4316\n"
     ]
    }
   ],
   "source": [
    "history_1 = autoencoder.fit(x_train, x_train, epochs=20, validation_data=[x_val, x_val])"
   ]
  },
  {
   "cell_type": "code",
   "execution_count": 7,
   "metadata": {},
   "outputs": [
    {
     "data": {
      "text/plain": [
       "(15480, 2)"
      ]
     },
     "execution_count": 7,
     "metadata": {},
     "output_type": "execute_result"
    }
   ],
   "source": [
    "pca_encoding = encoder.predict(x_train)\n",
    "pca_encoding_val = encoder.predict(x_val)\n",
    "pca_encoding.shape"
   ]
  },
  {
   "cell_type": "code",
   "execution_count": 8,
   "metadata": {},
   "outputs": [
    {
     "data": {
      "image/png": "[encoded data removed]",
      "text/plain": [
       "<Figure size 432x288 with 1 Axes>"
      ]
     },
     "metadata": {
      "needs_background": "light"
     },
     "output_type": "display_data"
    }
   ],
   "source": [
    "sns.scatterplot(pca_encoding[:,0], pca_encoding[:,1], alpha=0.75)\n",
    "plt.show()"
   ]
  },
  {
   "cell_type": "markdown",
   "metadata": {},
   "source": [
    "#### Now lets repeat PCA using the **SK-learn** function and compare the results."
   ]
  },
  {
   "cell_type": "code",
   "execution_count": 9,
   "metadata": {},
   "outputs": [
    {
     "data": {
      "text/plain": [
       "(5160, 2)"
      ]
     },
     "execution_count": 9,
     "metadata": {},
     "output_type": "execute_result"
    }
   ],
   "source": [
    "from sklearn.decomposition import PCA\n",
    "pca = PCA(n_components=2)\n",
    "pca.fit(x_train)\n",
    "pca_x = pca.transform(x_val)\n",
    "pca_x.shape"
   ]
  },
  {
   "cell_type": "code",
   "execution_count": 10,
   "metadata": {},
   "outputs": [
    {
     "data": {
      "image/png": "[encoded data removed]",
      "text/plain": [
       "<Figure size 432x288 with 1 Axes>"
      ]
     },
     "metadata": {
      "needs_background": "light"
     },
     "output_type": "display_data"
    }
   ],
   "source": [
    "sns.scatterplot(pca_x[:,1], pca_x[:,0], alpha=0.75)\n",
    "plt.show()"
   ]
  },
  {
   "cell_type": "markdown",
   "metadata": {},
   "source": [
    "## Stacked Autoencoders\n",
    "Rather than using plain simple linear PCA, we may want to use a stacked autoencoder with multiple non-linear layer. These are simple fully-connected layers, however, attention must be paid to avoid overfitting!"
   ]
  },
  {
   "cell_type": "code",
   "execution_count": 11,
   "metadata": {},
   "outputs": [],
   "source": [
    "encoder = Sequential([Dense(6, activation='relu', input_shape=x_train.shape[1:]),\n",
    "                      Dense(2, activation='relu')])\n",
    "decoder = Sequential([Dense(6, activation='relu', input_shape=[2]),\n",
    "                      Dense(8, input_shape=[2])])\n",
    "autoencoder = Sequential([encoder, decoder])"
   ]
  },
  {
   "cell_type": "code",
   "execution_count": 12,
   "metadata": {},
   "outputs": [],
   "source": [
    "autoencoder.compile(loss='mse', optimizer='nadam')"
   ]
  },
  {
   "cell_type": "code",
   "execution_count": 13,
   "metadata": {},
   "outputs": [
    {
     "name": "stdout",
     "output_type": "stream",
     "text": [
      "Train on 15480 samples, validate on 5160 samples\n",
      "Epoch 1/10\n",
      "15480/15480 [==============================] - 1s 59us/step - loss: 0.7573 - val_loss: 0.4467\n",
      "Epoch 2/10\n",
      "15480/15480 [==============================] - 1s 47us/step - loss: 0.5195 - val_loss: 0.3725\n",
      "Epoch 3/10\n",
      "15480/15480 [==============================] - 1s 50us/step - loss: 0.4387 - val_loss: 0.3392\n",
      "Epoch 4/10\n",
      "15480/15480 [==============================] - 1s 54us/step - loss: 0.4113 - val_loss: 0.3364\n",
      "Epoch 5/10\n",
      "15480/15480 [==============================] - 1s 51us/step - loss: 0.4000 - val_loss: 0.3206\n",
      "Epoch 6/10\n",
      "15480/15480 [==============================] - 1s 48us/step - loss: 0.3895 - val_loss: 0.3141\n",
      "Epoch 7/10\n",
      "15480/15480 [==============================] - 1s 48us/step - loss: 0.3791 - val_loss: 0.3139\n",
      "Epoch 8/10\n",
      "15480/15480 [==============================] - 1s 49us/step - loss: 0.3760 - val_loss: 0.3016\n",
      "Epoch 9/10\n",
      "15480/15480 [==============================] - 1s 47us/step - loss: 0.3615 - val_loss: 0.2960\n",
      "Epoch 10/10\n",
      "15480/15480 [==============================] - 1s 48us/step - loss: 0.3511 - val_loss: 0.2888\n"
     ]
    }
   ],
   "source": [
    "history_2 = autoencoder.fit(x_train, x_train, epochs=10, validation_data=[x_val, x_val])"
   ]
  },
  {
   "cell_type": "code",
   "execution_count": 14,
   "metadata": {},
   "outputs": [
    {
     "data": {
      "image/png": "[encoded data removed]",
      "text/plain": [
       "<Figure size 432x288 with 1 Axes>"
      ]
     },
     "metadata": {
      "needs_background": "light"
     },
     "output_type": "display_data"
    }
   ],
   "source": [
    "stack_encoding = encoder.predict(x_train)\n",
    "stack_encoding_val = encoder.predict(x_val)\n",
    "sns.scatterplot(stack_encoding[:,0], stack_encoding[:,1], alpha=0.75)\n",
    "plt.show()"
   ]
  },
  {
   "cell_type": "markdown",
   "metadata": {},
   "source": [
    "## Comparison: regression on encoded features"
   ]
  },
  {
   "cell_type": "code",
   "execution_count": 15,
   "metadata": {},
   "outputs": [
    {
     "name": "stdout",
     "output_type": "stream",
     "text": [
      "Train on 15480 samples, validate on 5160 samples\n",
      "Epoch 1/20\n",
      "15480/15480 [==============================] - 1s 53us/step - loss: 0.6802 - val_loss: 0.4300\n",
      "Epoch 2/20\n",
      "15480/15480 [==============================] - 1s 44us/step - loss: 0.4269 - val_loss: 0.3630\n",
      "Epoch 3/20\n",
      "15480/15480 [==============================] - 1s 45us/step - loss: 0.3824 - val_loss: 0.3482\n",
      "Epoch 4/20\n",
      "15480/15480 [==============================] - 1s 45us/step - loss: 0.3460 - val_loss: 0.3298\n",
      "Epoch 5/20\n",
      "15480/15480 [==============================] - 1s 45us/step - loss: 0.3348 - val_loss: 0.3321\n",
      "Epoch 6/20\n",
      "15480/15480 [==============================] - 1s 46us/step - loss: 0.3247 - val_loss: 0.3096\n",
      "Epoch 7/20\n",
      "15480/15480 [==============================] - 1s 46us/step - loss: 0.3133 - val_loss: 0.3031\n",
      "Epoch 8/20\n",
      "15480/15480 [==============================] - 1s 47us/step - loss: 0.3181 - val_loss: 0.2994\n",
      "Epoch 9/20\n",
      "15480/15480 [==============================] - 1s 46us/step - loss: 0.3093 - val_loss: 0.3024\n",
      "Epoch 10/20\n",
      "15480/15480 [==============================] - 1s 44us/step - loss: 0.3000 - val_loss: 0.2996\n",
      "Epoch 11/20\n",
      "15480/15480 [==============================] - 1s 46us/step - loss: 0.3003 - val_loss: 0.3061\n",
      "Epoch 12/20\n",
      "15480/15480 [==============================] - 1s 45us/step - loss: 0.2961 - val_loss: 0.2907\n",
      "Epoch 13/20\n",
      "15480/15480 [==============================] - 1s 47us/step - loss: 0.2899 - val_loss: 0.2853\n",
      "Epoch 14/20\n",
      "15480/15480 [==============================] - 1s 46us/step - loss: 0.2874 - val_loss: 0.2870\n",
      "Epoch 15/20\n",
      "15480/15480 [==============================] - 1s 45us/step - loss: 0.2897 - val_loss: 0.2872\n",
      "Epoch 16/20\n",
      "15480/15480 [==============================] - 1s 45us/step - loss: 0.2821 - val_loss: 0.2832\n",
      "Epoch 17/20\n",
      "15480/15480 [==============================] - 1s 46us/step - loss: 0.2807 - val_loss: 0.2771\n",
      "Epoch 18/20\n",
      "15480/15480 [==============================] - 1s 46us/step - loss: 0.2741 - val_loss: 0.2804\n",
      "Epoch 19/20\n",
      "15480/15480 [==============================] - 1s 45us/step - loss: 0.2728 - val_loss: 0.2738\n",
      "Epoch 20/20\n",
      "15480/15480 [==============================] - 1s 45us/step - loss: 0.2716 - val_loss: 0.2709\n"
     ]
    }
   ],
   "source": [
    "model = Sequential([\n",
    "        Dense(50, activation='relu', input_shape = x_train.shape[1:]),\n",
    "        Dense(50, activation='relu'),\n",
    "        Dense(1)\n",
    "        ])\n",
    "model.compile(loss = 'mse', optimizer = 'nadam')\n",
    "history = model.fit(x_train, y_train, epochs=20, validation_data=(x_val, y_val))"
   ]
  },
  {
   "cell_type": "code",
   "execution_count": 16,
   "metadata": {},
   "outputs": [
    {
     "name": "stdout",
     "output_type": "stream",
     "text": [
      "Train on 15480 samples, validate on 5160 samples\n",
      "Epoch 1/20\n",
      "15480/15480 [==============================] - 1s 52us/step - loss: 1.3954 - val_loss: 1.0359\n",
      "Epoch 2/20\n",
      "15480/15480 [==============================] - 1s 44us/step - loss: 1.0475 - val_loss: 0.9811\n",
      "Epoch 3/20\n",
      "15480/15480 [==============================] - 1s 44us/step - loss: 0.9958 - val_loss: 0.9654\n",
      "Epoch 4/20\n",
      "15480/15480 [==============================] - 1s 42us/step - loss: 0.9933 - val_loss: 1.0089\n",
      "Epoch 5/20\n",
      "15480/15480 [==============================] - 1s 45us/step - loss: 0.9986 - val_loss: 0.9547\n",
      "Epoch 6/20\n",
      "15480/15480 [==============================] - 1s 45us/step - loss: 0.9687 - val_loss: 0.9435\n",
      "Epoch 7/20\n",
      "15480/15480 [==============================] - 1s 44us/step - loss: 0.9742 - val_loss: 0.9407\n",
      "Epoch 8/20\n",
      "15480/15480 [==============================] - 1s 44us/step - loss: 0.9683 - val_loss: 0.9379\n",
      "Epoch 9/20\n",
      "15480/15480 [==============================] - 1s 48us/step - loss: 0.9638 - val_loss: 0.9344\n",
      "Epoch 10/20\n",
      "15480/15480 [==============================] - 1s 48us/step - loss: 0.9642 - val_loss: 0.9362\n",
      "Epoch 11/20\n",
      "15480/15480 [==============================] - 1s 46us/step - loss: 0.9609 - val_loss: 0.9418\n",
      "Epoch 12/20\n",
      "15480/15480 [==============================] - 1s 46us/step - loss: 0.9599 - val_loss: 0.9698\n",
      "Epoch 13/20\n",
      "15480/15480 [==============================] - 1s 46us/step - loss: 0.9551 - val_loss: 0.9443\n",
      "Epoch 14/20\n",
      "15480/15480 [==============================] - 1s 52us/step - loss: 0.9896 - val_loss: 0.9294\n",
      "Epoch 15/20\n",
      "15480/15480 [==============================] - 1s 44us/step - loss: 0.9540 - val_loss: 0.9323\n",
      "Epoch 16/20\n",
      "15480/15480 [==============================] - 1s 46us/step - loss: 0.9526 - val_loss: 0.9410\n",
      "Epoch 17/20\n",
      "15480/15480 [==============================] - 1s 49us/step - loss: 0.9565 - val_loss: 0.9344\n",
      "Epoch 18/20\n",
      "15480/15480 [==============================] - 1s 55us/step - loss: 0.9530 - val_loss: 0.9279\n",
      "Epoch 19/20\n",
      "15480/15480 [==============================] - 1s 47us/step - loss: 0.9513 - val_loss: 0.9270\n",
      "Epoch 20/20\n",
      "15480/15480 [==============================] - 1s 46us/step - loss: 0.9507 - val_loss: 0.9312\n"
     ]
    }
   ],
   "source": [
    "model = Sequential([\n",
    "        Dense(50, activation='relu', input_shape = pca_encoding.shape[1:]),\n",
    "        Dense(50, activation='relu'),\n",
    "        Dense(1)\n",
    "        ])\n",
    "model.compile(loss = 'mse', optimizer = 'nadam')\n",
    "history = model.fit(pca_encoding, y_train, epochs=20, validation_data=(pca_encoding_val, y_val))"
   ]
  },
  {
   "cell_type": "code",
   "execution_count": 17,
   "metadata": {},
   "outputs": [
    {
     "name": "stdout",
     "output_type": "stream",
     "text": [
      "Train on 15480 samples, validate on 5160 samples\n",
      "Epoch 1/20\n",
      "15480/15480 [==============================] - 1s 53us/step - loss: 1.4831 - val_loss: 1.1803\n",
      "Epoch 2/20\n",
      "15480/15480 [==============================] - 1s 44us/step - loss: 1.2324 - val_loss: 1.1388\n",
      "Epoch 3/20\n",
      "15480/15480 [==============================] - 1s 47us/step - loss: 1.1966 - val_loss: 2.1368\n",
      "Epoch 4/20\n",
      "15480/15480 [==============================] - 1s 46us/step - loss: 1.2422 - val_loss: 1.1815\n",
      "Epoch 5/20\n",
      "15480/15480 [==============================] - 1s 43us/step - loss: 1.1744 - val_loss: 1.0948\n",
      "Epoch 6/20\n",
      "15480/15480 [==============================] - 1s 45us/step - loss: 1.1450 - val_loss: 1.0934\n",
      "Epoch 7/20\n",
      "15480/15480 [==============================] - 1s 45us/step - loss: 1.1264 - val_loss: 1.0796\n",
      "Epoch 8/20\n",
      "15480/15480 [==============================] - 1s 44us/step - loss: 1.1409 - val_loss: 1.0788\n",
      "Epoch 9/20\n",
      "15480/15480 [==============================] - 1s 45us/step - loss: 1.1120 - val_loss: 1.0553\n",
      "Epoch 10/20\n",
      "15480/15480 [==============================] - 1s 45us/step - loss: 1.0788 - val_loss: 1.0367\n",
      "Epoch 11/20\n",
      "15480/15480 [==============================] - 1s 47us/step - loss: 1.0690 - val_loss: 1.0417\n",
      "Epoch 12/20\n",
      "15480/15480 [==============================] - 1s 44us/step - loss: 1.0570 - val_loss: 1.0212\n",
      "Epoch 13/20\n",
      "15480/15480 [==============================] - 1s 44us/step - loss: 1.0705 - val_loss: 1.0103\n",
      "Epoch 14/20\n",
      "15480/15480 [==============================] - 1s 44us/step - loss: 1.0349 - val_loss: 1.0003\n",
      "Epoch 15/20\n",
      "15480/15480 [==============================] - 1s 44us/step - loss: 1.0333 - val_loss: 0.9897\n",
      "Epoch 16/20\n",
      "15480/15480 [==============================] - 1s 44us/step - loss: 1.0211 - val_loss: 0.9915\n",
      "Epoch 17/20\n",
      "15480/15480 [==============================] - 1s 46us/step - loss: 1.0132 - val_loss: 0.9849\n",
      "Epoch 18/20\n",
      "15480/15480 [==============================] - 1s 45us/step - loss: 1.0084 - val_loss: 0.9665\n",
      "Epoch 19/20\n",
      "15480/15480 [==============================] - 1s 44us/step - loss: 1.0063 - val_loss: 1.0009\n",
      "Epoch 20/20\n",
      "15480/15480 [==============================] - 1s 47us/step - loss: 1.0042 - val_loss: 0.9704\n"
     ]
    }
   ],
   "source": [
    "model = Sequential([\n",
    "        Dense(50, activation='relu', input_shape = pca_encoding.shape[1:]),\n",
    "        Dense(50, activation='relu'),\n",
    "        Dense(1)\n",
    "        ])\n",
    "model.compile(loss = 'mse', optimizer = 'nadam')\n",
    "history = model.fit(stack_encoding, y_train, epochs=20, validation_data=(stack_encoding_val, y_val))"
   ]
  },
  {
   "cell_type": "markdown",
   "metadata": {},
   "source": [
    "## Encoding Fashion MNIST\n",
    "The dataframe used up to now has only 8 features, thus it makes little sense to use apply a feature dimensionality technique! Instead, Fashion MNIST have 28x28=784 input features (i.e. each pixel)."
   ]
  },
  {
   "cell_type": "code",
   "execution_count": 18,
   "metadata": {},
   "outputs": [],
   "source": [
    "fashion_mnist = keras.datasets.fashion_mnist\n",
    "(x_train, y_train), (x_test, y_test) = fashion_mnist.load_data()\n",
    "x_val, x_train = x_train[:5000] / 255.0, x_train[5000:] /255.0\n",
    "y_val, y_train = y_train[:5000], y_train[5000:]"
   ]
  },
  {
   "cell_type": "markdown",
   "metadata": {},
   "source": [
    "Notice that the final output layer should have a sigmoid activation because the pixel intensity is between 0 and 1!"
   ]
  },
  {
   "cell_type": "code",
   "execution_count": 19,
   "metadata": {},
   "outputs": [],
   "source": [
    "encoder = Sequential([\n",
    "    Flatten(input_shape = [28, 28]),\n",
    "    Dense(100, activation='selu'),\n",
    "    Dense(50, activation='selu'),\n",
    "])\n",
    "decoder = Sequential([\n",
    "    Dense(100, activation='selu', input_shape = [50]),\n",
    "    Dense(784, activation='sigmoid'),\n",
    "    Reshape([28,28])\n",
    "])\n",
    "stacked_ae = Sequential([encoder, decoder])"
   ]
  },
  {
   "cell_type": "code",
   "execution_count": 20,
   "metadata": {},
   "outputs": [],
   "source": [
    "stacked_ae.compile(loss = 'binary_crossentropy', optimizer = 'nadam')"
   ]
  },
  {
   "cell_type": "code",
   "execution_count": 21,
   "metadata": {},
   "outputs": [
    {
     "name": "stdout",
     "output_type": "stream",
     "text": [
      "Train on 55000 samples, validate on 5000 samples\n",
      "Epoch 1/10\n",
      "55000/55000 [==============================] - 8s 141us/step - loss: 0.3031 - val_loss: 0.2819\n",
      "Epoch 2/10\n",
      "55000/55000 [==============================] - 7s 136us/step - loss: 0.2823 - val_loss: 0.2779\n",
      "Epoch 3/10\n",
      "55000/55000 [==============================] - 7s 135us/step - loss: 0.2781 - val_loss: 0.2742\n",
      "Epoch 4/10\n",
      "55000/55000 [==============================] - 7s 136us/step - loss: 0.2758 - val_loss: 0.2718\n",
      "Epoch 5/10\n",
      "55000/55000 [==============================] - 7s 135us/step - loss: 0.2742 - val_loss: 0.2711\n",
      "Epoch 6/10\n",
      "55000/55000 [==============================] - 8s 137us/step - loss: 0.2731 - val_loss: 0.2699\n",
      "Epoch 7/10\n",
      "55000/55000 [==============================] - 7s 134us/step - loss: 0.2722 - val_loss: 0.2692\n",
      "Epoch 8/10\n",
      "55000/55000 [==============================] - 7s 135us/step - loss: 0.2715 - val_loss: 0.2684\n",
      "Epoch 9/10\n",
      "55000/55000 [==============================] - 8s 138us/step - loss: 0.2710 - val_loss: 0.2679\n",
      "Epoch 10/10\n",
      "55000/55000 [==============================] - 7s 134us/step - loss: 0.2706 - val_loss: 0.2686\n"
     ]
    }
   ],
   "source": [
    "history_ae = stacked_ae.fit(x_train, x_train, epochs=10, validation_data=[x_val, x_val])"
   ]
  },
  {
   "cell_type": "markdown",
   "metadata": {},
   "source": [
    "#### We can plot the compressed images and compare them with the original ones"
   ]
  },
  {
   "cell_type": "code",
   "execution_count": 22,
   "metadata": {},
   "outputs": [],
   "source": [
    "reconstructions = stacked_ae.predict(x_val[:10])"
   ]
  },
  {
   "cell_type": "code",
   "execution_count": 23,
   "metadata": {},
   "outputs": [
    {
     "data": {
      "image/png": "[encoded data removed]",
      "text/plain": [
       "<Figure size 720x360 with 10 Axes>"
      ]
     },
     "metadata": {},
     "output_type": "display_data"
    }
   ],
   "source": [
    "plt.figure(figsize=(10,5))\n",
    "for i in range(5):\n",
    "    plt.subplot(2,5,i+1)\n",
    "    plt.xticks([])\n",
    "    plt.yticks([])\n",
    "    plt.grid(False)\n",
    "    plt.imshow(x_val[i], cmap=plt.cm.binary)\n",
    "for i in range(5):\n",
    "    plt.subplot(2,5,5+i+1)\n",
    "    plt.xticks([])\n",
    "    plt.yticks([])\n",
    "    plt.grid(False)\n",
    "    plt.imshow(reconstructions[i], cmap=plt.cm.binary)\n",
    "plt.show()"
   ]
  },
  {
   "cell_type": "markdown",
   "metadata": {},
   "source": [
    "Autoencoders (or PCA) can also be used as a first dimensionality reduction technique followed by another one (e.g. t-SNE which is computationally intensive). We can clearly see that some classes get separated very well."
   ]
  },
  {
   "cell_type": "code",
   "execution_count": 24,
   "metadata": {},
   "outputs": [],
   "source": [
    "from sklearn.manifold import TSNE\n",
    "\n",
    "x_val_ae = encoder.predict(x_val)\n",
    "tsne = TSNE()\n",
    "x_val_tsne = tsne.fit_transform(x_val_ae)"
   ]
  },
  {
   "cell_type": "code",
   "execution_count": 25,
   "metadata": {},
   "outputs": [
    {
     "data": {
      "text/plain": [
       "<matplotlib.collections.PathCollection at 0x7ff877f93e10>"
      ]
     },
     "execution_count": 25,
     "metadata": {},
     "output_type": "execute_result"
    },
    {
     "data": {
      "image/png": "[encoded data removed]",
      "text/plain": [
       "<Figure size 432x288 with 1 Axes>"
      ]
     },
     "metadata": {
      "needs_background": "light"
     },
     "output_type": "display_data"
    }
   ],
   "source": [
    "plt.scatter(x_val_tsne[:,0], x_val_tsne[:,1], c=y_val, s=10, cmap='tab10')"
   ]
  },
  {
   "cell_type": "markdown",
   "metadata": {},
   "source": [
    "## Convolutional Autoencoders\n",
    "Could be used for improved performances on images or sequences. The encoder part is a standard CNN, composed of convolutional and pooling layers, instead the decoder uses transpose convolutional layers which apply the reverse transformation."
   ]
  },
  {
   "cell_type": "code",
   "execution_count": 26,
   "metadata": {},
   "outputs": [],
   "source": [
    "conv_encoder = Sequential([\n",
    "    Reshape([28,28,1], input_shape=[28,28]),\n",
    "    Conv2D(16, 3, padding='same', activation='selu'),\n",
    "    MaxPool2D(2),\n",
    "    Conv2D(32, 3, padding='same', activation='selu'),\n",
    "    MaxPool2D(2),\n",
    "    Conv2D(32, 3, padding='same', activation='selu'),\n",
    "    MaxPool2D(2)\n",
    "])\n",
    "\n",
    "conv_decoder = Sequential([\n",
    "    Conv2DTranspose(32, 3, strides = 2, padding='valid', activation='selu', input_shape = [3,3,32]),\n",
    "    Conv2DTranspose(16, 3, strides = 2, padding='same', activation='selu'),\n",
    "    Conv2DTranspose(1, 3, strides = 2, padding='same', activation='sigmoid'),\n",
    "    Reshape([28,28])\n",
    "    \n",
    "])\n",
    "\n",
    "conv_ae  = Sequential([conv_encoder, conv_decoder])"
   ]
  },
  {
   "cell_type": "code",
   "execution_count": 27,
   "metadata": {},
   "outputs": [],
   "source": [
    "conv_ae.compile(loss = 'binary_crossentropy', optimizer = 'nadam')"
   ]
  },
  {
   "cell_type": "code",
   "execution_count": 28,
   "metadata": {},
   "outputs": [
    {
     "name": "stdout",
     "output_type": "stream",
     "text": [
      "Train on 55000 samples, validate on 5000 samples\n",
      "Epoch 1/10\n",
      "55000/55000 [==============================] - 39s 706us/step - loss: 0.2901 - val_loss: 0.2727\n",
      "Epoch 2/10\n",
      "55000/55000 [==============================] - 40s 723us/step - loss: 0.2704 - val_loss: 0.2649\n",
      "Epoch 3/10\n",
      "55000/55000 [==============================] - 39s 716us/step - loss: 0.2666 - val_loss: 0.2623\n",
      "Epoch 4/10\n",
      "55000/55000 [==============================] - 39s 712us/step - loss: 0.2646 - val_loss: 0.2605\n",
      "Epoch 5/10\n",
      "55000/55000 [==============================] - 40s 721us/step - loss: 0.2632 - val_loss: 0.2595\n",
      "Epoch 6/10\n",
      "55000/55000 [==============================] - 39s 710us/step - loss: 0.2622 - val_loss: 0.2586\n",
      "Epoch 7/10\n",
      "55000/55000 [==============================] - 39s 713us/step - loss: 0.2614 - val_loss: 0.2587\n",
      "Epoch 8/10\n",
      "55000/55000 [==============================] - 43s 785us/step - loss: 0.2607 - val_loss: 0.2578\n",
      "Epoch 9/10\n",
      "55000/55000 [==============================] - 41s 737us/step - loss: 0.2602 - val_loss: 0.2584\n",
      "Epoch 10/10\n",
      "55000/55000 [==============================] - 41s 746us/step - loss: 0.2598 - val_loss: 0.2566\n"
     ]
    }
   ],
   "source": [
    "history_cae = conv_ae.fit(x_train, x_train, epochs=10, validation_data=[x_val, x_val])"
   ]
  },
  {
   "cell_type": "code",
   "execution_count": 29,
   "metadata": {},
   "outputs": [],
   "source": [
    "reconstructions = conv_ae.predict(x_val[:10])"
   ]
  },
  {
   "cell_type": "code",
   "execution_count": 30,
   "metadata": {},
   "outputs": [
    {
     "data": {
      "image/png": "[encoded data removed]",
      "text/plain": [
       "<Figure size 720x360 with 10 Axes>"
      ]
     },
     "metadata": {},
     "output_type": "display_data"
    }
   ],
   "source": [
    "plt.figure(figsize=(10,5))\n",
    "for i in range(5):\n",
    "    plt.subplot(2,5,i+1)\n",
    "    plt.xticks([])\n",
    "    plt.yticks([])\n",
    "    plt.grid(False)\n",
    "    plt.imshow(x_val[i], cmap=plt.cm.binary)\n",
    "for i in range(5):\n",
    "    plt.subplot(2,5,5+i+1)\n",
    "    plt.xticks([])\n",
    "    plt.yticks([])\n",
    "    plt.grid(False)\n",
    "    plt.imshow(reconstructions[i], cmap=plt.cm.binary)\n",
    "plt.show()"
   ]
  },
  {
   "cell_type": "markdown",
   "metadata": {},
   "source": [
    "## Variational Autoencoders\n",
    "Variational autoencoders are probabilistic, meaning that their outputs are partially stochastic (even predictions made after training), and generative, meaning that they are able to generate new instances that are similar to those in the training set.\n",
    "The main difference with respect to a stacked/convolutional autoencoder, is that rather that the output layer of the encoder does not directly produce latent representation of the inputs, but rather produces a mean coding $\\mu$ and a standard deviation $\\sigma$, which are used as the parameters of a Gaussian distribution from which the actual codings are drawn."
   ]
  },
  {
   "cell_type": "code",
   "execution_count": 31,
   "metadata": {},
   "outputs": [],
   "source": [
    "K = keras.backend\n",
    "\n",
    "class Sampling(keras.layers.Layer):\n",
    "    def call(self, inputs):\n",
    "        mean, log_var = inputs\n",
    "        return K.random_normal(tf.shape(log_var)) * K.exp(log_var / 2) + mean"
   ]
  },
  {
   "cell_type": "markdown",
   "metadata": {},
   "source": [
    "First, build the encoder part using the Functional API."
   ]
  },
  {
   "cell_type": "code",
   "execution_count": 32,
   "metadata": {},
   "outputs": [],
   "source": [
    "codings_size = 10\n",
    "\n",
    "inputs = Input(shape=[28,28])\n",
    "z = Flatten()(inputs)\n",
    "z = Dense(150, activation = 'selu')(z)\n",
    "z = Dense(100, activation = 'selu')(z)\n",
    "codings_mean = Dense(codings_size)(z)\n",
    "codings_log_var = Dense(codings_size)(z)\n",
    "codings = Sampling()([codings_mean, codings_log_var])\n",
    "\n",
    "variational_encoder = keras.Model(\n",
    "        inputs=[inputs], outputs=[codings_mean, codings_log_var, codings])"
   ]
  },
  {
   "cell_type": "markdown",
   "metadata": {},
   "source": [
    "Then we can build the decoder, which is a simple stack of fully connected layers."
   ]
  },
  {
   "cell_type": "code",
   "execution_count": 33,
   "metadata": {},
   "outputs": [],
   "source": [
    "variational_decoder = Sequential([\n",
    "    Dense(100, activation='selu', input_shape=[codings_size]),\n",
    "    Dense(150, activation='selu'),\n",
    "    Dense(784, activation='sigmoid'),\n",
    "    Reshape([28,28])\n",
    "])"
   ]
  },
  {
   "cell_type": "markdown",
   "metadata": {},
   "source": [
    "Next, we put the encoder and the decoder together using the Function API (because the encoder has multiple outputs)."
   ]
  },
  {
   "cell_type": "code",
   "execution_count": 34,
   "metadata": {},
   "outputs": [],
   "source": [
    "_, _, codings = variational_encoder(inputs)\n",
    "reconstructions = variational_decoder(codings)\n",
    "variational_ae = keras.Model(inputs=[inputs], outputs=[reconstructions])"
   ]
  },
  {
   "cell_type": "markdown",
   "metadata": {},
   "source": [
    "Finally, we add the the latent and reconstruction loss."
   ]
  },
  {
   "cell_type": "code",
   "execution_count": 35,
   "metadata": {},
   "outputs": [],
   "source": [
    "latent_loss = -0.5 * K.sum(\n",
    "    1 + codings_log_var - K.exp(codings_log_var) - K.square(codings_mean), axis = -1)\n",
    "variational_ae.add_loss(K.mean(latent_loss)/784.)"
   ]
  },
  {
   "cell_type": "markdown",
   "metadata": {},
   "source": [
    "Ready to compile and train!"
   ]
  },
  {
   "cell_type": "code",
   "execution_count": 36,
   "metadata": {},
   "outputs": [],
   "source": [
    "variational_ae.compile(loss='binary_crossentropy', optimizer='nadam')"
   ]
  },
  {
   "cell_type": "code",
   "execution_count": 37,
   "metadata": {},
   "outputs": [
    {
     "name": "stdout",
     "output_type": "stream",
     "text": [
      "Train on 55000 samples, validate on 5000 samples\n",
      "Epoch 1/20\n",
      "55000/55000 [==============================] - 6s 101us/step - loss: 0.3801 - val_loss: 0.3464\n",
      "Epoch 2/20\n",
      "55000/55000 [==============================] - 5s 98us/step - loss: 0.3353 - val_loss: 0.3333\n",
      "Epoch 3/20\n",
      "55000/55000 [==============================] - 5s 84us/step - loss: 0.3267 - val_loss: 0.3210\n",
      "Epoch 4/20\n",
      "55000/55000 [==============================] - 5s 84us/step - loss: 0.3223 - val_loss: 0.3213\n",
      "Epoch 5/20\n",
      "55000/55000 [==============================] - 5s 84us/step - loss: 0.3196 - val_loss: 0.3173\n",
      "Epoch 6/20\n",
      "55000/55000 [==============================] - 5s 85us/step - loss: 0.3174 - val_loss: 0.3144\n",
      "Epoch 7/20\n",
      "55000/55000 [==============================] - 5s 83us/step - loss: 0.3161 - val_loss: 0.3128\n",
      "Epoch 8/20\n",
      "55000/55000 [==============================] - 5s 83us/step - loss: 0.3149 - val_loss: 0.3109\n",
      "Epoch 9/20\n",
      "55000/55000 [==============================] - 5s 86us/step - loss: 0.3138 - val_loss: 0.3128\n",
      "Epoch 10/20\n",
      "55000/55000 [==============================] - 5s 86us/step - loss: 0.3129 - val_loss: 0.3113\n",
      "Epoch 11/20\n",
      "55000/55000 [==============================] - 5s 83us/step - loss: 0.3124 - val_loss: 0.3088\n",
      "Epoch 12/20\n",
      "55000/55000 [==============================] - 5s 85us/step - loss: 0.3118 - val_loss: 0.3097\n",
      "Epoch 13/20\n",
      "55000/55000 [==============================] - 5s 87us/step - loss: 0.3112 - val_loss: 0.3077\n",
      "Epoch 14/20\n",
      "55000/55000 [==============================] - 5s 85us/step - loss: 0.3107 - val_loss: 0.3093\n",
      "Epoch 15/20\n",
      "55000/55000 [==============================] - 5s 84us/step - loss: 0.3104 - val_loss: 0.3082\n",
      "Epoch 16/20\n",
      "55000/55000 [==============================] - 5s 86us/step - loss: 0.3101 - val_loss: 0.3069\n",
      "Epoch 17/20\n",
      "55000/55000 [==============================] - 5s 84us/step - loss: 0.3097 - val_loss: 0.3073\n",
      "Epoch 18/20\n",
      "55000/55000 [==============================] - 5s 86us/step - loss: 0.3093 - val_loss: 0.3073\n",
      "Epoch 19/20\n",
      "55000/55000 [==============================] - 5s 88us/step - loss: 0.3091 - val_loss: 0.3084\n",
      "Epoch 20/20\n",
      "55000/55000 [==============================] - 5s 87us/step - loss: 0.3088 - val_loss: 0.3063\n"
     ]
    }
   ],
   "source": [
    "history_vae = variational_ae.fit(x_train, x_train, epochs=20, batch_size=128, validation_data=[x_val, x_val])"
   ]
  },
  {
   "cell_type": "code",
   "execution_count": 38,
   "metadata": {},
   "outputs": [],
   "source": [
    "reconstructions = variational_ae.predict(x_val[:10])"
   ]
  },
  {
   "cell_type": "code",
   "execution_count": 39,
   "metadata": {},
   "outputs": [
    {
     "data": {
      "image/png": "[encoded data removed]",
      "text/plain": [
       "<Figure size 720x360 with 10 Axes>"
      ]
     },
     "metadata": {},
     "output_type": "display_data"
    }
   ],
   "source": [
    "plt.figure(figsize=(10,5))\n",
    "for i in range(5):\n",
    "    plt.subplot(2,5,i+1)\n",
    "    plt.xticks([])\n",
    "    plt.yticks([])\n",
    "    plt.grid(False)\n",
    "    plt.imshow(x_val[i], cmap=plt.cm.binary)\n",
    "for i in range(5):\n",
    "    plt.subplot(2,5,5+i+1)\n",
    "    plt.xticks([])\n",
    "    plt.yticks([])\n",
    "    plt.grid(False)\n",
    "    plt.imshow(reconstructions[i], cmap=plt.cm.binary)\n",
    "plt.show()"
   ]
  },
  {
   "cell_type": "code",
   "execution_count": null,
   "metadata": {},
   "outputs": [],
   "source": []
  }
 ],
 "metadata": {
  "kernelspec": {
   "display_name": "newpy36",
   "language": "python",
   "name": "newpy36"
  },
  "language_info": {
   "codemirror_mode": {
    "name": "ipython",
    "version": 3
   },
   "file_extension": ".py",
   "mimetype": "text/x-python",
   "name": "python",
   "nbconvert_exporter": "python",
   "pygments_lexer": "ipython3",
   "version": "3.7.6"
  }
 },
 "nbformat": 4,
 "nbformat_minor": 4
}
