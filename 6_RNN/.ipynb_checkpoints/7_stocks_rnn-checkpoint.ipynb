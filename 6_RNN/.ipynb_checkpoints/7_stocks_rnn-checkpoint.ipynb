{
 "cells": [
  {
   "cell_type": "markdown",
   "metadata": {},
   "source": [
    "# Predicting cryptocurrencies: Seq-to-Seq Regression\n",
    "The problem can be approached from two different perspectives:\n",
    "* Classification (e.g. buy, hold, sell)\n",
    "* Regression (future price)\n",
    "\n",
    "In this notebook we'll approach the problem from a **regression** perspective, trying to predict the price of a cryptocurrency in the next 10 minutes from the observation of 4 cryptocurrencies prices in the previous 60 minutes (**sequence-to-sequence**)."
   ]
  },
  {
   "cell_type": "markdown",
   "metadata": {},
   "source": [
    "<table align=\"left\">\n",
    "  <td>\n",
    "    <a target=\"_blank\" href=\"https://colab.research.google.com/github/Lorenzo-Giardi/tf-keras/blob/master/6_RNN/6_seqtoseq_reg_cryptos_rnn.ipynb\"><img src=\"https://www.tensorflow.org/images/colab_logo_32px.png\" />Run in Google Colab</a>\n",
    "  </td>\n",
    "</table>"
   ]
  },
  {
   "cell_type": "markdown",
   "metadata": {},
   "source": [
    "## Imports and global parameters"
   ]
  },
  {
   "cell_type": "code",
   "execution_count": 1,
   "metadata": {},
   "outputs": [],
   "source": [
    "try:\n",
    "    %tensorflow_version 2.x\n",
    "except:\n",
    "    pass\n",
    "\n",
    "import pandas as pd\n",
    "import numpy as np\n",
    "import tensorflow as tf\n",
    "import random\n",
    "import time\n",
    "import datetime\n",
    "import os\n",
    "import matplotlib.pyplot as plt\n",
    "import seaborn as sns\n",
    "\n",
    "from random import randint\n",
    "from sklearn import preprocessing\n",
    "from collections import deque\n",
    "from tensorflow.keras.models import Sequential\n",
    "from tensorflow.keras.layers import Dense, Dropout, LSTM, GRU, BatchNormalization, Flatten, Conv1D, TimeDistributed, SimpleRNN\n",
    "from tensorflow.keras.callbacks import TensorBoard, ModelCheckpoint, EarlyStopping"
   ]
  },
  {
   "cell_type": "code",
   "execution_count": 2,
   "metadata": {},
   "outputs": [],
   "source": [
    "from rnn_utils import generate_time_series, plot_series, plot_multiple_forecasts, last_time_step_mse, plot_learning_curves"
   ]
  },
  {
   "cell_type": "code",
   "execution_count": 18,
   "metadata": {},
   "outputs": [
    {
     "name": "stdout",
     "output_type": "stream",
     "text": [
      "Current date and time: 2020-03-26_12:38:25\n"
     ]
    }
   ],
   "source": [
    "now = datetime.datetime.now().strftime(\"%Y-%m-%d_%H:%M:%S\")\n",
    "print(f'Current date and time: {now}')\n",
    "\n",
    "SEQ_LEN = 30 # last minutes to use as feature\n",
    "FUTURE_PERIOD_PREDICT = 1 # period over which to make the prediction\n",
    "STOCK_TO_PREDICT = \"MSFT\"\n",
    "EPOCHS = 50\n",
    "BATCH_SIZE = 64\n",
    "NAME = f'{STOCK_TO_PREDICT}-{SEQ_LEN}-SEQ-{FUTURE_PERIOD_PREDICT}-PRED_{now}'"
   ]
  },
  {
   "cell_type": "markdown",
   "metadata": {},
   "source": [
    "## Import Data"
   ]
  },
  {
   "cell_type": "code",
   "execution_count": 4,
   "metadata": {},
   "outputs": [
    {
     "name": "stdout",
     "output_type": "stream",
     "text": [
      "        Date      Open      High       Low     Close  Adj Close       Volume\n",
      "0 1980-12-12  0.513393  0.515625  0.513393  0.513393   0.406782  117258400.0\n",
      "1 1980-12-15  0.488839  0.488839  0.486607  0.486607   0.385558   43971200.0\n",
      "2 1980-12-16  0.453125  0.453125  0.450893  0.450893   0.357260   26432000.0\n",
      "3 1980-12-17  0.462054  0.464286  0.462054  0.462054   0.366103   21610400.0\n",
      "4 1980-12-18  0.475446  0.477679  0.475446  0.475446   0.376715   18362400.0\n"
     ]
    }
   ],
   "source": [
    "#col_names = ['time', 'low', 'high', 'open', 'close', 'volume']\n",
    "#df = pd.read_csv(\"crypto_data/LTC-USD.csv\", names = col_names)\n",
    "df = pd.read_csv(\"stocks_data/AAPL.csv\")\n",
    "df['Date'] = pd.to_datetime(df.Date, format=\"%Y-%m-%d\")\n",
    "print(df.head())"
   ]
  },
  {
   "cell_type": "code",
   "execution_count": 5,
   "metadata": {},
   "outputs": [
    {
     "data": {
      "image/png": "[encoded data removed]",
      "text/plain": [
       "<Figure size 432x288 with 1 Axes>"
      ]
     },
     "metadata": {
      "needs_background": "light"
     },
     "output_type": "display_data"
    }
   ],
   "source": [
    "plt.plot(df['Date'], df['Close'])\n",
    "plt.show()"
   ]
  },
  {
   "cell_type": "code",
   "execution_count": 6,
   "metadata": {},
   "outputs": [
    {
     "data": {
      "text/plain": [
       "['PEP.csv',\n",
       " 'KO.csv',\n",
       " 'GE.csv',\n",
       " 'DIS.csv',\n",
       " 'MSFT.csv',\n",
       " 'AAPL.csv',\n",
       " 'INTC.csv',\n",
       " 'BAC.csv',\n",
       " 'BA.csv']"
      ]
     },
     "execution_count": 6,
     "metadata": {},
     "output_type": "execute_result"
    }
   ],
   "source": [
    "os.listdir('stocks_data')"
   ]
  },
  {
   "cell_type": "code",
   "execution_count": 7,
   "metadata": {},
   "outputs": [
    {
     "name": "stdout",
     "output_type": "stream",
     "text": [
      "            PEP_close  PEP_volume  KO_close  KO_volume  GE_close  GE_volume  \\\n",
      "Date                                                                          \n",
      "1972-06-01   1.601852      318600  1.377604     748800  1.389724    1642300   \n",
      "1972-06-02   1.597222      140400  1.372396     393600  1.382212    2985200   \n",
      "1972-06-05   1.574074      469800  1.369792     662400  1.382212    1088200   \n",
      "1972-06-06   1.560185      140400  1.358073     768000  1.387220    2525900   \n",
      "1972-06-07   1.550926      178200  1.351563    1420800  1.357171    1802100   \n",
      "\n",
      "            DIS_close  DIS_volume  MSFT_close  MSFT_volume  AAPL_close  \\\n",
      "Date                                                                     \n",
      "1972-06-01   1.893361     1138500         NaN          NaN         NaN   \n",
      "1972-06-02   1.901068     2082500         NaN          NaN         NaN   \n",
      "1972-06-05   1.897214      681100         NaN          NaN         NaN   \n",
      "1972-06-06   1.893361      739500         NaN          NaN         NaN   \n",
      "1972-06-07   1.903637      506000         NaN          NaN         NaN   \n",
      "\n",
      "            AAPL_volume  INTC_close  INTC_volume  BAC_close  BAC_volume  \\\n",
      "Date                                                                      \n",
      "1972-06-01          NaN         NaN          NaN        NaN         NaN   \n",
      "1972-06-02          NaN         NaN          NaN        NaN         NaN   \n",
      "1972-06-05          NaN         NaN          NaN        NaN         NaN   \n",
      "1972-06-06          NaN         NaN          NaN        NaN         NaN   \n",
      "1972-06-07          NaN         NaN          NaN        NaN         NaN   \n",
      "\n",
      "            BA_close  BA_volume  \n",
      "Date                             \n",
      "1972-06-01  0.736625     510200  \n",
      "1972-06-02  0.728395     379200  \n",
      "1972-06-05  0.724280    2289800  \n",
      "1972-06-06  0.703704     324200  \n",
      "1972-06-07  0.699588     315800  \n"
     ]
    }
   ],
   "source": [
    "main_df = pd.DataFrame()\n",
    "\n",
    "stocks = ['PEP', 'KO', 'GE', 'DIS', 'MSFT', 'AAPL', 'INTC', 'BAC', 'BA']\n",
    "for stock in stocks:\n",
    "    # read CSV from path\n",
    "    df_path = f'stocks_data/{stock}.csv'\n",
    "    df = pd.read_csv(df_path)\n",
    "    df['Date'] = pd.to_datetime(df.Date, format=\"%Y-%m-%d\")\n",
    "    \n",
    "    # rename columns\n",
    "    df.rename(columns = {'Close': f'{stock}_close', 'Volume': f'{stock}_volume'}, inplace = True)\n",
    "    # set time as index\n",
    "    df.set_index('Date', inplace = True)\n",
    "    # select only close price and volume columns\n",
    "    df = df[[f'{stock}_close', f'{stock}_volume']]\n",
    "    \n",
    "    if len(main_df) == 0:\n",
    "        main_df = df\n",
    "    else:\n",
    "        main_df = main_df.join(df)\n",
    "\n",
    "print(main_df.head())"
   ]
  },
  {
   "cell_type": "code",
   "execution_count": 8,
   "metadata": {},
   "outputs": [
    {
     "name": "stdout",
     "output_type": "stream",
     "text": [
      "            MSFT_close  target\n",
      "Date                          \n",
      "1972-06-01         NaN     NaN\n",
      "1972-06-02         NaN     NaN\n",
      "1972-06-05         NaN     NaN\n",
      "1972-06-06         NaN     NaN\n",
      "1972-06-07         NaN     NaN\n"
     ]
    }
   ],
   "source": [
    "# Define a new column with future price\n",
    "main_df['target'] = main_df[f'{STOCK_TO_PREDICT}_close'].shift(-FUTURE_PERIOD_PREDICT)\n",
    "print(main_df[[f'{STOCK_TO_PREDICT}_close', 'target']].head())"
   ]
  },
  {
   "cell_type": "markdown",
   "metadata": {},
   "source": [
    "## Train-test split, normalization, sequence creation and data balancing\n",
    "\n",
    "Notice that since sequences are very close together and are highly correlated, it would be a bad idea to take a random sample to use as a validation/test set, as it would be extremely similar to instances in the training set. Instead, we have to take a whole period (possibly the most recent one) and use it for testing.\n",
    "\n",
    "In this case we'll take the last 5-10% of the data."
   ]
  },
  {
   "cell_type": "code",
   "execution_count": 9,
   "metadata": {},
   "outputs": [
    {
     "name": "stdout",
     "output_type": "stream",
     "text": [
      "Time threshold for train-validation split: 2015-06-11T00:00:00.000000000\n"
     ]
    }
   ],
   "source": [
    "# ensure that time is sorted\n",
    "times = sorted(main_df.index.values)\n",
    "threshold = times[-int(0.1*len(times))]\n",
    "print(f'Time threshold for train-validation split: {threshold}')"
   ]
  },
  {
   "cell_type": "code",
   "execution_count": 10,
   "metadata": {},
   "outputs": [],
   "source": [
    "# tain-validation split\n",
    "validation_main_df = main_df[(main_df.index >= threshold)]\n",
    "train_main_df = main_df[(main_df.index < threshold)]"
   ]
  },
  {
   "cell_type": "markdown",
   "metadata": {},
   "source": [
    "Now define a preprocessing function that will be applied to both, the training and validation sets.\n",
    "* Transform absolute prices into percentage changes\n",
    "* Normalize data to be in (0,1)\n",
    "* Drop NAs\n",
    "* Create sequences that will be used as features (X)"
   ]
  },
  {
   "cell_type": "code",
   "execution_count": 11,
   "metadata": {},
   "outputs": [],
   "source": [
    "# define a preprocessing function\n",
    "def preprocess_df(df, print_df = False):\n",
    "    \n",
    "    pd.options.mode.chained_assignment = None\n",
    "    # transform data to percentage variation and normalize\n",
    "    for col in df.columns:\n",
    "        #if col != 'target':\n",
    "        #df[col] = df[col].pct_change()\n",
    "        df.dropna(inplace = True)\n",
    "        df[col] = preprocessing.scale(df[col].values)\n",
    "            \n",
    "    df.dropna(inplace = True)\n",
    "    \n",
    "    if print_df: print(df[[f'{STOCK_TO_PREDICT}_close', 'target']].head())\n",
    "    \n",
    "    # create sequences of lenght SEQ_LEN to be used as features (X)\n",
    "    # sequential_data is a list [sequences(X), targets(y)]\n",
    "    sequential_data = []\n",
    "    prev_days = deque(maxlen = SEQ_LEN)\n",
    "    for i in df.values:\n",
    "        prev_days.append([n for n in i[:-1]])\n",
    "        if len(prev_days) == SEQ_LEN:\n",
    "            sequential_data.append([np.array(prev_days), i[-1]])\n",
    "            \n",
    "    random.shuffle(sequential_data)\n",
    "    if print_df: print('\\nsequential_data shape: ', np.shape(sequential_data))\n",
    "        \n",
    "    # split into X and y\n",
    "    X = []\n",
    "    y = []\n",
    "    \n",
    "    for seq, target in sequential_data:\n",
    "        X.append(seq)\n",
    "        y.append(target)\n",
    "    if print_df: print('\\nDimensions: [n of sequences, sequences lenght, features]')\n",
    "    if print_df: print('X_data shape: ', np.shape(X))\n",
    "    if print_df: print('y_data shape: ', np.shape(y))\n",
    "    \n",
    "    return np.array(X), np.array(y)"
   ]
  },
  {
   "cell_type": "code",
   "execution_count": 12,
   "metadata": {},
   "outputs": [
    {
     "name": "stderr",
     "output_type": "stream",
     "text": [
      "/home/lorenzo/anaconda3/lib/python3.7/site-packages/sklearn/preprocessing/_data.py:173: UserWarning: Numerical issues were encountered when centering the data and might not be solved. Dataset may contain too large values. You may need to prescale your features.\n",
      "  warnings.warn(\"Numerical issues were encountered \"\n"
     ]
    },
    {
     "name": "stdout",
     "output_type": "stream",
     "text": [
      "            MSFT_close    target\n",
      "Date                            \n",
      "1986-03-13   -1.322970 -1.323011\n",
      "1986-03-14   -1.322732 -1.322892\n",
      "1986-03-17   -1.322613 -1.323070\n",
      "1986-03-18   -1.322791 -1.323189\n",
      "1986-03-19   -1.322910 -1.323368\n",
      "\n",
      "sequential_data shape:  (7344, 2)\n",
      "\n",
      "Dimensions: [n of sequences, sequences lenght, features]\n",
      "X_data shape:  (7344, 30, 18)\n",
      "y_data shape:  (7344,)\n"
     ]
    }
   ],
   "source": [
    "train_x, train_y = preprocess_df(train_main_df, print_df = True)\n",
    "valid_x, valid_y = preprocess_df(validation_main_df)"
   ]
  },
  {
   "cell_type": "markdown",
   "metadata": {},
   "source": [
    "## Linear Baseline"
   ]
  },
  {
   "cell_type": "code",
   "execution_count": 13,
   "metadata": {},
   "outputs": [
    {
     "name": "stdout",
     "output_type": "stream",
     "text": [
      "Train on 7344 samples, validate on 1175 samples\n",
      "Epoch 1/10\n",
      "7344/7344 [==============================] - 1s 75us/sample - loss: 0.4386 - val_loss: 0.3821\n",
      "Epoch 2/10\n",
      "7344/7344 [==============================] - 0s 28us/sample - loss: 0.1411 - val_loss: 0.1346\n",
      "Epoch 3/10\n",
      "7344/7344 [==============================] - 0s 39us/sample - loss: 0.0662 - val_loss: 0.0690\n",
      "Epoch 4/10\n",
      "7344/7344 [==============================] - 0s 28us/sample - loss: 0.0372 - val_loss: 0.0482\n",
      "Epoch 5/10\n",
      "7344/7344 [==============================] - 0s 32us/sample - loss: 0.0230 - val_loss: 0.0358\n",
      "Epoch 6/10\n",
      "7344/7344 [==============================] - 0s 33us/sample - loss: 0.0161 - val_loss: 0.0300\n",
      "Epoch 7/10\n",
      "7344/7344 [==============================] - 0s 28us/sample - loss: 0.0138 - val_loss: 0.0282\n",
      "Epoch 8/10\n",
      "7344/7344 [==============================] - 0s 26us/sample - loss: 0.0133 - val_loss: 0.0244\n",
      "Epoch 9/10\n",
      "7344/7344 [==============================] - 0s 27us/sample - loss: 0.0077 - val_loss: 0.0221\n",
      "Epoch 10/10\n",
      "7344/7344 [==============================] - 0s 27us/sample - loss: 0.0121 - val_loss: 0.0184\n"
     ]
    }
   ],
   "source": [
    "model_bsl = Sequential([\n",
    "        Flatten(input_shape = (train_x.shape[1:])),\n",
    "        Dense(1)])\n",
    "\n",
    "model_bsl.compile(loss = 'mse', optimizer = 'nadam')\n",
    "\n",
    "history_bsl = model_bsl.fit(train_x, train_y,\n",
    "                   batch_size = BATCH_SIZE,\n",
    "                   epochs = 10,\n",
    "                   validation_data = (valid_x, valid_y))"
   ]
  },
  {
   "cell_type": "code",
   "execution_count": 14,
   "metadata": {},
   "outputs": [
    {
     "name": "stdout",
     "output_type": "stream",
     "text": [
      "Predictions shape: (1175, 1)\n",
      "valid_x shape: (1175, 30, 18)\n",
      "valid_y shape: (1175, 1)\n"
     ]
    }
   ],
   "source": [
    "y_pred = model_bsl.predict(valid_x)\n",
    "val_y = valid_y[..., np.newaxis]\n",
    "print(f'Predictions shape: {y_pred.shape}')\n",
    "print(f'valid_x shape: {valid_x.shape}')\n",
    "print(f'valid_y shape: {val_y.shape}')"
   ]
  },
  {
   "cell_type": "code",
   "execution_count": 23,
   "metadata": {},
   "outputs": [
    {
     "data": {
      "image/png": "[encoded data removed]",
      "text/plain": [
       "<Figure size 864x288 with 2 Axes>"
      ]
     },
     "metadata": {
      "needs_background": "light"
     },
     "output_type": "display_data"
    }
   ],
   "source": [
    "fig, axes = plt.subplots(nrows=1, ncols=2, figsize=(12, 4))\n",
    "\n",
    "seq = randint(0, 500)\n",
    "\n",
    "plt.sca(axes[0])\n",
    "plot_series(valid_x[seq, :, 0], val_y[seq, 0], y_pred[seq, 0], n_steps = SEQ_LEN)\n",
    "\n",
    "plt.sca(axes[1])\n",
    "plot_learning_curves(history_bsl.history[\"loss\"], history_bsl.history[\"val_loss\"], axis = [1, 10, 0, 0.5])\n",
    "\n",
    "plt.show()"
   ]
  },
  {
   "cell_type": "markdown",
   "metadata": {},
   "source": [
    "## Recurrent Network\n"
   ]
  },
  {
   "cell_type": "code",
   "execution_count": 19,
   "metadata": {},
   "outputs": [
    {
     "name": "stdout",
     "output_type": "stream",
     "text": [
      "Model: \"sequential_3\"\n",
      "_________________________________________________________________\n",
      "Layer (type)                 Output Shape              Param #   \n",
      "=================================================================\n",
      "gru (GRU)                    (None, 30, 32)            4992      \n",
      "_________________________________________________________________\n",
      "dropout_2 (Dropout)          (None, 30, 32)            0         \n",
      "_________________________________________________________________\n",
      "batch_normalization_1 (Batch (None, 30, 32)            128       \n",
      "_________________________________________________________________\n",
      "gru_1 (GRU)                  (None, 32)                6336      \n",
      "_________________________________________________________________\n",
      "dropout_3 (Dropout)          (None, 32)                0         \n",
      "_________________________________________________________________\n",
      "batch_normalization_2 (Batch (None, 32)                128       \n",
      "_________________________________________________________________\n",
      "dense_2 (Dense)              (None, 32)                1056      \n",
      "_________________________________________________________________\n",
      "dropout_4 (Dropout)          (None, 32)                0         \n",
      "_________________________________________________________________\n",
      "dense_3 (Dense)              (None, 1)                 33        \n",
      "=================================================================\n",
      "Total params: 12,673\n",
      "Trainable params: 12,545\n",
      "Non-trainable params: 128\n",
      "_________________________________________________________________\n"
     ]
    }
   ],
   "source": [
    "model = Sequential([\n",
    "    \n",
    "    GRU(32, activation = 'tanh', return_sequences = True, input_shape = train_x.shape[1:]),\n",
    "    Dropout(0.2),\n",
    "    BatchNormalization(),\n",
    "    \n",
    "    GRU(32, activation = 'tanh', return_sequences = False),\n",
    "    Dropout(0.2),\n",
    "    BatchNormalization(),\n",
    "    \n",
    "    Dense(32, activation = 'tanh'),\n",
    "    Dropout(0.2),\n",
    "    \n",
    "    Dense(1),\n",
    "])\n",
    "\n",
    "opt = tf.keras.optimizers.Adam(lr=0.001, decay = 1e-6)\n",
    "\n",
    "model.compile(loss = 'mse',\n",
    "             optimizer = 'nadam'\n",
    "             )\n",
    "\n",
    "model.summary()\n",
    "\n",
    "tensorboard = TensorBoard(log_dir = f'logs/{NAME}')\n",
    "filepath = \"RNN_Final-{epoch:02d}-{val_loss:.3f}.hdf5\"  # unique file name that will include the epoch and the validation acc for that epoch\n",
    "checkpoint = ModelCheckpoint(f\"models/{NAME}/{filepath}\", monitor='val_loss', verbose=1, save_best_only=True, mode='auto') # saves only the best ones\n",
    "earlystop = EarlyStopping(monitor='val_loss', patience=10, verbose=0, mode='auto', restore_best_weights=True)\n",
    "\n",
    "# create folder for checkpoints (or it will throw an error if not found!)\n",
    "try:\n",
    "    os.makedirs(f\"models/{NAME}\")\n",
    "except:\n",
    "    print(\"Directory already exists\")  "
   ]
  },
  {
   "cell_type": "code",
   "execution_count": 20,
   "metadata": {},
   "outputs": [
    {
     "name": "stdout",
     "output_type": "stream",
     "text": [
      "Train on 7344 samples, validate on 1175 samples\n",
      "Epoch 1/30\n",
      "7168/7344 [============================>.] - ETA: 0s - loss: 0.6257\n",
      "Epoch 00001: val_loss improved from inf to 0.18630, saving model to models/MSFT-30-SEQ-1-PRED_2020-03-26_12:38:25/RNN_Final-01-0.186.hdf5\n",
      "7344/7344 [==============================] - 7s 1ms/sample - loss: 0.6180 - val_loss: 0.1863\n",
      "Epoch 2/30\n",
      "7296/7344 [============================>.] - ETA: 0s - loss: 0.2788\n",
      "Epoch 00002: val_loss improved from 0.18630 to 0.16392, saving model to models/MSFT-30-SEQ-1-PRED_2020-03-26_12:38:25/RNN_Final-02-0.164.hdf5\n",
      "7344/7344 [==============================] - 4s 481us/sample - loss: 0.2787 - val_loss: 0.1639\n",
      "Epoch 3/30\n",
      "7232/7344 [============================>.] - ETA: 0s - loss: 0.1865\n",
      "Epoch 00003: val_loss improved from 0.16392 to 0.12638, saving model to models/MSFT-30-SEQ-1-PRED_2020-03-26_12:38:25/RNN_Final-03-0.126.hdf5\n",
      "7344/7344 [==============================] - 3s 440us/sample - loss: 0.1862 - val_loss: 0.1264\n",
      "Epoch 4/30\n",
      "7232/7344 [============================>.] - ETA: 0s - loss: 0.1472\n",
      "Epoch 00004: val_loss did not improve from 0.12638\n",
      "7344/7344 [==============================] - 3s 474us/sample - loss: 0.1471 - val_loss: 0.1446\n",
      "Epoch 5/30\n",
      "7232/7344 [============================>.] - ETA: 0s - loss: 0.1219\n",
      "Epoch 00005: val_loss improved from 0.12638 to 0.09796, saving model to models/MSFT-30-SEQ-1-PRED_2020-03-26_12:38:25/RNN_Final-05-0.098.hdf5\n",
      "7344/7344 [==============================] - 4s 515us/sample - loss: 0.1215 - val_loss: 0.0980\n",
      "Epoch 6/30\n",
      "7296/7344 [============================>.] - ETA: 0s - loss: 0.0965\n",
      "Epoch 00006: val_loss did not improve from 0.09796\n",
      "7344/7344 [==============================] - 3s 461us/sample - loss: 0.0964 - val_loss: 0.1416\n",
      "Epoch 7/30\n",
      "7296/7344 [============================>.] - ETA: 0s - loss: 0.0859\n",
      "Epoch 00007: val_loss did not improve from 0.09796\n",
      "7344/7344 [==============================] - 3s 465us/sample - loss: 0.0857 - val_loss: 0.1046\n",
      "Epoch 8/30\n",
      "7296/7344 [============================>.] - ETA: 0s - loss: 0.0785\n",
      "Epoch 00008: val_loss improved from 0.09796 to 0.09618, saving model to models/MSFT-30-SEQ-1-PRED_2020-03-26_12:38:25/RNN_Final-08-0.096.hdf5\n",
      "7344/7344 [==============================] - 3s 448us/sample - loss: 0.0783 - val_loss: 0.0962\n",
      "Epoch 9/30\n",
      "7232/7344 [============================>.] - ETA: 0s - loss: 0.0727\n",
      "Epoch 00009: val_loss improved from 0.09618 to 0.06740, saving model to models/MSFT-30-SEQ-1-PRED_2020-03-26_12:38:25/RNN_Final-09-0.067.hdf5\n",
      "7344/7344 [==============================] - 3s 441us/sample - loss: 0.0734 - val_loss: 0.0674\n",
      "Epoch 10/30\n",
      "7296/7344 [============================>.] - ETA: 0s - loss: 0.0605\n",
      "Epoch 00010: val_loss improved from 0.06740 to 0.05205, saving model to models/MSFT-30-SEQ-1-PRED_2020-03-26_12:38:25/RNN_Final-10-0.052.hdf5\n",
      "7344/7344 [==============================] - 4s 486us/sample - loss: 0.0604 - val_loss: 0.0521\n",
      "Epoch 11/30\n",
      "7296/7344 [============================>.] - ETA: 0s - loss: 0.0593\n",
      "Epoch 00011: val_loss improved from 0.05205 to 0.04904, saving model to models/MSFT-30-SEQ-1-PRED_2020-03-26_12:38:25/RNN_Final-11-0.049.hdf5\n",
      "7344/7344 [==============================] - 4s 559us/sample - loss: 0.0593 - val_loss: 0.0490\n",
      "Epoch 12/30\n",
      "7232/7344 [============================>.] - ETA: 0s - loss: 0.0546\n",
      "Epoch 00012: val_loss did not improve from 0.04904\n",
      "7344/7344 [==============================] - 4s 486us/sample - loss: 0.0549 - val_loss: 0.0509\n",
      "Epoch 13/30\n",
      "7232/7344 [============================>.] - ETA: 0s - loss: 0.0496\n",
      "Epoch 00013: val_loss improved from 0.04904 to 0.04039, saving model to models/MSFT-30-SEQ-1-PRED_2020-03-26_12:38:25/RNN_Final-13-0.040.hdf5\n",
      "7344/7344 [==============================] - 4s 493us/sample - loss: 0.0497 - val_loss: 0.0404\n",
      "Epoch 14/30\n",
      "7296/7344 [============================>.] - ETA: 0s - loss: 0.0494\n",
      "Epoch 00014: val_loss did not improve from 0.04039\n",
      "7344/7344 [==============================] - 4s 497us/sample - loss: 0.0494 - val_loss: 0.0432\n",
      "Epoch 15/30\n",
      "7232/7344 [============================>.] - ETA: 0s - loss: 0.0459\n",
      "Epoch 00015: val_loss did not improve from 0.04039\n",
      "7344/7344 [==============================] - 3s 441us/sample - loss: 0.0458 - val_loss: 0.0419\n",
      "Epoch 16/30\n",
      "7296/7344 [============================>.] - ETA: 0s - loss: 0.0455\n",
      "Epoch 00016: val_loss did not improve from 0.04039\n",
      "7344/7344 [==============================] - 4s 515us/sample - loss: 0.0455 - val_loss: 0.0546\n",
      "Epoch 17/30\n",
      "7232/7344 [============================>.] - ETA: 0s - loss: 0.0468\n",
      "Epoch 00017: val_loss did not improve from 0.04039\n",
      "7344/7344 [==============================] - 3s 464us/sample - loss: 0.0466 - val_loss: 0.0511\n",
      "Epoch 18/30\n",
      "7232/7344 [============================>.] - ETA: 0s - loss: 0.0449\n",
      "Epoch 00018: val_loss improved from 0.04039 to 0.04021, saving model to models/MSFT-30-SEQ-1-PRED_2020-03-26_12:38:25/RNN_Final-18-0.040.hdf5\n",
      "7344/7344 [==============================] - 3s 476us/sample - loss: 0.0448 - val_loss: 0.0402\n",
      "Epoch 19/30\n",
      "7232/7344 [============================>.] - ETA: 0s - loss: 0.0414\n",
      "Epoch 00019: val_loss improved from 0.04021 to 0.03910, saving model to models/MSFT-30-SEQ-1-PRED_2020-03-26_12:38:25/RNN_Final-19-0.039.hdf5\n",
      "7344/7344 [==============================] - 3s 474us/sample - loss: 0.0414 - val_loss: 0.0391\n",
      "Epoch 20/30\n",
      "7296/7344 [============================>.] - ETA: 0s - loss: 0.0407\n",
      "Epoch 00020: val_loss did not improve from 0.03910\n",
      "7344/7344 [==============================] - 3s 458us/sample - loss: 0.0406 - val_loss: 0.0531\n",
      "Epoch 21/30\n",
      "7296/7344 [============================>.] - ETA: 0s - loss: 0.0401\n",
      "Epoch 00021: val_loss did not improve from 0.03910\n",
      "7344/7344 [==============================] - 3s 456us/sample - loss: 0.0402 - val_loss: 0.0520\n",
      "Epoch 22/30\n",
      "7296/7344 [============================>.] - ETA: 0s - loss: 0.0414\n",
      "Epoch 00022: val_loss did not improve from 0.03910\n",
      "7344/7344 [==============================] - 3s 468us/sample - loss: 0.0416 - val_loss: 0.0413\n",
      "Epoch 23/30\n",
      "7232/7344 [============================>.] - ETA: 0s - loss: 0.0361\n",
      "Epoch 00023: val_loss did not improve from 0.03910\n",
      "7344/7344 [==============================] - 3s 451us/sample - loss: 0.0363 - val_loss: 0.0404\n",
      "Epoch 24/30\n",
      "7296/7344 [============================>.] - ETA: 0s - loss: 0.0399\n",
      "Epoch 00024: val_loss did not improve from 0.03910\n",
      "7344/7344 [==============================] - 3s 472us/sample - loss: 0.0399 - val_loss: 0.0438\n",
      "Epoch 25/30\n",
      "7232/7344 [============================>.] - ETA: 0s - loss: 0.0369\n",
      "Epoch 00025: val_loss improved from 0.03910 to 0.03644, saving model to models/MSFT-30-SEQ-1-PRED_2020-03-26_12:38:25/RNN_Final-25-0.036.hdf5\n",
      "7344/7344 [==============================] - 3s 469us/sample - loss: 0.0367 - val_loss: 0.0364\n",
      "Epoch 26/30\n",
      "7232/7344 [============================>.] - ETA: 0s - loss: 0.0379\n",
      "Epoch 00026: val_loss did not improve from 0.03644\n",
      "7344/7344 [==============================] - 3s 466us/sample - loss: 0.0379 - val_loss: 0.0380\n",
      "Epoch 27/30\n",
      "7296/7344 [============================>.] - ETA: 0s - loss: 0.0368\n",
      "Epoch 00027: val_loss did not improve from 0.03644\n",
      "7344/7344 [==============================] - 3s 463us/sample - loss: 0.0369 - val_loss: 0.0371\n",
      "Epoch 28/30\n",
      "7232/7344 [============================>.] - ETA: 0s - loss: 0.0361\n",
      "Epoch 00028: val_loss did not improve from 0.03644\n",
      "7344/7344 [==============================] - 3s 453us/sample - loss: 0.0360 - val_loss: 0.0372\n",
      "Epoch 29/30\n",
      "7296/7344 [============================>.] - ETA: 0s - loss: 0.0343\n",
      "Epoch 00029: val_loss improved from 0.03644 to 0.03438, saving model to models/MSFT-30-SEQ-1-PRED_2020-03-26_12:38:25/RNN_Final-29-0.034.hdf5\n",
      "7344/7344 [==============================] - 3s 456us/sample - loss: 0.0342 - val_loss: 0.0344\n",
      "Epoch 30/30\n",
      "7296/7344 [============================>.] - ETA: 0s - loss: 0.0338\n",
      "Epoch 00030: val_loss improved from 0.03438 to 0.03229, saving model to models/MSFT-30-SEQ-1-PRED_2020-03-26_12:38:25/RNN_Final-30-0.032.hdf5\n",
      "7344/7344 [==============================] - 3s 474us/sample - loss: 0.0339 - val_loss: 0.0323\n"
     ]
    }
   ],
   "source": [
    "history = model.fit(train_x, train_y,\n",
    "                   batch_size = BATCH_SIZE,\n",
    "                   epochs = EPOCHS,\n",
    "                   validation_data = (valid_x, valid_y),\n",
    "                   callbacks = [tensorboard, checkpoint, earlystop])"
   ]
  },
  {
   "cell_type": "code",
   "execution_count": 24,
   "metadata": {},
   "outputs": [
    {
     "name": "stdout",
     "output_type": "stream",
     "text": [
      "Predictions shape: (1175, 1)\n",
      "valid_x shape: (1175, 30, 18)\n",
      "valid_y shape: (1175, 1)\n"
     ]
    }
   ],
   "source": [
    "y_pred = model.predict(valid_x)\n",
    "val_y = valid_y[..., np.newaxis]\n",
    "print(f'Predictions shape: {y_pred.shape}')\n",
    "print(f'valid_x shape: {valid_x.shape}')\n",
    "print(f'valid_y shape: {val_y.shape}')"
   ]
  },
  {
   "cell_type": "code",
   "execution_count": 26,
   "metadata": {},
   "outputs": [
    {
     "data": {
      "image/png": "[encoded data removed]",
      "text/plain": [
       "<Figure size 864x288 with 2 Axes>"
      ]
     },
     "metadata": {
      "needs_background": "light"
     },
     "output_type": "display_data"
    }
   ],
   "source": [
    "fig, axes = plt.subplots(nrows=1, ncols=2, figsize=(12, 4))\n",
    "\n",
    "plt.sca(axes[0])\n",
    "plot_series(valid_x[seq, :, 0], val_y[seq, 0], y_pred[seq, 0], n_steps = SEQ_LEN)\n",
    "\n",
    "plt.sca(axes[1])\n",
    "plot_learning_curves(history.history[\"loss\"], history.history[\"val_loss\"], axis = [1, EPOCHS, 0, 0.5])\n",
    "\n",
    "plt.show()"
   ]
  },
  {
   "cell_type": "markdown",
   "metadata": {},
   "source": [
    "## with Conv1D"
   ]
  },
  {
   "cell_type": "code",
   "execution_count": 41,
   "metadata": {},
   "outputs": [
    {
     "name": "stdout",
     "output_type": "stream",
     "text": [
      "Model: \"sequential_15\"\n",
      "_________________________________________________________________\n",
      "Layer (type)                 Output Shape              Param #   \n",
      "=================================================================\n",
      "conv1d_11 (Conv1D)           (None, 27, 64)            4672      \n",
      "_________________________________________________________________\n",
      "batch_normalization_36 (Batc (None, 27, 64)            256       \n",
      "_________________________________________________________________\n",
      "gru_24 (GRU)                 (None, 27, 20)            5160      \n",
      "_________________________________________________________________\n",
      "dropout_38 (Dropout)         (None, 27, 20)            0         \n",
      "_________________________________________________________________\n",
      "batch_normalization_37 (Batc (None, 27, 20)            80        \n",
      "_________________________________________________________________\n",
      "gru_25 (GRU)                 (None, 20)                2520      \n",
      "_________________________________________________________________\n",
      "dropout_39 (Dropout)         (None, 20)                0         \n",
      "_________________________________________________________________\n",
      "batch_normalization_38 (Batc (None, 20)                80        \n",
      "_________________________________________________________________\n",
      "dense_26 (Dense)             (None, 32)                672       \n",
      "_________________________________________________________________\n",
      "dropout_40 (Dropout)         (None, 32)                0         \n",
      "_________________________________________________________________\n",
      "dense_27 (Dense)             (None, 1)                 33        \n",
      "=================================================================\n",
      "Total params: 13,473\n",
      "Trainable params: 13,265\n",
      "Non-trainable params: 208\n",
      "_________________________________________________________________\n",
      "Directory already exists\n"
     ]
    }
   ],
   "source": [
    "NAME = f'{STOCK_TO_PREDICT}-{SEQ_LEN}-SEQ-{FUTURE_PERIOD_PREDICT}-PRED_{now}'\n",
    "\n",
    "model = Sequential([\n",
    "    \n",
    "    Conv1D(filters = 64, kernel_size = 4, padding = 'valid', input_shape = train_x.shape[1:]),\n",
    "    BatchNormalization(),\n",
    "    \n",
    "    GRU(20, activation = 'tanh', return_sequences = True ),\n",
    "    Dropout(0.2),\n",
    "    BatchNormalization(),\n",
    "    \n",
    "    GRU(20, activation = 'tanh', return_sequences = False),\n",
    "    Dropout(0.2),\n",
    "    BatchNormalization(),\n",
    "    \n",
    "    Dense(32, activation = 'tanh'),\n",
    "    Dropout(0.2),\n",
    "    \n",
    "    Dense(1),\n",
    "])\n",
    "\n",
    "opt = tf.keras.optimizers.Adam(lr=0.001, decay = 1e-6)\n",
    "\n",
    "model.compile(loss = 'mse',\n",
    "             optimizer = 'nadam'\n",
    "             )\n",
    "\n",
    "model.summary()\n",
    "\n",
    "tensorboard = TensorBoard(log_dir = f'logs/{NAME}')\n",
    "filepath = \"RNN_Final-{epoch:02d}-{val_loss:.3f}.hdf5\"  # unique file name that will include the epoch and the validation acc for that epoch\n",
    "checkpoint = ModelCheckpoint(f\"models/{NAME}/{filepath}\", monitor='val_loss', verbose=1, save_best_only=True, mode='auto') # saves only the best ones\n",
    "earlystop = EarlyStopping(monitor='val_loss', patience=10, verbose=0, mode='auto', restore_best_weights=True)\n",
    "\n",
    "# create folder for checkpoints (or it will throw an error if not found!)\n",
    "try:\n",
    "    os.makedirs(f\"models/{NAME}\")\n",
    "except:\n",
    "    print(\"Directory already exists\")  "
   ]
  },
  {
   "cell_type": "code",
   "execution_count": 42,
   "metadata": {},
   "outputs": [
    {
     "name": "stdout",
     "output_type": "stream",
     "text": [
      "Train on 7344 samples, validate on 1175 samples\n",
      "Epoch 1/30\n",
      "7296/7344 [============================>.] - ETA: 0s - loss: 0.2336\n",
      "Epoch 00001: val_loss improved from inf to 0.15218, saving model to models/MSFT-30-SEQ-1-PRED_2020-03-26_12:38:25/RNN_Final-01-0.152.hdf5\n",
      "7344/7344 [==============================] - 8s 1ms/sample - loss: 0.2329 - val_loss: 0.1522\n",
      "Epoch 2/30\n",
      "7232/7344 [============================>.] - ETA: 0s - loss: 0.1268\n",
      "Epoch 00002: val_loss improved from 0.15218 to 0.06593, saving model to models/MSFT-30-SEQ-1-PRED_2020-03-26_12:38:25/RNN_Final-02-0.066.hdf5\n",
      "7344/7344 [==============================] - 3s 436us/sample - loss: 0.1261 - val_loss: 0.0659\n",
      "Epoch 3/30\n",
      "7296/7344 [============================>.] - ETA: 0s - loss: 0.0957\n",
      "Epoch 00003: val_loss improved from 0.06593 to 0.06388, saving model to models/MSFT-30-SEQ-1-PRED_2020-03-26_12:38:25/RNN_Final-03-0.064.hdf5\n",
      "7344/7344 [==============================] - 3s 452us/sample - loss: 0.0956 - val_loss: 0.0639\n",
      "Epoch 4/30\n",
      "7296/7344 [============================>.] - ETA: 0s - loss: 0.0851\n",
      "Epoch 00004: val_loss improved from 0.06388 to 0.05707, saving model to models/MSFT-30-SEQ-1-PRED_2020-03-26_12:38:25/RNN_Final-04-0.057.hdf5\n",
      "7344/7344 [==============================] - 3s 438us/sample - loss: 0.0849 - val_loss: 0.0571\n",
      "Epoch 5/30\n",
      "7296/7344 [============================>.] - ETA: 0s - loss: 0.0759\n",
      "Epoch 00005: val_loss did not improve from 0.05707\n",
      "7344/7344 [==============================] - 3s 441us/sample - loss: 0.0758 - val_loss: 0.0610\n",
      "Epoch 6/30\n",
      "7232/7344 [============================>.] - ETA: 0s - loss: 0.0678\n",
      "Epoch 00006: val_loss did not improve from 0.05707\n",
      "7344/7344 [==============================] - 3s 440us/sample - loss: 0.0684 - val_loss: 0.0601\n",
      "Epoch 7/30\n",
      "7296/7344 [============================>.] - ETA: 0s - loss: 0.0593\n",
      "Epoch 00007: val_loss did not improve from 0.05707\n",
      "7344/7344 [==============================] - 3s 442us/sample - loss: 0.0591 - val_loss: 0.0718\n",
      "Epoch 8/30\n",
      "7168/7344 [============================>.] - ETA: 0s - loss: 0.0593\n",
      "Epoch 00008: val_loss did not improve from 0.05707\n",
      "7344/7344 [==============================] - 3s 439us/sample - loss: 0.0587 - val_loss: 0.0629\n",
      "Epoch 9/30\n",
      "7232/7344 [============================>.] - ETA: 0s - loss: 0.0537\n",
      "Epoch 00009: val_loss did not improve from 0.05707\n",
      "7344/7344 [==============================] - 3s 460us/sample - loss: 0.0536 - val_loss: 0.0601\n",
      "Epoch 10/30\n",
      "7296/7344 [============================>.] - ETA: 0s - loss: 0.0513\n",
      "Epoch 00010: val_loss did not improve from 0.05707\n",
      "7344/7344 [==============================] - 3s 464us/sample - loss: 0.0512 - val_loss: 0.0666\n",
      "Epoch 11/30\n",
      "7296/7344 [============================>.] - ETA: 0s - loss: 0.0518\n",
      "Epoch 00011: val_loss did not improve from 0.05707\n",
      "7344/7344 [==============================] - 3s 441us/sample - loss: 0.0518 - val_loss: 0.0635\n",
      "Epoch 12/30\n",
      "7232/7344 [============================>.] - ETA: 0s - loss: 0.0461\n",
      "Epoch 00012: val_loss improved from 0.05707 to 0.05651, saving model to models/MSFT-30-SEQ-1-PRED_2020-03-26_12:38:25/RNN_Final-12-0.057.hdf5\n",
      "7344/7344 [==============================] - 3s 464us/sample - loss: 0.0460 - val_loss: 0.0565\n",
      "Epoch 13/30\n",
      "7296/7344 [============================>.] - ETA: 0s - loss: 0.0468\n",
      "Epoch 00013: val_loss improved from 0.05651 to 0.05592, saving model to models/MSFT-30-SEQ-1-PRED_2020-03-26_12:38:25/RNN_Final-13-0.056.hdf5\n",
      "7344/7344 [==============================] - 3s 455us/sample - loss: 0.0468 - val_loss: 0.0559\n",
      "Epoch 14/30\n",
      "7296/7344 [============================>.] - ETA: 0s - loss: 0.0439\n",
      "Epoch 00014: val_loss improved from 0.05592 to 0.05291, saving model to models/MSFT-30-SEQ-1-PRED_2020-03-26_12:38:25/RNN_Final-14-0.053.hdf5\n",
      "7344/7344 [==============================] - 4s 483us/sample - loss: 0.0437 - val_loss: 0.0529\n",
      "Epoch 15/30\n",
      "7232/7344 [============================>.] - ETA: 0s - loss: 0.0449\n",
      "Epoch 00015: val_loss improved from 0.05291 to 0.05190, saving model to models/MSFT-30-SEQ-1-PRED_2020-03-26_12:38:25/RNN_Final-15-0.052.hdf5\n",
      "7344/7344 [==============================] - 3s 456us/sample - loss: 0.0449 - val_loss: 0.0519\n",
      "Epoch 16/30\n",
      "7232/7344 [============================>.] - ETA: 0s - loss: 0.0424\n",
      "Epoch 00016: val_loss improved from 0.05190 to 0.04646, saving model to models/MSFT-30-SEQ-1-PRED_2020-03-26_12:38:25/RNN_Final-16-0.046.hdf5\n",
      "7344/7344 [==============================] - 3s 456us/sample - loss: 0.0425 - val_loss: 0.0465\n",
      "Epoch 17/30\n",
      "7232/7344 [============================>.] - ETA: 0s - loss: 0.0426\n",
      "Epoch 00017: val_loss improved from 0.04646 to 0.04199, saving model to models/MSFT-30-SEQ-1-PRED_2020-03-26_12:38:25/RNN_Final-17-0.042.hdf5\n",
      "7344/7344 [==============================] - 3s 458us/sample - loss: 0.0426 - val_loss: 0.0420\n",
      "Epoch 18/30\n",
      "7232/7344 [============================>.] - ETA: 0s - loss: 0.0406\n",
      "Epoch 00018: val_loss did not improve from 0.04199\n",
      "7344/7344 [==============================] - 4s 495us/sample - loss: 0.0404 - val_loss: 0.0456\n",
      "Epoch 19/30\n",
      "7296/7344 [============================>.] - ETA: 0s - loss: 0.0392\n",
      "Epoch 00019: val_loss did not improve from 0.04199\n",
      "7344/7344 [==============================] - 4s 482us/sample - loss: 0.0391 - val_loss: 0.0465\n",
      "Epoch 20/30\n",
      "7296/7344 [============================>.] - ETA: 0s - loss: 0.0396\n",
      "Epoch 00020: val_loss improved from 0.04199 to 0.03919, saving model to models/MSFT-30-SEQ-1-PRED_2020-03-26_12:38:25/RNN_Final-20-0.039.hdf5\n",
      "7344/7344 [==============================] - 4s 496us/sample - loss: 0.0396 - val_loss: 0.0392\n",
      "Epoch 21/30\n",
      "7296/7344 [============================>.] - ETA: 0s - loss: 0.0379\n",
      "Epoch 00021: val_loss did not improve from 0.03919\n",
      "7344/7344 [==============================] - 4s 505us/sample - loss: 0.0380 - val_loss: 0.0433\n",
      "Epoch 22/30\n",
      "7232/7344 [============================>.] - ETA: 0s - loss: 0.0382\n",
      "Epoch 00022: val_loss improved from 0.03919 to 0.03806, saving model to models/MSFT-30-SEQ-1-PRED_2020-03-26_12:38:25/RNN_Final-22-0.038.hdf5\n",
      "7344/7344 [==============================] - 4s 505us/sample - loss: 0.0382 - val_loss: 0.0381\n",
      "Epoch 23/30\n",
      "7232/7344 [============================>.] - ETA: 0s - loss: 0.0346\n",
      "Epoch 00023: val_loss did not improve from 0.03806\n",
      "7344/7344 [==============================] - 4s 575us/sample - loss: 0.0347 - val_loss: 0.0441\n",
      "Epoch 24/30\n",
      "7232/7344 [============================>.] - ETA: 0s - loss: 0.0370\n",
      "Epoch 00024: val_loss did not improve from 0.03806\n",
      "7344/7344 [==============================] - 4s 520us/sample - loss: 0.0372 - val_loss: 0.0517\n",
      "Epoch 25/30\n",
      "7296/7344 [============================>.] - ETA: 0s - loss: 0.0349\n",
      "Epoch 00025: val_loss improved from 0.03806 to 0.03705, saving model to models/MSFT-30-SEQ-1-PRED_2020-03-26_12:38:25/RNN_Final-25-0.037.hdf5\n",
      "7344/7344 [==============================] - 4s 521us/sample - loss: 0.0349 - val_loss: 0.0371\n",
      "Epoch 26/30\n",
      "7296/7344 [============================>.] - ETA: 0s - loss: 0.0327\n",
      "Epoch 00026: val_loss did not improve from 0.03705\n",
      "7344/7344 [==============================] - 3s 468us/sample - loss: 0.0327 - val_loss: 0.0388\n",
      "Epoch 27/30\n",
      "7296/7344 [============================>.] - ETA: 0s - loss: 0.0327\n",
      "Epoch 00027: val_loss did not improve from 0.03705\n",
      "7344/7344 [==============================] - 3s 457us/sample - loss: 0.0328 - val_loss: 0.0493\n",
      "Epoch 28/30\n",
      "7232/7344 [============================>.] - ETA: 0s - loss: 0.0343\n",
      "Epoch 00028: val_loss improved from 0.03705 to 0.02997, saving model to models/MSFT-30-SEQ-1-PRED_2020-03-26_12:38:25/RNN_Final-28-0.030.hdf5\n",
      "7344/7344 [==============================] - 4s 485us/sample - loss: 0.0342 - val_loss: 0.0300\n",
      "Epoch 29/30\n",
      "7232/7344 [============================>.] - ETA: 0s - loss: 0.0304\n",
      "Epoch 00029: val_loss did not improve from 0.02997\n",
      "7344/7344 [==============================] - 3s 468us/sample - loss: 0.0303 - val_loss: 0.0403\n",
      "Epoch 30/30\n",
      "7232/7344 [============================>.] - ETA: 0s - loss: 0.0322\n",
      "Epoch 00030: val_loss did not improve from 0.02997\n",
      "7344/7344 [==============================] - 3s 460us/sample - loss: 0.0321 - val_loss: 0.0384\n"
     ]
    }
   ],
   "source": [
    "history = model.fit(train_x, train_y,\n",
    "                   batch_size = BATCH_SIZE,\n",
    "                   epochs = EPOCHS,\n",
    "                   validation_data = (valid_x, valid_y),\n",
    "                   callbacks = [tensorboard, checkpoint, earlystop])"
   ]
  },
  {
   "cell_type": "code",
   "execution_count": 43,
   "metadata": {},
   "outputs": [
    {
     "name": "stdout",
     "output_type": "stream",
     "text": [
      "Predictions shape: (1175, 1)\n",
      "valid_x shape: (1175, 30, 18)\n",
      "valid_y shape: (1175, 1)\n"
     ]
    }
   ],
   "source": [
    "y_pred = model.predict(valid_x)\n",
    "val_y = valid_y[..., np.newaxis]\n",
    "print(f'Predictions shape: {y_pred.shape}')\n",
    "print(f'valid_x shape: {valid_x.shape}')\n",
    "print(f'valid_y shape: {val_y.shape}')"
   ]
  },
  {
   "cell_type": "code",
   "execution_count": 44,
   "metadata": {},
   "outputs": [
    {
     "data": {
      "image/png": "[encoded data removed]",
      "text/plain": [
       "<Figure size 864x288 with 2 Axes>"
      ]
     },
     "metadata": {
      "needs_background": "light"
     },
     "output_type": "display_data"
    }
   ],
   "source": [
    "fig, axes = plt.subplots(nrows=1, ncols=2, figsize=(12, 4))\n",
    "\n",
    "plt.sca(axes[0])\n",
    "plot_series(valid_x[seq, :, 0], val_y[seq, 0], y_pred[seq, 0], n_steps = SEQ_LEN)\n",
    "\n",
    "plt.sca(axes[1])\n",
    "plot_learning_curves(history.history[\"loss\"], history.history[\"val_loss\"], axis = [1, EPOCHS, 0, 0.5])\n",
    "\n",
    "plt.show()"
   ]
  },
  {
   "cell_type": "code",
   "execution_count": null,
   "metadata": {},
   "outputs": [],
   "source": []
  }
 ],
 "metadata": {
  "kernelspec": {
   "display_name": "newpy36",
   "language": "python",
   "name": "newpy36"
  },
  "language_info": {
   "codemirror_mode": {
    "name": "ipython",
    "version": 3
   },
   "file_extension": ".py",
   "mimetype": "text/x-python",
   "name": "python",
   "nbconvert_exporter": "python",
   "pygments_lexer": "ipython3",
   "version": "3.7.6"
  }
 },
 "nbformat": 4,
 "nbformat_minor": 4
}
