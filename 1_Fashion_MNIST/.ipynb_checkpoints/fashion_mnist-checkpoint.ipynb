{
 "cells": [
  {
   "cell_type": "markdown",
   "metadata": {},
   "source": [
    "# Fashion MNIST\n",
    "\n",
    "\n",
    "### Imports"
   ]
  },
  {
   "cell_type": "code",
   "execution_count": 1,
   "metadata": {},
   "outputs": [
    {
     "name": "stderr",
     "output_type": "stream",
     "text": [
      "Using TensorFlow backend.\n"
     ]
    }
   ],
   "source": [
    "import keras\n",
    "import numpy as np\n",
    "import seaborn as sns\n",
    "import pandas as pd\n",
    "from matplotlib import pyplot as plt\n",
    "from keras.losses import mean_squared_error\n",
    "from keras.models import Sequential\n",
    "from keras.layers import Flatten, Dense, SimpleRNN"
   ]
  },
  {
   "cell_type": "markdown",
   "metadata": {},
   "source": [
    "### Data\n",
    "\n",
    "First, load the Fashion MNIST dataset using Keras. It is a collection of more than 6000 images which are represented using 28x28 arrays."
   ]
  },
  {
   "cell_type": "code",
   "execution_count": 2,
   "metadata": {},
   "outputs": [
    {
     "name": "stdout",
     "output_type": "stream",
     "text": [
      "(60000, 28, 28)\n",
      "[  0   0   1   4   6   7   2   0   0   0   0   0 237 226 217 223 222 219\n",
      " 222 221 216 223 229 215 218 255  77   0]\n"
     ]
    }
   ],
   "source": [
    "fashion_mnist = keras.datasets.fashion_mnist\n",
    "(x_train, y_train), (x_test, y_test) = fashion_mnist.load_data()\n",
    "\n",
    "# images are represented as 28x28 arrays...\n",
    "print(x_train.shape)\n",
    "# ... with integer pixel intensity from 0 to 255\n",
    "print(x_train[0,14,:])"
   ]
  },
  {
   "cell_type": "markdown",
   "metadata": {},
   "source": [
    "Two data transformations are necessary: first, we have to split the dataset into a training and a validation set, second, we have to scale features to be bounded in the (0,1) interval. Since the minimum value is 0, min-max scaling only requires to divide by the maximum value."
   ]
  },
  {
   "cell_type": "code",
   "execution_count": 3,
   "metadata": {},
   "outputs": [],
   "source": [
    "x_val, x_train = x_train[:5000] / 255.0, x_train[5000:] /255.0\n",
    "y_val, y_train = y_train[:5000], y_train[5000:]"
   ]
  },
  {
   "cell_type": "markdown",
   "metadata": {},
   "source": [
    "Numerical labels can be converted to categorical, string, labels according to the following list:"
   ]
  },
  {
   "cell_type": "code",
   "execution_count": 4,
   "metadata": {},
   "outputs": [],
   "source": [
    "labels = ['T-shirt', 'Troursers', 'Pullover', 'Dress', 'Coat', 'Sandal',\n",
    "              'Shirt', 'Sneaker', 'Bag', 'Ankle_boot']"
   ]
  },
  {
   "cell_type": "markdown",
   "metadata": {},
   "source": [
    "Let's plot some items just to have a better idea about the task at hand:"
   ]
  },
  {
   "cell_type": "code",
   "execution_count": 5,
   "metadata": {},
   "outputs": [
    {
     "data": {
      "image/png": "[encoded data removed]",
      "text/plain": [
       "<Figure size 360x360 with 9 Axes>"
      ]
     },
     "metadata": {},
     "output_type": "display_data"
    }
   ],
   "source": [
    "plt.figure(figsize=(5,5))\n",
    "for i in range(9):\n",
    "    plt.subplot(3,3,i+1)\n",
    "    plt.xticks([])\n",
    "    plt.yticks([])\n",
    "    plt.grid(False)\n",
    "    plt.imshow(x_train[i], cmap=plt.cm.binary)\n",
    "    plt.xlabel(labels[y_train[i]])\n",
    "plt.show()"
   ]
  },
  {
   "cell_type": "markdown",
   "metadata": {},
   "source": [
    "### Baselines\n",
    "Model's performances metrics like accuracy and AUC should not be compared to zero, but rather to a very trivial baseline like random-guess or linear regression. Notice that we always use **softmax activation** for the output layer when we are dealing with a classification task over multiple mutually-exclusive classes. Instead, we would use the simpler **sigmoid activation** for binary classification."
   ]
  },
  {
   "cell_type": "code",
   "execution_count": 6,
   "metadata": {},
   "outputs": [
    {
     "name": "stdout",
     "output_type": "stream",
     "text": [
      "Train on 55000 samples, validate on 5000 samples\n",
      "Epoch 1/20\n",
      "55000/55000 [==============================] - 2s 41us/step - loss: 0.8432 - accuracy: 0.7337 - val_loss: 0.6406 - val_accuracy: 0.7974\n",
      "Epoch 2/20\n",
      "55000/55000 [==============================] - 2s 41us/step - loss: 0.6032 - accuracy: 0.8036 - val_loss: 0.5652 - val_accuracy: 0.8190\n",
      "Epoch 3/20\n",
      "55000/55000 [==============================] - 3s 48us/step - loss: 0.5512 - accuracy: 0.8190 - val_loss: 0.5306 - val_accuracy: 0.8278\n",
      "Epoch 4/20\n",
      "55000/55000 [==============================] - 2s 41us/step - loss: 0.5228 - accuracy: 0.8258 - val_loss: 0.5100 - val_accuracy: 0.8336\n",
      "Epoch 5/20\n",
      "55000/55000 [==============================] - 3s 46us/step - loss: 0.5047 - accuracy: 0.8318 - val_loss: 0.4944 - val_accuracy: 0.8390\n",
      "Epoch 6/20\n",
      "55000/55000 [==============================] - 2s 44us/step - loss: 0.4916 - accuracy: 0.8347 - val_loss: 0.4838 - val_accuracy: 0.8410\n",
      "Epoch 7/20\n",
      "55000/55000 [==============================] - 2s 38us/step - loss: 0.4814 - accuracy: 0.8381 - val_loss: 0.4752 - val_accuracy: 0.8462\n",
      "Epoch 8/20\n",
      "55000/55000 [==============================] - 2s 38us/step - loss: 0.4732 - accuracy: 0.8404 - val_loss: 0.4674 - val_accuracy: 0.8484\n",
      "Epoch 9/20\n",
      "55000/55000 [==============================] - 2s 38us/step - loss: 0.4667 - accuracy: 0.8423 - val_loss: 0.4636 - val_accuracy: 0.8476\n",
      "Epoch 10/20\n",
      "55000/55000 [==============================] - 3s 47us/step - loss: 0.4601 - accuracy: 0.8448 - val_loss: 0.4572 - val_accuracy: 0.8508\n",
      "Epoch 11/20\n",
      "55000/55000 [==============================] - 2s 40us/step - loss: 0.4552 - accuracy: 0.8456 - val_loss: 0.4537 - val_accuracy: 0.8500\n",
      "Epoch 12/20\n",
      "55000/55000 [==============================] - 2s 38us/step - loss: 0.4508 - accuracy: 0.8471 - val_loss: 0.4562 - val_accuracy: 0.8520\n",
      "Epoch 13/20\n",
      "55000/55000 [==============================] - 2s 39us/step - loss: 0.4476 - accuracy: 0.8477 - val_loss: 0.4521 - val_accuracy: 0.8498\n",
      "Epoch 14/20\n",
      "55000/55000 [==============================] - 2s 44us/step - loss: 0.4439 - accuracy: 0.8497 - val_loss: 0.4465 - val_accuracy: 0.8554\n",
      "Epoch 15/20\n",
      "55000/55000 [==============================] - 3s 46us/step - loss: 0.4409 - accuracy: 0.8491 - val_loss: 0.4400 - val_accuracy: 0.8554\n",
      "Epoch 16/20\n",
      "55000/55000 [==============================] - 3s 47us/step - loss: 0.4380 - accuracy: 0.8500 - val_loss: 0.4378 - val_accuracy: 0.8568\n",
      "Epoch 17/20\n",
      "55000/55000 [==============================] - 3s 57us/step - loss: 0.4356 - accuracy: 0.8516 - val_loss: 0.4408 - val_accuracy: 0.8552\n",
      "Epoch 18/20\n",
      "55000/55000 [==============================] - 3s 46us/step - loss: 0.4331 - accuracy: 0.8515 - val_loss: 0.4371 - val_accuracy: 0.8556\n",
      "Epoch 19/20\n",
      "55000/55000 [==============================] - 2s 42us/step - loss: 0.4308 - accuracy: 0.8531 - val_loss: 0.4372 - val_accuracy: 0.8586\n",
      "Epoch 20/20\n",
      "55000/55000 [==============================] - 2s 41us/step - loss: 0.4294 - accuracy: 0.8529 - val_loss: 0.4344 - val_accuracy: 0.8568\n"
     ]
    },
    {
     "data": {
      "text/plain": [
       "<keras.callbacks.callbacks.History at 0x7f2ada177d10>"
      ]
     },
     "execution_count": 6,
     "metadata": {},
     "output_type": "execute_result"
    }
   ],
   "source": [
    "baseline = Sequential()\n",
    "baseline.add(Flatten(input_shape = [28,28]))\n",
    "baseline.add(Dense(10, activation= 'softmax'))\n",
    "\n",
    "baseline.compile(loss = 'sparse_categorical_crossentropy', optimizer='sgd', metrics=['accuracy'])\n",
    "baseline.fit(x_train, y_train, epochs = 20, validation_data = (x_val, y_val))"
   ]
  },
  {
   "cell_type": "markdown",
   "metadata": {},
   "source": [
    "### Model\n",
    "Use a fully connected network with two hiddens layers."
   ]
  },
  {
   "cell_type": "code",
   "execution_count": 7,
   "metadata": {},
   "outputs": [],
   "source": [
    "model = Sequential()\n",
    "model.add(Flatten(input_shape = [28,28]))\n",
    "model.add(Dense(100, activation = 'relu'))\n",
    "model.add(Dense(100, activation = 'relu'))\n",
    "model.add(Dense(10, activation= 'softmax'))"
   ]
  },
  {
   "cell_type": "markdown",
   "metadata": {},
   "source": [
    "To see how many parameters the network has, we can use the **summary( )** method. Notice that FC layers tend to have lots of parameters!"
   ]
  },
  {
   "cell_type": "code",
   "execution_count": 8,
   "metadata": {},
   "outputs": [
    {
     "name": "stdout",
     "output_type": "stream",
     "text": [
      "Model: \"sequential_2\"\n",
      "_________________________________________________________________\n",
      "Layer (type)                 Output Shape              Param #   \n",
      "=================================================================\n",
      "flatten_2 (Flatten)          (None, 784)               0         \n",
      "_________________________________________________________________\n",
      "dense_2 (Dense)              (None, 100)               78500     \n",
      "_________________________________________________________________\n",
      "dense_3 (Dense)              (None, 100)               10100     \n",
      "_________________________________________________________________\n",
      "dense_4 (Dense)              (None, 10)                1010      \n",
      "=================================================================\n",
      "Total params: 89,610\n",
      "Trainable params: 89,610\n",
      "Non-trainable params: 0\n",
      "_________________________________________________________________\n"
     ]
    }
   ],
   "source": [
    "model.summary()"
   ]
  },
  {
   "cell_type": "markdown",
   "metadata": {},
   "source": [
    "It's time to compile the model by telling Keras which loss function and optimizer we would like to use. Furthermore, we can also provide additional metrics to keep track of. In this case, we use **sparse_categorical_crossentropy** because we have multiple classes, which are mutually exclusive and sparse, as they have not been one-hot-encoded. Instead, if we had proceeded with one-hot encoding we would be using **categorical_crossentropy** loss instead. Finally, when the problem is binary we can simply choose **binary_crossentropy** as the loss function."
   ]
  },
  {
   "cell_type": "code",
   "execution_count": 9,
   "metadata": {},
   "outputs": [],
   "source": [
    "model.compile(loss = 'sparse_categorical_crossentropy', optimizer='sgd', metrics=['accuracy'])"
   ]
  },
  {
   "cell_type": "markdown",
   "metadata": {},
   "source": [
    "Finally, we are ready to train the model by calling its **fit( )** method."
   ]
  },
  {
   "cell_type": "code",
   "execution_count": 10,
   "metadata": {},
   "outputs": [
    {
     "name": "stdout",
     "output_type": "stream",
     "text": [
      "Train on 55000 samples, validate on 5000 samples\n",
      "Epoch 1/30\n",
      "55000/55000 [==============================] - 4s 72us/step - loss: 0.7781 - accuracy: 0.7400 - val_loss: 0.5238 - val_accuracy: 0.8220\n",
      "Epoch 2/30\n",
      "55000/55000 [==============================] - 3s 60us/step - loss: 0.5042 - accuracy: 0.8247 - val_loss: 0.5058 - val_accuracy: 0.8272\n",
      "Epoch 3/30\n",
      "55000/55000 [==============================] - 4s 64us/step - loss: 0.4568 - accuracy: 0.8399 - val_loss: 0.4456 - val_accuracy: 0.8444\n",
      "Epoch 4/30\n",
      "55000/55000 [==============================] - 3s 58us/step - loss: 0.4297 - accuracy: 0.8496 - val_loss: 0.4073 - val_accuracy: 0.8606\n",
      "Epoch 5/30\n",
      "55000/55000 [==============================] - 3s 56us/step - loss: 0.4102 - accuracy: 0.8554 - val_loss: 0.3940 - val_accuracy: 0.8648\n",
      "Epoch 6/30\n",
      "55000/55000 [==============================] - 3s 56us/step - loss: 0.3952 - accuracy: 0.8609 - val_loss: 0.3872 - val_accuracy: 0.8654\n",
      "Epoch 7/30\n",
      "55000/55000 [==============================] - 3s 56us/step - loss: 0.3831 - accuracy: 0.8651 - val_loss: 0.3864 - val_accuracy: 0.8618\n",
      "Epoch 8/30\n",
      "55000/55000 [==============================] - 3s 59us/step - loss: 0.3717 - accuracy: 0.8677 - val_loss: 0.3593 - val_accuracy: 0.8738\n",
      "Epoch 9/30\n",
      "55000/55000 [==============================] - 3s 55us/step - loss: 0.3621 - accuracy: 0.8721 - val_loss: 0.3558 - val_accuracy: 0.8732\n",
      "Epoch 10/30\n",
      "55000/55000 [==============================] - 3s 55us/step - loss: 0.3528 - accuracy: 0.8739 - val_loss: 0.3573 - val_accuracy: 0.8718\n",
      "Epoch 11/30\n",
      "55000/55000 [==============================] - 3s 60us/step - loss: 0.3436 - accuracy: 0.8779 - val_loss: 0.3471 - val_accuracy: 0.8776\n",
      "Epoch 12/30\n",
      "55000/55000 [==============================] - 3s 56us/step - loss: 0.3374 - accuracy: 0.8793 - val_loss: 0.3441 - val_accuracy: 0.8760\n",
      "Epoch 13/30\n",
      "55000/55000 [==============================] - 3s 54us/step - loss: 0.3301 - accuracy: 0.8813 - val_loss: 0.3641 - val_accuracy: 0.8694\n",
      "Epoch 14/30\n",
      "55000/55000 [==============================] - 3s 54us/step - loss: 0.3228 - accuracy: 0.8831 - val_loss: 0.3394 - val_accuracy: 0.8742\n",
      "Epoch 15/30\n",
      "55000/55000 [==============================] - 3s 54us/step - loss: 0.3170 - accuracy: 0.8862 - val_loss: 0.3488 - val_accuracy: 0.8710\n",
      "Epoch 16/30\n",
      "55000/55000 [==============================] - 3s 54us/step - loss: 0.3109 - accuracy: 0.8889 - val_loss: 0.3354 - val_accuracy: 0.8802\n",
      "Epoch 17/30\n",
      "55000/55000 [==============================] - 3s 60us/step - loss: 0.3053 - accuracy: 0.8903 - val_loss: 0.3352 - val_accuracy: 0.8784\n",
      "Epoch 18/30\n",
      "55000/55000 [==============================] - 3s 58us/step - loss: 0.3001 - accuracy: 0.8916 - val_loss: 0.3402 - val_accuracy: 0.8774\n",
      "Epoch 19/30\n",
      "55000/55000 [==============================] - 3s 54us/step - loss: 0.2955 - accuracy: 0.8941 - val_loss: 0.3307 - val_accuracy: 0.8814\n",
      "Epoch 20/30\n",
      "55000/55000 [==============================] - 3s 55us/step - loss: 0.2912 - accuracy: 0.8941 - val_loss: 0.3192 - val_accuracy: 0.8830\n",
      "Epoch 21/30\n",
      "55000/55000 [==============================] - 3s 55us/step - loss: 0.2863 - accuracy: 0.8957 - val_loss: 0.3358 - val_accuracy: 0.8758\n",
      "Epoch 22/30\n",
      "55000/55000 [==============================] - 3s 54us/step - loss: 0.2821 - accuracy: 0.8980 - val_loss: 0.3147 - val_accuracy: 0.8864\n",
      "Epoch 23/30\n",
      "55000/55000 [==============================] - 3s 56us/step - loss: 0.2773 - accuracy: 0.8995 - val_loss: 0.3123 - val_accuracy: 0.8890\n",
      "Epoch 24/30\n",
      "55000/55000 [==============================] - 3s 54us/step - loss: 0.2743 - accuracy: 0.8998 - val_loss: 0.3191 - val_accuracy: 0.8860\n",
      "Epoch 25/30\n",
      "55000/55000 [==============================] - 3s 54us/step - loss: 0.2702 - accuracy: 0.9023 - val_loss: 0.3179 - val_accuracy: 0.8842\n",
      "Epoch 26/30\n",
      "55000/55000 [==============================] - 3s 54us/step - loss: 0.2659 - accuracy: 0.9039 - val_loss: 0.3164 - val_accuracy: 0.8854\n",
      "Epoch 27/30\n",
      "55000/55000 [==============================] - 3s 59us/step - loss: 0.2627 - accuracy: 0.9047 - val_loss: 0.3390 - val_accuracy: 0.8796\n",
      "Epoch 28/30\n",
      "55000/55000 [==============================] - 4s 66us/step - loss: 0.2592 - accuracy: 0.9055 - val_loss: 0.3207 - val_accuracy: 0.8832\n",
      "Epoch 29/30\n",
      "55000/55000 [==============================] - 4s 68us/step - loss: 0.2552 - accuracy: 0.9073 - val_loss: 0.3122 - val_accuracy: 0.8864\n",
      "Epoch 30/30\n",
      "55000/55000 [==============================] - 4s 66us/step - loss: 0.2531 - accuracy: 0.9083 - val_loss: 0.3088 - val_accuracy: 0.8884\n"
     ]
    }
   ],
   "source": [
    "history = model.fit(x_train, y_train, epochs = 30, validation_data = (x_val, y_val))"
   ]
  },
  {
   "cell_type": "markdown",
   "metadata": {},
   "source": [
    "The history object that is returned when training the model contains much useful information about the training itself. Especially, we can use it to retrieve and plot **learning curves**."
   ]
  },
  {
   "cell_type": "code",
   "execution_count": 11,
   "metadata": {},
   "outputs": [
    {
     "data": {
      "image/png": "[encoded data removed]",
      "text/plain": [
       "<Figure size 432x288 with 1 Axes>"
      ]
     },
     "metadata": {
      "needs_background": "light"
     },
     "output_type": "display_data"
    }
   ],
   "source": [
    "pd.DataFrame(history.history).plot(figsize = (6,4))\n",
    "plt.grid(True)\n",
    "plt.gca().set_ylim(0, 1)\n",
    "plt.show()"
   ]
  },
  {
   "cell_type": "markdown",
   "metadata": {},
   "source": [
    "To evaluated the model's performances on the test set we can simply call the **evaluate()** method, which will return the loss and the others metrics that keras has been told to track (accuracy, in this case)."
   ]
  },
  {
   "cell_type": "code",
   "execution_count": 12,
   "metadata": {},
   "outputs": [
    {
     "name": "stdout",
     "output_type": "stream",
     "text": [
      "10000/10000 [==============================] - 0s 32us/step\n"
     ]
    },
    {
     "data": {
      "text/plain": [
       "[87.3546055480957, 0.8130000233650208]"
      ]
     },
     "execution_count": 12,
     "metadata": {},
     "output_type": "execute_result"
    }
   ],
   "source": [
    "model.evaluate(x_test, y_test)"
   ]
  },
  {
   "cell_type": "markdown",
   "metadata": {},
   "source": [
    "Finally, we can make predictions on new data and compare predicted labels (x_axis) with actual labels (y_axis)."
   ]
  },
  {
   "cell_type": "code",
   "execution_count": 13,
   "metadata": {},
   "outputs": [
    {
     "data": {
      "image/png": "[encoded data removed]",
      "text/plain": [
       "<Figure size 360x360 with 9 Axes>"
      ]
     },
     "metadata": {},
     "output_type": "display_data"
    }
   ],
   "source": [
    "y_proba = model.predict(x_test[:9])\n",
    "y_preds = model.predict_classes(x_test[:9])\n",
    "\n",
    "# plot actual vs predicted classes\n",
    "plt.figure(figsize=(5,5))\n",
    "for i in range(9):\n",
    "    plt.subplot(3,3,i+1)\n",
    "    plt.xticks([])\n",
    "    plt.yticks([])\n",
    "    plt.grid(False)\n",
    "    plt.imshow(x_test[i], cmap=plt.cm.binary)\n",
    "    plt.ylabel(labels[y_test[i]])\n",
    "    plt.xlabel(labels[y_preds[i]])\n",
    "plt.show()"
   ]
  }
 ],
 "metadata": {
  "kernelspec": {
   "display_name": "newpy36",
   "language": "python",
   "name": "newpy36"
  },
  "language_info": {
   "codemirror_mode": {
    "name": "ipython",
    "version": 3
   },
   "file_extension": ".py",
   "mimetype": "text/x-python",
   "name": "python",
   "nbconvert_exporter": "python",
   "pygments_lexer": "ipython3",
   "version": "3.7.6"
  }
 },
 "nbformat": 4,
 "nbformat_minor": 4
}
