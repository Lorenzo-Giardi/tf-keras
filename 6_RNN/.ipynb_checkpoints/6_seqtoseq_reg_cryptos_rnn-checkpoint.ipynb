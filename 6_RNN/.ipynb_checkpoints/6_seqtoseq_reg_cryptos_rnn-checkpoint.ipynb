{
 "cells": [
  {
   "cell_type": "markdown",
   "metadata": {},
   "source": [
    "# Predicting cryptocurrencies: Seq-to-Seq Regression\n",
    "The problem can be approached from two different perspectives:\n",
    "* Classification (e.g. buy, hold, sell)\n",
    "* Regression (future price)\n",
    "\n",
    "In this notebook we'll approach the problem from a **regression** perspective, trying to predict the price of a cryptocurrency in the next 10 minutes from the observation of 4 cryptocurrencies prices in the previous 60 minutes (**sequence-to-sequence**)."
   ]
  },
  {
   "cell_type": "markdown",
   "metadata": {},
   "source": [
    "<table align=\"left\">\n",
    "  <td>\n",
    "    <a target=\"_blank\" href=\"https://colab.research.google.com/github/Lorenzo-Giardi/tf-keras/blob/master/6_RNN/6_seqtoseq_reg_cryptos_rnn.ipynb\"><img src=\"https://www.tensorflow.org/images/colab_logo_32px.png\" />Run in Google Colab</a>\n",
    "  </td>\n",
    "</table>"
   ]
  },
  {
   "cell_type": "markdown",
   "metadata": {},
   "source": [
    "## Imports and global parameters"
   ]
  },
  {
   "cell_type": "code",
   "execution_count": 1,
   "metadata": {},
   "outputs": [],
   "source": [
    "try:\n",
    "    %tensorflow_version 2.x\n",
    "except:\n",
    "    pass\n",
    "\n",
    "import pandas as pd\n",
    "import numpy as np\n",
    "import tensorflow as tf\n",
    "import random\n",
    "import time\n",
    "import os\n",
    "import matplotlib.pyplot as plt\n",
    "import seaborn as sns\n",
    "\n",
    "from random import randint\n",
    "from sklearn import preprocessing\n",
    "from collections import deque\n",
    "from tensorflow.keras.models import Sequential\n",
    "from tensorflow.keras.layers import Dense, Dropout, LSTM, GRU, BatchNormalization, Flatten, Conv1D, TimeDistributed\n",
    "from tensorflow.keras.callbacks import TensorBoard, ModelCheckpoint, EarlyStopping"
   ]
  },
  {
   "cell_type": "code",
   "execution_count": 2,
   "metadata": {},
   "outputs": [],
   "source": [
    "from rnn_utils import generate_time_series, plot_series, plot_multiple_forecasts, last_time_step_mse, plot_learning_curves"
   ]
  },
  {
   "cell_type": "code",
   "execution_count": 3,
   "metadata": {},
   "outputs": [],
   "source": [
    "SEQ_LEN = 60 # last minutes to use as feature\n",
    "FUTURE_PERIOD_PREDICT = 10 # period over which to make the prediction\n",
    "RATIO_TO_PREDICT = \"ETH-USD\"\n",
    "EPOCHS = 10\n",
    "BATCH_SIZE = 64\n",
    "NAME = f'{RATIO_TO_PREDICT}-{SEQ_LEN}-SEQ-{FUTURE_PERIOD_PREDICT}-PRED-{int(time.time())}'"
   ]
  },
  {
   "cell_type": "markdown",
   "metadata": {},
   "source": [
    "## Import Data"
   ]
  },
  {
   "cell_type": "code",
   "execution_count": 4,
   "metadata": {},
   "outputs": [
    {
     "name": "stdout",
     "output_type": "stream",
     "text": [
      "         time        low       high       open      close      volume\n",
      "0  1528968660  96.580002  96.589996  96.589996  96.580002    9.647200\n",
      "1  1528968720  96.449997  96.669998  96.589996  96.660004  314.387024\n",
      "2  1528968780  96.470001  96.570000  96.570000  96.570000   77.129799\n",
      "3  1528968840  96.449997  96.570000  96.570000  96.500000    7.216067\n",
      "4  1528968900  96.279999  96.540001  96.500000  96.389999  524.539978\n"
     ]
    }
   ],
   "source": [
    "col_names = ['time', 'low', 'high', 'open', 'close', 'volume']\n",
    "df = pd.read_csv(\"crypto_data/LTC-USD.csv\", names = col_names)\n",
    "\n",
    "print(df.head())"
   ]
  },
  {
   "cell_type": "code",
   "execution_count": 5,
   "metadata": {},
   "outputs": [
    {
     "name": "stdout",
     "output_type": "stream",
     "text": [
      "            BTC-USD_close  BTC-USD_volume  LTC-USD_close  LTC-USD_volume  \\\n",
      "time                                                                       \n",
      "1528968660    6489.549805        0.587100      96.580002        9.647200   \n",
      "1528968720    6487.379883        7.706374      96.660004      314.387024   \n",
      "1528968780    6479.410156        3.088252      96.570000       77.129799   \n",
      "1528968840    6479.410156        1.404100      96.500000        7.216067   \n",
      "1528968900    6479.979980        0.753000      96.389999      524.539978   \n",
      "\n",
      "            ETH-USD_close  ETH-USD_volume  BCH-USD_close  BCH-USD_volume  \n",
      "time                                                                      \n",
      "1528968660            NaN             NaN     871.719971        5.675361  \n",
      "1528968720      486.01001       26.019083     870.859985       26.856577  \n",
      "1528968780      486.00000        8.449400     870.099976        1.124300  \n",
      "1528968840      485.75000       26.994646     870.789978        1.749862  \n",
      "1528968900      486.00000       77.355759     870.000000        1.680500  \n"
     ]
    }
   ],
   "source": [
    "main_df = pd.DataFrame()\n",
    "\n",
    "ratios = ['BTC-USD', 'LTC-USD', 'ETH-USD', 'BCH-USD']\n",
    "for ratio in ratios:\n",
    "    # read CSV from path\n",
    "    df_path = f'crypto_data/{ratio}.csv'\n",
    "    df = pd.read_csv(df_path, names = col_names)\n",
    "    \n",
    "    # rename columns\n",
    "    df.rename(columns = {'close': f'{ratio}_close', 'volume': f'{ratio}_volume'}, inplace = True)\n",
    "    # set time as index\n",
    "    df.set_index('time', inplace = True)\n",
    "    # select only close price and volume columns\n",
    "    df = df[[f'{ratio}_close', f'{ratio}_volume']]\n",
    "    \n",
    "    if len(main_df) == 0:\n",
    "        main_df = df\n",
    "    else:\n",
    "        main_df = main_df.join(df)\n",
    "\n",
    "print(main_df.head())"
   ]
  },
  {
   "cell_type": "markdown",
   "metadata": {},
   "source": [
    "## Train-test split, normalization, sequence creation and data balancing\n",
    "\n",
    "Notice that since sequences are very close together and are highly correlated, it would be a bad idea to take a random sample to use as a validation/test set, as it would be extremely similar to instances in the training set. Instead, we have to take a whole period (possibly the most recent one) and use it for testing.\n",
    "\n",
    "In this case we'll take the last 5-10% of the data."
   ]
  },
  {
   "cell_type": "code",
   "execution_count": 6,
   "metadata": {},
   "outputs": [
    {
     "name": "stdout",
     "output_type": "stream",
     "text": [
      "Time threshold for train-validation split: 1534922100\n"
     ]
    }
   ],
   "source": [
    "# ensure that time is sorted\n",
    "times = sorted(main_df.index.values)\n",
    "threshold = times[-int(0.05*len(times))]\n",
    "print(f'Time threshold for train-validation split: {threshold}')"
   ]
  },
  {
   "cell_type": "code",
   "execution_count": 7,
   "metadata": {},
   "outputs": [],
   "source": [
    "# tain-validation split\n",
    "validation_main_df = main_df[(main_df.index >= threshold)]\n",
    "train_main_df = main_df[(main_df.index < threshold)]"
   ]
  },
  {
   "cell_type": "markdown",
   "metadata": {},
   "source": [
    "Now define a preprocessing function that will be applied to both, the training and validation sets.\n",
    "* Transform absolute prices into percentage changes\n",
    "* Normalize data to be in (0,1)\n",
    "* Drop NAs\n",
    "* Create sequences that will be used as features (X)"
   ]
  },
  {
   "cell_type": "code",
   "execution_count": 8,
   "metadata": {},
   "outputs": [],
   "source": [
    "# define a preprocessing function\n",
    "def preprocess_df(df, print_df = False):\n",
    "    \n",
    "    pd.options.mode.chained_assignment = None\n",
    "    # transform data to percentage variation and normalize\n",
    "    for col in df.columns:\n",
    "        #if col != 'target':\n",
    "        df[col] = df[col].pct_change()\n",
    "        df.dropna(inplace = True)\n",
    "        df[col] = preprocessing.scale(df[col].values)\n",
    "            \n",
    "    df.dropna(inplace = True)\n",
    "    if print_df: print(df.head())\n",
    "    \n",
    "    # create sequences of lenght SEQ_LEN to be used as features (X)\n",
    "    # sequential_data is a list [sequences(X), targets(y)]\n",
    "    sequential_data = []\n",
    "    prev_days = deque(maxlen = SEQ_LEN + FUTURE_PERIOD_PREDICT)\n",
    "    for i in df.values:\n",
    "        prev_days.append([n for n in i])\n",
    "        if len(prev_days) == (SEQ_LEN+FUTURE_PERIOD_PREDICT):\n",
    "            sequential_data.append(np.array(prev_days))\n",
    "            \n",
    "    random.shuffle(sequential_data)\n",
    "    sequential_data = np.array(sequential_data)\n",
    "    if print_df: print('\\nsequential_data shape: ', np.shape(sequential_data))\n",
    "        \n",
    "    # split into X and y\n",
    "    X = sequential_data[:, :SEQ_LEN, :]\n",
    "    y = sequential_data[:, -FUTURE_PERIOD_PREDICT:, 4][..., np.newaxis]\n",
    "\n",
    "    if print_df: print('\\nDimensions: [n of sequences, sequences lenght, features]')\n",
    "    if print_df: print('X_data shape: ', np.shape(X))\n",
    "    if print_df: print('y_data shape: ', np.shape(y))\n",
    "    \n",
    "    return np.array(X), np.array(y)"
   ]
  },
  {
   "cell_type": "code",
   "execution_count": 9,
   "metadata": {},
   "outputs": [
    {
     "name": "stdout",
     "output_type": "stream",
     "text": [
      "            BTC-USD_close  BTC-USD_volume  LTC-USD_close  LTC-USD_volume  \\\n",
      "time                                                                       \n",
      "1528969140      -0.002513       -0.078919      -0.540429       -0.117090   \n",
      "1528969200      -0.229992        0.003410       0.004048       -0.118307   \n",
      "1528969260      -0.000830       -0.074039       0.004048       -0.072997   \n",
      "1528969320       0.116299       -0.049626       0.004048       -0.108241   \n",
      "1528969380       0.000937       -0.082052       0.004048       -0.048516   \n",
      "\n",
      "            ETH-USD_close  ETH-USD_volume  BCH-USD_close  BCH-USD_volume  \n",
      "time                                                                      \n",
      "1528969140       0.004601       -0.047838       0.011062       -0.006217  \n",
      "1528969200       0.004601       -0.045377       0.257552       -0.005884  \n",
      "1528969260       0.021273       -0.032900       0.265415       -0.006200  \n",
      "1528969320       0.004601       -0.049530       0.455951       -0.005898  \n",
      "1528969380       0.004601       -0.032916       0.527186       -0.006206  \n",
      "\n",
      "sequential_data shape:  (82168, 70, 8)\n",
      "\n",
      "Dimensions: [n of sequences, sequences lenght, features]\n",
      "X_data shape:  (82168, 60, 8)\n",
      "y_data shape:  (82168, 10, 1)\n"
     ]
    }
   ],
   "source": [
    "train_x, train_y = preprocess_df(train_main_df, print_df = True)\n",
    "valid_x, valid_y = preprocess_df(validation_main_df)"
   ]
  },
  {
   "cell_type": "markdown",
   "metadata": {},
   "source": [
    "## Linear Baseline"
   ]
  },
  {
   "cell_type": "code",
   "execution_count": 10,
   "metadata": {},
   "outputs": [
    {
     "name": "stdout",
     "output_type": "stream",
     "text": [
      "Train on 82168 samples, validate on 3796 samples\n",
      "Epoch 1/5\n",
      "82168/82168 [==============================] - 3s 39us/sample - loss: 1.5063 - val_loss: 1.1707\n",
      "Epoch 2/5\n",
      "82168/82168 [==============================] - 3s 32us/sample - loss: 1.1458 - val_loss: 1.0625\n",
      "Epoch 3/5\n",
      "82168/82168 [==============================] - 3s 34us/sample - loss: 1.0594 - val_loss: 1.0383\n",
      "Epoch 4/5\n",
      "82168/82168 [==============================] - 3s 34us/sample - loss: 1.0388 - val_loss: 1.0364\n",
      "Epoch 5/5\n",
      "82168/82168 [==============================] - 3s 34us/sample - loss: 1.0365 - val_loss: 1.0384\n"
     ]
    }
   ],
   "source": [
    "model_bsl = Sequential([\n",
    "        Flatten(input_shape = (train_x.shape[1:])),\n",
    "        Dense(10)])\n",
    "\n",
    "model_bsl.compile(loss = 'mse', optimizer = 'nadam')\n",
    "\n",
    "history_bsl = model_bsl.fit(train_x, train_y,\n",
    "                   batch_size = BATCH_SIZE,\n",
    "                   epochs = 5,\n",
    "                   validation_data = (valid_x, valid_y))"
   ]
  },
  {
   "cell_type": "code",
   "execution_count": 11,
   "metadata": {},
   "outputs": [
    {
     "name": "stdout",
     "output_type": "stream",
     "text": [
      "Predictions shape: (3796, 10, 1)\n",
      "valid_x shape: (3796, 60, 8)\n",
      "valid_y shape: (3796, 10, 1)\n"
     ]
    }
   ],
   "source": [
    "y_pred = model_bsl.predict(valid_x)[..., np.newaxis]\n",
    "print(f'Predictions shape: {y_pred.shape}')\n",
    "print(f'valid_x shape: {valid_x.shape}')\n",
    "print(f'valid_y shape: {valid_y.shape}')"
   ]
  },
  {
   "cell_type": "code",
   "execution_count": 12,
   "metadata": {},
   "outputs": [
    {
     "data": {
      "image/png": "[encoded data removed]",
      "text/plain": [
       "<Figure size 864x288 with 2 Axes>"
      ]
     },
     "metadata": {
      "needs_background": "light"
     },
     "output_type": "display_data"
    }
   ],
   "source": [
    "fig, axes = plt.subplots(nrows=1, ncols=2, figsize=(12, 4))\n",
    "seq = randint(0, 1000)\n",
    "\n",
    "plt.sca(axes[0])\n",
    "plot_multiple_forecasts(valid_x, valid_y, y_pred, seq_id=seq)\n",
    "\n",
    "plt.sca(axes[1])\n",
    "plot_learning_curves(history_bsl.history[\"loss\"], history_bsl.history[\"val_loss\"], axis = [1, 5, 0.5, 1.5])\n",
    "\n",
    "plt.show()"
   ]
  },
  {
   "cell_type": "markdown",
   "metadata": {},
   "source": [
    "## Recurrent Network\n"
   ]
  },
  {
   "cell_type": "code",
   "execution_count": 13,
   "metadata": {},
   "outputs": [
    {
     "name": "stdout",
     "output_type": "stream",
     "text": [
      "Model: \"sequential_1\"\n",
      "_________________________________________________________________\n",
      "Layer (type)                 Output Shape              Param #   \n",
      "=================================================================\n",
      "conv1d (Conv1D)              (None, 29, 128)           4224      \n",
      "_________________________________________________________________\n",
      "batch_normalization (BatchNo (None, 29, 128)           512       \n",
      "_________________________________________________________________\n",
      "gru (GRU)                    (None, 29, 64)            37248     \n",
      "_________________________________________________________________\n",
      "dropout (Dropout)            (None, 29, 64)            0         \n",
      "_________________________________________________________________\n",
      "batch_normalization_1 (Batch (None, 29, 64)            256       \n",
      "_________________________________________________________________\n",
      "gru_1 (GRU)                  (None, 64)                24960     \n",
      "_________________________________________________________________\n",
      "dropout_1 (Dropout)          (None, 64)                0         \n",
      "_________________________________________________________________\n",
      "batch_normalization_2 (Batch (None, 64)                256       \n",
      "_________________________________________________________________\n",
      "dense_1 (Dense)              (None, 32)                2080      \n",
      "_________________________________________________________________\n",
      "dropout_2 (Dropout)          (None, 32)                0         \n",
      "_________________________________________________________________\n",
      "dense_2 (Dense)              (None, 10)                330       \n",
      "=================================================================\n",
      "Total params: 69,866\n",
      "Trainable params: 69,354\n",
      "Non-trainable params: 512\n",
      "_________________________________________________________________\n"
     ]
    }
   ],
   "source": [
    "model = Sequential([\n",
    "    Conv1D(128, 4, strides = 2, padding='valid', activation='relu', input_shape = train_x.shape[1:]),\n",
    "    BatchNormalization(),\n",
    "    \n",
    "    GRU(64, activation = 'tanh', return_sequences = True),\n",
    "    Dropout(0.2),\n",
    "    BatchNormalization(),\n",
    "    \n",
    "    GRU(64, activation = 'tanh', return_sequences = False),\n",
    "    Dropout(0.2),\n",
    "    BatchNormalization(),\n",
    "    \n",
    "    Dense(32, activation = 'tanh'),\n",
    "    Dropout(0.2),\n",
    "    \n",
    "    Dense(10),\n",
    "])\n",
    "\n",
    "opt = tf.keras.optimizers.Adam(lr=0.001, decay = 1e-6)\n",
    "\n",
    "model.compile(loss = 'mse',\n",
    "             optimizer = 'nadam'\n",
    "             )\n",
    "\n",
    "model.summary()\n",
    "\n",
    "tensorboard = TensorBoard(log_dir = f'logs/{NAME}')\n",
    "filepath = \"RNN_Final-{epoch:02d}-{val_loss:.3f}.hdf5\"  # unique file name that will include the epoch and the validation acc for that epoch\n",
    "checkpoint = ModelCheckpoint(f\"models/{NAME}/{filepath}\", monitor='val_loss', verbose=1, save_best_only=True, mode='auto') # saves only the best ones\n",
    "earlystop = EarlyStopping(monitor='val_loss', patience=5, verbose=0, mode='auto', restore_best_weights=True)\n",
    "\n",
    "# create folder for checkpoints (or it will throw an error if not found!)\n",
    "try:\n",
    "    os.makedirs(f\"models/{NAME}\")\n",
    "except:\n",
    "    print(\"Directory already exists\")  "
   ]
  },
  {
   "cell_type": "code",
   "execution_count": null,
   "metadata": {},
   "outputs": [
    {
     "name": "stdout",
     "output_type": "stream",
     "text": [
      "Train on 82168 samples, validate on 3796 samples\n",
      "Epoch 1/10\n",
      "82048/82168 [============================>.] - ETA: 0s - loss: 1.0653\n",
      "Epoch 00001: val_loss improved from inf to 0.99163, saving model to models/ETH-USD-60-SEQ-10-PRED-1585144281/RNN_Final-01-0.992.hdf5\n",
      "82168/82168 [==============================] - 67s 816us/sample - loss: 1.0649 - val_loss: 0.9916\n",
      "Epoch 2/10\n",
      "10752/82168 [==>...........................] - ETA: 51s - loss: 1.0538"
     ]
    }
   ],
   "source": [
    "history = model.fit(train_x, train_y,\n",
    "                   batch_size = BATCH_SIZE,\n",
    "                   epochs = EPOCHS,\n",
    "                   validation_data = (valid_x, valid_y),\n",
    "                   callbacks = [tensorboard, checkpoint, earlystop])"
   ]
  },
  {
   "cell_type": "code",
   "execution_count": null,
   "metadata": {},
   "outputs": [],
   "source": [
    "y_pred = model.predict(valid_x)[..., np.newaxis]\n",
    "print(f'Predictions shape: {y_pred.shape}')\n",
    "print(f'valid_x shape: {valid_x.shape}')\n",
    "print(f'valid_y shape: {valid_y.shape}')"
   ]
  },
  {
   "cell_type": "code",
   "execution_count": null,
   "metadata": {},
   "outputs": [],
   "source": [
    "fig, axes = plt.subplots(nrows=1, ncols=2, figsize=(12, 4))\n",
    "\n",
    "plt.sca(axes[0])\n",
    "plot_multiple_forecasts(valid_x, valid_y, y_pred, seq_id=seq)\n",
    "\n",
    "plt.sca(axes[1])\n",
    "plot_learning_curves(history.history[\"loss\"], history.history[\"val_loss\"], axis = [1, 10, 0.5, 1.5])\n",
    "\n",
    "plt.show()"
   ]
  },
  {
   "cell_type": "code",
   "execution_count": null,
   "metadata": {},
   "outputs": [],
   "source": []
  },
  {
   "cell_type": "code",
   "execution_count": null,
   "metadata": {},
   "outputs": [],
   "source": []
  }
 ],
 "metadata": {
  "kernelspec": {
   "display_name": "newpy36",
   "language": "python",
   "name": "newpy36"
  },
  "language_info": {
   "codemirror_mode": {
    "name": "ipython",
    "version": 3
   },
   "file_extension": ".py",
   "mimetype": "text/x-python",
   "name": "python",
   "nbconvert_exporter": "python",
   "pygments_lexer": "ipython3",
   "version": "3.7.6"
  }
 },
 "nbformat": 4,
 "nbformat_minor": 4
}
