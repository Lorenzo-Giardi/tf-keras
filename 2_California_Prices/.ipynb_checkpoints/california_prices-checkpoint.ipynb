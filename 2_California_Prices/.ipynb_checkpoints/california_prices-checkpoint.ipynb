{
 "cells": [
  {
   "cell_type": "markdown",
   "metadata": {},
   "source": [
    "# California Prices\n",
    "\n",
    "### Imports"
   ]
  },
  {
   "cell_type": "code",
   "execution_count": 15,
   "metadata": {},
   "outputs": [],
   "source": [
    "import keras\n",
    "import tensorflow as tf\n",
    "import numpy as np\n",
    "import seaborn as sns\n",
    "import pandas as pd\n",
    "import matplotlib.pyplot as plt\n",
    "\n",
    "from keras.losses import mean_squared_error\n",
    "from keras.models import Sequential\n",
    "from keras.layers import Flatten, Dense, SimpleRNN, Input, Concatenate\n",
    "\n",
    "from sklearn.datasets import fetch_california_housing\n",
    "from sklearn.model_selection import train_test_split\n",
    "from sklearn.preprocessing import StandardScaler"
   ]
  },
  {
   "cell_type": "code",
   "execution_count": 16,
   "metadata": {},
   "outputs": [],
   "source": [
    "random_seed = 532\n",
    "np.random.seed(random_seed)\n",
    "tf.random.set_seed(random_seed)"
   ]
  },
  {
   "cell_type": "markdown",
   "metadata": {},
   "source": [
    "### Data\n",
    "Load the california prices dataset, then split it into a training, validation and test set. Finally check the dimensions of the training set and notice that we have 8 features."
   ]
  },
  {
   "cell_type": "code",
   "execution_count": 17,
   "metadata": {},
   "outputs": [
    {
     "data": {
      "text/plain": [
       "(11610, 8)"
      ]
     },
     "execution_count": 17,
     "metadata": {},
     "output_type": "execute_result"
    }
   ],
   "source": [
    "# load data and split into training, validation and test set\n",
    "housing = fetch_california_housing()\n",
    "x_train, x_test, y_train, y_test = train_test_split(\n",
    "                                housing.data, housing.target, random_state = random_seed)\n",
    "x_train, x_val, y_train, y_val = train_test_split(\n",
    "                                x_train, y_train, random_state = random_seed)\n",
    "\n",
    "# check dimensions\n",
    "x_train.shape"
   ]
  },
  {
   "cell_type": "markdown",
   "metadata": {},
   "source": [
    "The next step is to scale features. In this case we'll use the standard scaler rather than the min-max scaler."
   ]
  },
  {
   "cell_type": "code",
   "execution_count": 18,
   "metadata": {},
   "outputs": [],
   "source": [
    "scl = StandardScaler()\n",
    "x_train = scl.fit_transform(x_train)\n",
    "x_val = scl.transform(x_val)\n",
    "x_test = scl.transform(x_test)"
   ]
  },
  {
   "cell_type": "markdown",
   "metadata": {},
   "source": [
    "### Baseline\n",
    "As a baseline against which to compare results obtained from more complex models we use a simple linear regression."
   ]
  },
  {
   "cell_type": "code",
   "execution_count": 19,
   "metadata": {},
   "outputs": [
    {
     "name": "stdout",
     "output_type": "stream",
     "text": [
      "Train on 11610 samples, validate on 3870 samples\n",
      "Epoch 1/20\n",
      "11610/11610 [==============================] - 1s 47us/step - loss: 1.3208 - val_loss: 0.5709\n",
      "Epoch 2/20\n",
      "11610/11610 [==============================] - 0s 33us/step - loss: 0.6048 - val_loss: 0.7096\n",
      "Epoch 3/20\n",
      "11610/11610 [==============================] - 0s 36us/step - loss: 0.6495 - val_loss: 0.5447\n",
      "Epoch 4/20\n",
      "11610/11610 [==============================] - 0s 38us/step - loss: 0.5431 - val_loss: 0.5409\n",
      "Epoch 5/20\n",
      "11610/11610 [==============================] - 0s 39us/step - loss: 0.5457 - val_loss: 0.6778\n",
      "Epoch 6/20\n",
      "11610/11610 [==============================] - 0s 42us/step - loss: 0.5799 - val_loss: 0.5414\n",
      "Epoch 7/20\n",
      "11610/11610 [==============================] - 0s 36us/step - loss: 0.5510 - val_loss: 0.5438\n",
      "Epoch 8/20\n",
      "11610/11610 [==============================] - 0s 33us/step - loss: 0.5571 - val_loss: 0.5456\n",
      "Epoch 9/20\n",
      "11610/11610 [==============================] - 0s 35us/step - loss: 0.5313 - val_loss: 0.6635\n",
      "Epoch 10/20\n",
      "11610/11610 [==============================] - 0s 34us/step - loss: 0.5613 - val_loss: 0.5415\n",
      "Epoch 11/20\n",
      "11610/11610 [==============================] - 0s 34us/step - loss: 0.5312 - val_loss: 0.5410\n",
      "Epoch 12/20\n",
      "11610/11610 [==============================] - 0s 35us/step - loss: 0.5995 - val_loss: 0.5420\n",
      "Epoch 13/20\n",
      "11610/11610 [==============================] - 0s 35us/step - loss: 0.5812 - val_loss: 0.5418\n",
      "Epoch 14/20\n",
      "11610/11610 [==============================] - 0s 39us/step - loss: 0.5386 - val_loss: 0.5443\n",
      "Epoch 15/20\n",
      "11610/11610 [==============================] - 0s 36us/step - loss: 0.5249 - val_loss: 0.5482\n",
      "Epoch 16/20\n",
      "11610/11610 [==============================] - 0s 33us/step - loss: 0.5371 - val_loss: 0.5697\n",
      "Epoch 17/20\n",
      "11610/11610 [==============================] - 0s 34us/step - loss: 0.5751 - val_loss: 0.5413\n",
      "Epoch 18/20\n",
      "11610/11610 [==============================] - 0s 36us/step - loss: 0.5423 - val_loss: 0.5523\n",
      "Epoch 19/20\n",
      "11610/11610 [==============================] - 0s 33us/step - loss: 0.5698 - val_loss: 0.5431\n",
      "Epoch 20/20\n",
      "11610/11610 [==============================] - 0s 34us/step - loss: 0.5574 - val_loss: 0.5385\n"
     ]
    }
   ],
   "source": [
    "baseline = Sequential([\n",
    "        Dense(1, input_shape = x_train.shape[1:])\n",
    "        ])\n",
    "baseline.compile(loss = 'mean_squared_error', optimizer = 'sgd')\n",
    "history = baseline.fit(x_train, y_train, epochs=20, validation_data=(x_val, y_val))"
   ]
  },
  {
   "cell_type": "markdown",
   "metadata": {},
   "source": [
    "### Model - Sequential API\n",
    "Use a fully connected network with two hiddens layers."
   ]
  },
  {
   "cell_type": "code",
   "execution_count": 20,
   "metadata": {},
   "outputs": [],
   "source": [
    "model = Sequential([\n",
    "        Dense(50, activation='relu', input_shape = x_train.shape[1:]),\n",
    "        Dense(50, activation='relu'),\n",
    "        Dense(1)\n",
    "        ])"
   ]
  },
  {
   "cell_type": "markdown",
   "metadata": {},
   "source": [
    "Now we can compile the model, i.e. choose a loss function and an optimizer. Next, we can call the fit() method to train the network."
   ]
  },
  {
   "cell_type": "code",
   "execution_count": 21,
   "metadata": {},
   "outputs": [
    {
     "name": "stdout",
     "output_type": "stream",
     "text": [
      "Train on 11610 samples, validate on 3870 samples\n",
      "Epoch 1/50\n",
      "11610/11610 [==============================] - 1s 43us/step - loss: 0.9217 - val_loss: 0.4944\n",
      "Epoch 2/50\n",
      "11610/11610 [==============================] - 1s 48us/step - loss: 0.4454 - val_loss: 0.4474\n",
      "Epoch 3/50\n",
      "11610/11610 [==============================] - 0s 40us/step - loss: 0.4188 - val_loss: 0.4216\n",
      "Epoch 4/50\n",
      "11610/11610 [==============================] - 0s 37us/step - loss: 0.4026 - val_loss: 0.4217\n",
      "Epoch 5/50\n",
      "11610/11610 [==============================] - 0s 38us/step - loss: 0.3840 - val_loss: 0.3977\n",
      "Epoch 6/50\n",
      "11610/11610 [==============================] - 0s 37us/step - loss: 0.3798 - val_loss: 0.3904\n",
      "Epoch 7/50\n",
      "11610/11610 [==============================] - 0s 38us/step - loss: 0.3675 - val_loss: 0.3822\n",
      "Epoch 8/50\n",
      "11610/11610 [==============================] - 0s 39us/step - loss: 0.3642 - val_loss: 0.3782\n",
      "Epoch 9/50\n",
      "11610/11610 [==============================] - 0s 39us/step - loss: 0.3528 - val_loss: 0.3810\n",
      "Epoch 10/50\n",
      "11610/11610 [==============================] - 1s 47us/step - loss: 0.3494 - val_loss: 0.3648\n",
      "Epoch 11/50\n",
      "11610/11610 [==============================] - 0s 40us/step - loss: 0.3476 - val_loss: 0.3693\n",
      "Epoch 12/50\n",
      "11610/11610 [==============================] - 0s 39us/step - loss: 0.3407 - val_loss: 0.3541\n",
      "Epoch 13/50\n",
      "11610/11610 [==============================] - 0s 38us/step - loss: 0.3361 - val_loss: 0.3675\n",
      "Epoch 14/50\n",
      "11610/11610 [==============================] - 0s 39us/step - loss: 0.3327 - val_loss: 0.3638\n",
      "Epoch 15/50\n",
      "11610/11610 [==============================] - 0s 39us/step - loss: 0.3350 - val_loss: 0.3410\n",
      "Epoch 16/50\n",
      "11610/11610 [==============================] - 0s 40us/step - loss: 0.3243 - val_loss: 0.3437\n",
      "Epoch 17/50\n",
      "11610/11610 [==============================] - 0s 40us/step - loss: 0.3236 - val_loss: 0.3595\n",
      "Epoch 18/50\n",
      "11610/11610 [==============================] - 0s 39us/step - loss: 0.3274 - val_loss: 0.3676\n",
      "Epoch 19/50\n",
      "11610/11610 [==============================] - 0s 39us/step - loss: 0.3226 - val_loss: 0.3347\n",
      "Epoch 20/50\n",
      "11610/11610 [==============================] - 0s 39us/step - loss: 0.3168 - val_loss: 0.3284\n",
      "Epoch 21/50\n",
      "11610/11610 [==============================] - 0s 40us/step - loss: 0.3134 - val_loss: 0.3232\n",
      "Epoch 22/50\n",
      "11610/11610 [==============================] - 0s 39us/step - loss: 0.3110 - val_loss: 0.3368\n",
      "Epoch 23/50\n",
      "11610/11610 [==============================] - 0s 41us/step - loss: 0.3117 - val_loss: 0.3258\n",
      "Epoch 24/50\n",
      "11610/11610 [==============================] - 0s 38us/step - loss: 0.3082 - val_loss: 0.3254\n",
      "Epoch 25/50\n",
      "11610/11610 [==============================] - 0s 39us/step - loss: 0.3066 - val_loss: 0.3259\n",
      "Epoch 26/50\n",
      "11610/11610 [==============================] - 0s 40us/step - loss: 0.3042 - val_loss: 0.3217\n",
      "Epoch 27/50\n",
      "11610/11610 [==============================] - 0s 40us/step - loss: 0.3017 - val_loss: 0.3171\n",
      "Epoch 28/50\n",
      "11610/11610 [==============================] - 0s 39us/step - loss: 0.3054 - val_loss: 0.3167\n",
      "Epoch 29/50\n",
      "11610/11610 [==============================] - 0s 39us/step - loss: 0.3028 - val_loss: 0.3273\n",
      "Epoch 30/50\n",
      "11610/11610 [==============================] - 0s 39us/step - loss: 0.2988 - val_loss: 0.3168\n",
      "Epoch 31/50\n",
      "11610/11610 [==============================] - 0s 40us/step - loss: 0.2967 - val_loss: 0.3127\n",
      "Epoch 32/50\n",
      "11610/11610 [==============================] - 0s 39us/step - loss: 0.2967 - val_loss: 0.3137\n",
      "Epoch 33/50\n",
      "11610/11610 [==============================] - 1s 50us/step - loss: 0.2953 - val_loss: 0.3118\n",
      "Epoch 34/50\n",
      "11610/11610 [==============================] - 0s 40us/step - loss: 0.2966 - val_loss: 0.3170\n",
      "Epoch 35/50\n",
      "11610/11610 [==============================] - 0s 39us/step - loss: 0.2939 - val_loss: 0.3211\n",
      "Epoch 36/50\n",
      "11610/11610 [==============================] - 0s 43us/step - loss: 0.2935 - val_loss: 0.3180\n",
      "Epoch 37/50\n",
      "11610/11610 [==============================] - 1s 45us/step - loss: 0.2932 - val_loss: 0.3196\n",
      "Epoch 38/50\n",
      "11610/11610 [==============================] - 0s 39us/step - loss: 0.2909 - val_loss: 0.3078\n",
      "Epoch 39/50\n",
      "11610/11610 [==============================] - 0s 41us/step - loss: 0.2919 - val_loss: 0.3114\n",
      "Epoch 40/50\n",
      "11610/11610 [==============================] - 0s 43us/step - loss: 0.2899 - val_loss: 0.3056\n",
      "Epoch 41/50\n",
      "11610/11610 [==============================] - 0s 39us/step - loss: 0.2905 - val_loss: 0.3039\n",
      "Epoch 42/50\n",
      "11610/11610 [==============================] - 0s 40us/step - loss: 0.2911 - val_loss: 0.3022\n",
      "Epoch 43/50\n",
      "11610/11610 [==============================] - 0s 40us/step - loss: 0.2869 - val_loss: 0.3230\n",
      "Epoch 44/50\n",
      "11610/11610 [==============================] - 0s 40us/step - loss: 0.2864 - val_loss: 0.2998\n",
      "Epoch 45/50\n",
      "11610/11610 [==============================] - 1s 43us/step - loss: 0.2876 - val_loss: 0.3049\n",
      "Epoch 46/50\n",
      "11610/11610 [==============================] - 0s 42us/step - loss: 0.2848 - val_loss: 0.3052\n",
      "Epoch 47/50\n",
      "11610/11610 [==============================] - 0s 39us/step - loss: 0.2859 - val_loss: 0.3034\n",
      "Epoch 48/50\n",
      "11610/11610 [==============================] - 0s 38us/step - loss: 0.2835 - val_loss: 0.3005\n",
      "Epoch 49/50\n",
      "11610/11610 [==============================] - 1s 47us/step - loss: 0.2812 - val_loss: 0.3238\n",
      "Epoch 50/50\n",
      "11610/11610 [==============================] - 0s 40us/step - loss: 0.2823 - val_loss: 0.2968\n"
     ]
    }
   ],
   "source": [
    "model.compile(loss = 'mean_squared_error', optimizer = 'sgd')\n",
    "history = model.fit(x_train, y_train, epochs=50, validation_data=(x_val, y_val))"
   ]
  },
  {
   "cell_type": "markdown",
   "metadata": {},
   "source": [
    "We can retrieve and plot learning curves from the history object."
   ]
  },
  {
   "cell_type": "code",
   "execution_count": 22,
   "metadata": {},
   "outputs": [
    {
     "data": {
      "image/png": "[encoded data removed]",
      "text/plain": [
       "<Figure size 432x288 with 1 Axes>"
      ]
     },
     "metadata": {
      "needs_background": "light"
     },
     "output_type": "display_data"
    }
   ],
   "source": [
    "# learning curves\n",
    "pd.DataFrame(history.history).plot(figsize = (6,4))\n",
    "plt.grid(True)\n",
    "plt.gca().set_ylim(0, 1)\n",
    "plt.show()"
   ]
  },
  {
   "cell_type": "markdown",
   "metadata": {},
   "source": [
    "We can evaluated the model's performances on the test set and/or use it to make predictions."
   ]
  },
  {
   "cell_type": "code",
   "execution_count": 23,
   "metadata": {},
   "outputs": [
    {
     "name": "stdout",
     "output_type": "stream",
     "text": [
      "5160/5160 [==============================] - 0s 18us/step\n",
      "0.2962511199389317\n",
      "[[2.1330814]\n",
      " [1.1361966]\n",
      " [4.6874075]\n",
      " [1.4011399]\n",
      " [3.889085 ]]\n"
     ]
    }
   ],
   "source": [
    "mse_test = model.evaluate(x_test, y_test)\n",
    "print(mse_test)\n",
    "\n",
    "y_preds = model.predict(x_test[:5])\n",
    "print(y_preds)"
   ]
  },
  {
   "cell_type": "markdown",
   "metadata": {},
   "source": [
    "### Model - Functional API\n",
    "We can try to use the Keras Functional API to fit a Wide&Deep neural network, i.e. a model which also features a direct connection between the input and the output layer to ensure the network capability to learn simple patterns."
   ]
  },
  {
   "cell_type": "code",
   "execution_count": 24,
   "metadata": {},
   "outputs": [],
   "source": [
    "input_ = Input(shape = x_train.shape[1:])\n",
    "hidden1 = Dense(50, activation='relu')(input_)\n",
    "hidden2 = Dense(50, activation='relu')(hidden1)\n",
    "concat = Concatenate()([input_, hidden2])\n",
    "output = Dense(1)(concat)\n",
    "model2 = keras.Model(inputs = [input_], outputs=[output])"
   ]
  },
  {
   "cell_type": "markdown",
   "metadata": {},
   "source": [
    "As usual we can call the summary() method to get a glimpse about the network structure and its parameters."
   ]
  },
  {
   "cell_type": "code",
   "execution_count": 25,
   "metadata": {},
   "outputs": [
    {
     "name": "stdout",
     "output_type": "stream",
     "text": [
      "Model: \"model_2\"\n",
      "__________________________________________________________________________________________________\n",
      "Layer (type)                    Output Shape         Param #     Connected to                     \n",
      "==================================================================================================\n",
      "input_2 (InputLayer)            (None, 8)            0                                            \n",
      "__________________________________________________________________________________________________\n",
      "dense_12 (Dense)                (None, 50)           450         input_2[0][0]                    \n",
      "__________________________________________________________________________________________________\n",
      "dense_13 (Dense)                (None, 50)           2550        dense_12[0][0]                   \n",
      "__________________________________________________________________________________________________\n",
      "concatenate_2 (Concatenate)     (None, 58)           0           input_2[0][0]                    \n",
      "                                                                 dense_13[0][0]                   \n",
      "__________________________________________________________________________________________________\n",
      "dense_14 (Dense)                (None, 1)            59          concatenate_2[0][0]              \n",
      "==================================================================================================\n",
      "Total params: 3,059\n",
      "Trainable params: 3,059\n",
      "Non-trainable params: 0\n",
      "__________________________________________________________________________________________________\n"
     ]
    }
   ],
   "source": [
    "model2.summary()"
   ]
  },
  {
   "cell_type": "markdown",
   "metadata": {},
   "source": [
    "We may also the **plot_model()** function to obtain a schema of the network."
   ]
  },
  {
   "cell_type": "code",
   "execution_count": 26,
   "metadata": {},
   "outputs": [
    {
     "data": {
      "image/png": "[encoded data removed]",
      "text/plain": [
       "<IPython.core.display.Image object>"
      ]
     },
     "execution_count": 26,
     "metadata": {},
     "output_type": "execute_result"
    }
   ],
   "source": [
    "keras.utils.plot_model(model2, \"wide&deep.png\", show_shapes=True)"
   ]
  },
  {
   "cell_type": "markdown",
   "metadata": {},
   "source": [
    "As before, compile and train the network:"
   ]
  },
  {
   "cell_type": "code",
   "execution_count": 27,
   "metadata": {},
   "outputs": [
    {
     "name": "stdout",
     "output_type": "stream",
     "text": [
      "Train on 11610 samples, validate on 3870 samples\n",
      "Epoch 1/50\n",
      "11610/11610 [==============================] - 1s 51us/step - loss: 1.6858 - val_loss: 0.5517\n",
      "Epoch 2/50\n",
      "11610/11610 [==============================] - 0s 37us/step - loss: 0.7304 - val_loss: 0.5149\n",
      "Epoch 3/50\n",
      "11610/11610 [==============================] - 1s 46us/step - loss: 0.5210 - val_loss: 0.4676\n",
      "Epoch 4/50\n",
      "11610/11610 [==============================] - 1s 44us/step - loss: 0.4515 - val_loss: 0.4511\n",
      "Epoch 5/50\n",
      "11610/11610 [==============================] - 1s 46us/step - loss: 0.4458 - val_loss: 0.4343\n",
      "Epoch 6/50\n",
      "11610/11610 [==============================] - 1s 44us/step - loss: 0.4204 - val_loss: 0.4202\n",
      "Epoch 7/50\n",
      "11610/11610 [==============================] - 1s 48us/step - loss: 0.4138 - val_loss: 0.4122\n",
      "Epoch 8/50\n",
      "11610/11610 [==============================] - 1s 45us/step - loss: 0.4003 - val_loss: 0.4079\n",
      "Epoch 9/50\n",
      "11610/11610 [==============================] - 0s 39us/step - loss: 0.5693 - val_loss: 0.4029\n",
      "Epoch 10/50\n",
      "11610/11610 [==============================] - 0s 40us/step - loss: 0.3901 - val_loss: 0.4113\n",
      "Epoch 11/50\n",
      "11610/11610 [==============================] - 0s 39us/step - loss: 0.3685 - val_loss: 0.3822\n",
      "Epoch 12/50\n",
      "11610/11610 [==============================] - 0s 39us/step - loss: 0.3591 - val_loss: 0.3722\n",
      "Epoch 13/50\n",
      "11610/11610 [==============================] - 0s 40us/step - loss: 0.3507 - val_loss: 0.3652\n",
      "Epoch 14/50\n",
      "11610/11610 [==============================] - 0s 40us/step - loss: 0.3450 - val_loss: 0.3644\n",
      "Epoch 15/50\n",
      "11610/11610 [==============================] - 1s 45us/step - loss: 0.3611 - val_loss: 0.3678\n",
      "Epoch 16/50\n",
      "11610/11610 [==============================] - 0s 43us/step - loss: 0.3487 - val_loss: 0.3557\n",
      "Epoch 17/50\n",
      "11610/11610 [==============================] - 0s 40us/step - loss: 0.3322 - val_loss: 0.3572\n",
      "Epoch 18/50\n",
      "11610/11610 [==============================] - 0s 42us/step - loss: 0.3433 - val_loss: 0.3490\n",
      "Epoch 19/50\n",
      "11610/11610 [==============================] - 0s 42us/step - loss: 0.3448 - val_loss: 0.3423\n",
      "Epoch 20/50\n",
      "11610/11610 [==============================] - 1s 45us/step - loss: 0.3285 - val_loss: 0.3373\n",
      "Epoch 21/50\n",
      "11610/11610 [==============================] - 1s 46us/step - loss: 0.3297 - val_loss: 0.3329\n",
      "Epoch 22/50\n",
      "11610/11610 [==============================] - 1s 46us/step - loss: 0.3248 - val_loss: 0.3304\n",
      "Epoch 23/50\n",
      "11610/11610 [==============================] - 1s 47us/step - loss: 0.3201 - val_loss: 0.3300\n",
      "Epoch 24/50\n",
      "11610/11610 [==============================] - 1s 45us/step - loss: 0.3223 - val_loss: 0.3331\n",
      "Epoch 25/50\n",
      "11610/11610 [==============================] - 0s 43us/step - loss: 0.3192 - val_loss: 0.3259\n",
      "Epoch 26/50\n",
      "11610/11610 [==============================] - 0s 36us/step - loss: 0.3120 - val_loss: 0.3293\n",
      "Epoch 27/50\n",
      "11610/11610 [==============================] - 1s 43us/step - loss: 0.3096 - val_loss: 0.3176\n",
      "Epoch 28/50\n",
      "11610/11610 [==============================] - 0s 40us/step - loss: 0.3095 - val_loss: 0.3250\n",
      "Epoch 29/50\n",
      "11610/11610 [==============================] - 0s 38us/step - loss: 0.3080 - val_loss: 0.3243\n",
      "Epoch 30/50\n",
      "11610/11610 [==============================] - 0s 37us/step - loss: 0.3518 - val_loss: 0.3376\n",
      "Epoch 31/50\n",
      "11610/11610 [==============================] - 0s 36us/step - loss: 0.3151 - val_loss: 0.3291\n",
      "Epoch 32/50\n",
      "11610/11610 [==============================] - 0s 35us/step - loss: 0.2988 - val_loss: 0.3152\n",
      "Epoch 33/50\n",
      "11610/11610 [==============================] - 0s 37us/step - loss: 0.3989 - val_loss: 0.3335\n",
      "Epoch 34/50\n",
      "11610/11610 [==============================] - 0s 38us/step - loss: 0.3263 - val_loss: 0.5890\n",
      "Epoch 35/50\n",
      "11610/11610 [==============================] - 1s 48us/step - loss: 0.3145 - val_loss: 0.3251\n",
      "Epoch 36/50\n",
      "11610/11610 [==============================] - 1s 48us/step - loss: 0.3179 - val_loss: 0.7425\n",
      "Epoch 37/50\n",
      "11610/11610 [==============================] - 1s 54us/step - loss: 0.3399 - val_loss: 0.3154\n",
      "Epoch 38/50\n",
      "11610/11610 [==============================] - 0s 38us/step - loss: 0.2996 - val_loss: 0.3073\n",
      "Epoch 39/50\n",
      "11610/11610 [==============================] - 0s 41us/step - loss: 0.4373 - val_loss: 0.3111\n",
      "Epoch 40/50\n",
      "11610/11610 [==============================] - 1s 48us/step - loss: 0.2946 - val_loss: 0.3055\n",
      "Epoch 41/50\n",
      "11610/11610 [==============================] - 0s 42us/step - loss: 0.3082 - val_loss: 0.3085\n",
      "Epoch 42/50\n",
      "11610/11610 [==============================] - 1s 45us/step - loss: 0.2918 - val_loss: 0.3186\n",
      "Epoch 43/50\n",
      "11610/11610 [==============================] - 0s 43us/step - loss: 0.2889 - val_loss: 0.3261\n",
      "Epoch 44/50\n",
      "11610/11610 [==============================] - 1s 45us/step - loss: 0.2872 - val_loss: 0.3018\n",
      "Epoch 45/50\n",
      "11610/11610 [==============================] - 0s 39us/step - loss: 0.3063 - val_loss: 0.3051\n",
      "Epoch 46/50\n",
      "11610/11610 [==============================] - 0s 36us/step - loss: 0.3029 - val_loss: 0.3025\n",
      "Epoch 47/50\n",
      "11610/11610 [==============================] - 0s 36us/step - loss: 0.3649 - val_loss: 0.3044\n",
      "Epoch 48/50\n",
      "11610/11610 [==============================] - 1s 44us/step - loss: 0.2889 - val_loss: 0.3060\n",
      "Epoch 49/50\n",
      "11610/11610 [==============================] - 1s 44us/step - loss: 0.2849 - val_loss: 0.3003\n",
      "Epoch 50/50\n",
      "11610/11610 [==============================] - 0s 38us/step - loss: 0.3012 - val_loss: 0.3041\n"
     ]
    }
   ],
   "source": [
    "model2.compile(loss = 'mean_squared_error', optimizer = 'sgd')\n",
    "history2 = model2.fit(x_train, y_train, epochs=50, validation_data=(x_val, y_val))"
   ]
  },
  {
   "cell_type": "markdown",
   "metadata": {},
   "source": [
    "Plot learning curves."
   ]
  },
  {
   "cell_type": "code",
   "execution_count": 28,
   "metadata": {},
   "outputs": [
    {
     "data": {
      "image/png": "[encoded data removed]",
      "text/plain": [
       "<Figure size 432x288 with 1 Axes>"
      ]
     },
     "metadata": {
      "needs_background": "light"
     },
     "output_type": "display_data"
    }
   ],
   "source": [
    "pd.DataFrame(history2.history).plot(figsize = (6,4))\n",
    "plt.grid(True)\n",
    "plt.gca().set_ylim(0, 1)\n",
    "plt.show()"
   ]
  },
  {
   "cell_type": "markdown",
   "metadata": {},
   "source": [
    "Evaluate performances on test set and/or make predictions."
   ]
  },
  {
   "cell_type": "code",
   "execution_count": 29,
   "metadata": {},
   "outputs": [
    {
     "name": "stdout",
     "output_type": "stream",
     "text": [
      "5160/5160 [==============================] - 0s 19us/step\n",
      "0.3060086814008018\n",
      "[[2.0562084]\n",
      " [1.1079824]\n",
      " [4.755809 ]\n",
      " [1.3724029]\n",
      " [3.7811775]]\n"
     ]
    }
   ],
   "source": [
    "mse_test2 = model2.evaluate(x_test, y_test)\n",
    "print(mse_test2)\n",
    "\n",
    "y_preds = model2.predict(x_test[:5])\n",
    "print(y_preds)"
   ]
  },
  {
   "cell_type": "code",
   "execution_count": null,
   "metadata": {},
   "outputs": [],
   "source": []
  }
 ],
 "metadata": {
  "kernelspec": {
   "display_name": "newpy36",
   "language": "python",
   "name": "newpy36"
  },
  "language_info": {
   "codemirror_mode": {
    "name": "ipython",
    "version": 3
   },
   "file_extension": ".py",
   "mimetype": "text/x-python",
   "name": "python",
   "nbconvert_exporter": "python",
   "pygments_lexer": "ipython3",
   "version": "3.7.6"
  }
 },
 "nbformat": 4,
 "nbformat_minor": 4
}
