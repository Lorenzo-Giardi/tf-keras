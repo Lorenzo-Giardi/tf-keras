{
 "cells": [
  {
   "cell_type": "markdown",
   "metadata": {},
   "source": [
    "# Predicting cryptocurrencies - Regression\n",
    "The problem can be approached from two different perspectives:\n",
    "* Classification (e.g. buy, hold, sell)\n",
    "* Regression (future price)\n",
    "\n",
    "In this notebook we'll approach the problem from a **regression** perspective, trying to predict the price of a cryptocurrency in the next minute from the observation of 4 cryptocurrencies prices in the previous 60 minutes (**sequence-to-vector**)."
   ]
  },
  {
   "cell_type": "markdown",
   "metadata": {},
   "source": [
    "<table align=\"left\">\n",
    "  <td>\n",
    "    <a target=\"_blank\" href=\"https://colab.research.google.com/github/Lorenzo-Giardi/tf-keras/blob/master/6_RNN/5_regression_cryptos_rnn.ipynb\"><img src=\"https://www.tensorflow.org/images/colab_logo_32px.png\" />Run in Google Colab</a>\n",
    "  </td>\n",
    "</table>"
   ]
  },
  {
   "cell_type": "markdown",
   "metadata": {},
   "source": [
    "## Imports and global parameters"
   ]
  },
  {
   "cell_type": "code",
   "execution_count": 1,
   "metadata": {},
   "outputs": [],
   "source": [
    "try:\n",
    "    %tensorflow_version 2.x\n",
    "except:\n",
    "    pass\n",
    "\n",
    "import pandas as pd\n",
    "import numpy as np\n",
    "import tensorflow as tf\n",
    "import random\n",
    "import time\n",
    "import os\n",
    "import matplotlib.pyplot as plt\n",
    "import seaborn as sns\n",
    "\n",
    "from random import randint\n",
    "from sklearn import preprocessing\n",
    "from collections import deque\n",
    "from tensorflow.keras.models import Sequential\n",
    "from tensorflow.keras.layers import Dense, Dropout, LSTM, GRU, BatchNormalization, Flatten, Conv1D\n",
    "from tensorflow.keras.callbacks import TensorBoard, ModelCheckpoint"
   ]
  },
  {
   "cell_type": "code",
   "execution_count": 2,
   "metadata": {},
   "outputs": [],
   "source": [
    "from rnn_utils import generate_time_series, plot_series, plot_multiple_forecasts, last_time_step_mse, plot_learning_curves"
   ]
  },
  {
   "cell_type": "code",
   "execution_count": 27,
   "metadata": {},
   "outputs": [],
   "source": [
    "SEQ_LEN = 60 # last minutes to use as feature\n",
    "FUTURE_PERIOD_PREDICT = 1 # period over which to make the prediction\n",
    "RATIO_TO_PREDICT = \"ETH-USD\"\n",
    "EPOCHS = 10\n",
    "BATCH_SIZE = 64\n",
    "NAME = f'{RATIO_TO_PREDICT}-{SEQ_LEN}-SEQ-{FUTURE_PERIOD_PREDICT}-PRED-{int(time.time())}'"
   ]
  },
  {
   "cell_type": "markdown",
   "metadata": {},
   "source": [
    "## Import Data"
   ]
  },
  {
   "cell_type": "code",
   "execution_count": 4,
   "metadata": {},
   "outputs": [
    {
     "name": "stdout",
     "output_type": "stream",
     "text": [
      "         time        low       high       open      close      volume\n",
      "0  1528968660  96.580002  96.589996  96.589996  96.580002    9.647200\n",
      "1  1528968720  96.449997  96.669998  96.589996  96.660004  314.387024\n",
      "2  1528968780  96.470001  96.570000  96.570000  96.570000   77.129799\n",
      "3  1528968840  96.449997  96.570000  96.570000  96.500000    7.216067\n",
      "4  1528968900  96.279999  96.540001  96.500000  96.389999  524.539978\n"
     ]
    }
   ],
   "source": [
    "col_names = ['time', 'low', 'high', 'open', 'close', 'volume']\n",
    "df = pd.read_csv(\"crypto_data/LTC-USD.csv\", names = col_names)\n",
    "\n",
    "print(df.head())"
   ]
  },
  {
   "cell_type": "code",
   "execution_count": 5,
   "metadata": {},
   "outputs": [
    {
     "name": "stdout",
     "output_type": "stream",
     "text": [
      "            BTC-USD_close  BTC-USD_volume  LTC-USD_close  LTC-USD_volume  \\\n",
      "time                                                                       \n",
      "1528968660    6489.549805        0.587100      96.580002        9.647200   \n",
      "1528968720    6487.379883        7.706374      96.660004      314.387024   \n",
      "1528968780    6479.410156        3.088252      96.570000       77.129799   \n",
      "1528968840    6479.410156        1.404100      96.500000        7.216067   \n",
      "1528968900    6479.979980        0.753000      96.389999      524.539978   \n",
      "\n",
      "            ETH-USD_close  ETH-USD_volume  BCH-USD_close  BCH-USD_volume  \n",
      "time                                                                      \n",
      "1528968660            NaN             NaN     871.719971        5.675361  \n",
      "1528968720      486.01001       26.019083     870.859985       26.856577  \n",
      "1528968780      486.00000        8.449400     870.099976        1.124300  \n",
      "1528968840      485.75000       26.994646     870.789978        1.749862  \n",
      "1528968900      486.00000       77.355759     870.000000        1.680500  \n"
     ]
    }
   ],
   "source": [
    "main_df = pd.DataFrame()\n",
    "\n",
    "ratios = ['BTC-USD', 'LTC-USD', 'ETH-USD', 'BCH-USD']\n",
    "for ratio in ratios:\n",
    "    # read CSV from path\n",
    "    df_path = f'crypto_data/{ratio}.csv'\n",
    "    df = pd.read_csv(df_path, names = col_names)\n",
    "    \n",
    "    # rename columns\n",
    "    df.rename(columns = {'close': f'{ratio}_close', 'volume': f'{ratio}_volume'}, inplace = True)\n",
    "    # set time as index\n",
    "    df.set_index('time', inplace = True)\n",
    "    # select only close price and volume columns\n",
    "    df = df[[f'{ratio}_close', f'{ratio}_volume']]\n",
    "    \n",
    "    if len(main_df) == 0:\n",
    "        main_df = df\n",
    "    else:\n",
    "        main_df = main_df.join(df)\n",
    "\n",
    "print(main_df.head())"
   ]
  },
  {
   "cell_type": "code",
   "execution_count": 6,
   "metadata": {},
   "outputs": [
    {
     "name": "stdout",
     "output_type": "stream",
     "text": [
      "            ETH-USD_close     target\n",
      "time                                \n",
      "1528968660            NaN  486.01001\n",
      "1528968720      486.01001  486.00000\n",
      "1528968780      486.00000  485.75000\n",
      "1528968840      485.75000  486.00000\n",
      "1528968900      486.00000  486.00000\n"
     ]
    }
   ],
   "source": [
    "# Define a new column with future price\n",
    "main_df['target'] = main_df[f'{RATIO_TO_PREDICT}_close'].shift(-FUTURE_PERIOD_PREDICT)\n",
    "print(main_df[[f'{RATIO_TO_PREDICT}_close', 'target']].head())"
   ]
  },
  {
   "cell_type": "markdown",
   "metadata": {},
   "source": [
    "## Train-test split, normalization, sequence creation and data balancing\n",
    "\n",
    "Notice that since sequences are very close together and are highly correlated, it would be a bad idea to take a random sample to use as a validation/test set, as it would be extremely similar to instances in the training set. Instead, we have to take a whole period (possibly the most recent one) and use it for testing.\n",
    "\n",
    "In this case we'll take the last 5-10% of the data."
   ]
  },
  {
   "cell_type": "code",
   "execution_count": 7,
   "metadata": {},
   "outputs": [
    {
     "name": "stdout",
     "output_type": "stream",
     "text": [
      "Time threshold for train-validation split: 1534922100\n"
     ]
    }
   ],
   "source": [
    "# ensure that time is sorted\n",
    "times = sorted(main_df.index.values)\n",
    "threshold = times[-int(0.05*len(times))]\n",
    "print(f'Time threshold for train-validation split: {threshold}')"
   ]
  },
  {
   "cell_type": "code",
   "execution_count": 8,
   "metadata": {},
   "outputs": [],
   "source": [
    "# tain-validation split\n",
    "validation_main_df = main_df[(main_df.index >= threshold)]\n",
    "train_main_df = main_df[(main_df.index < threshold)]"
   ]
  },
  {
   "cell_type": "markdown",
   "metadata": {},
   "source": [
    "Now define a preprocessing function that will be applied to both, the training and validation sets.\n",
    "* Transform absolute prices into percentage changes\n",
    "* Normalize data to be in (0,1)\n",
    "* Drop NAs\n",
    "* Create sequences that will be used as features (X)"
   ]
  },
  {
   "cell_type": "code",
   "execution_count": 9,
   "metadata": {},
   "outputs": [],
   "source": [
    "# define a preprocessing function\n",
    "def preprocess_df(df, print_df = False):\n",
    "    \n",
    "    pd.options.mode.chained_assignment = None\n",
    "    # transform data to percentage variation and normalize\n",
    "    for col in df.columns:\n",
    "        #if col != 'target':\n",
    "        df[col] = df[col].pct_change()\n",
    "        df.dropna(inplace = True)\n",
    "        df[col] = preprocessing.scale(df[col].values)\n",
    "            \n",
    "    df.dropna(inplace = True)\n",
    "    \n",
    "    if print_df: print(df[[f'{RATIO_TO_PREDICT}_close', 'target']].head())\n",
    "    \n",
    "    # create sequences of lenght SEQ_LEN to be used as features (X)\n",
    "    # sequential_data is a list [sequences(X), targets(y)]\n",
    "    sequential_data = []\n",
    "    prev_days = deque(maxlen = SEQ_LEN)\n",
    "    for i in df.values:\n",
    "        prev_days.append([n for n in i[:-1]])\n",
    "        if len(prev_days) == SEQ_LEN:\n",
    "            sequential_data.append([np.array(prev_days), i[-1]])\n",
    "            \n",
    "    random.shuffle(sequential_data)\n",
    "    if print_df: print('\\nsequential_data shape: ', np.shape(sequential_data))\n",
    "        \n",
    "    # split into X and y\n",
    "    X = []\n",
    "    y = []\n",
    "    \n",
    "    for seq, target in sequential_data:\n",
    "        X.append(seq)\n",
    "        y.append(target)\n",
    "    if print_df: print('\\nDimensions: [n of sequences, sequences lenght, features]')\n",
    "    if print_df: print('X_data shape: ', np.shape(X))\n",
    "    if print_df: print('y_data shape: ', np.shape(y))\n",
    "    \n",
    "    return np.array(X), np.array(y)"
   ]
  },
  {
   "cell_type": "code",
   "execution_count": 10,
   "metadata": {},
   "outputs": [
    {
     "name": "stdout",
     "output_type": "stream",
     "text": [
      "            ETH-USD_close    target\n",
      "time                               \n",
      "1528969200       0.004606  0.021175\n",
      "1528969260       0.021263  0.004586\n",
      "1528969320       0.004606  0.004586\n",
      "1528969380       0.004606  0.004586\n",
      "1528969440       0.004606  0.004586\n",
      "\n",
      "sequential_data shape:  (82020, 2)\n",
      "\n",
      "Dimensions: [n of sequences, sequences lenght, features]\n",
      "X_data shape:  (82020, 60, 8)\n",
      "y_data shape:  (82020,)\n"
     ]
    }
   ],
   "source": [
    "train_x, train_y = preprocess_df(train_main_df, print_df = True)\n",
    "valid_x, valid_y = preprocess_df(validation_main_df)"
   ]
  },
  {
   "cell_type": "markdown",
   "metadata": {},
   "source": [
    "## Linear Baseline"
   ]
  },
  {
   "cell_type": "code",
   "execution_count": 11,
   "metadata": {},
   "outputs": [
    {
     "name": "stdout",
     "output_type": "stream",
     "text": [
      "Train on 82020 samples, validate on 3789 samples\n",
      "Epoch 1/5\n",
      "82020/82020 [==============================] - 2s 28us/sample - loss: 1.4659 - val_loss: 1.1769\n",
      "Epoch 2/5\n",
      "82020/82020 [==============================] - 2s 25us/sample - loss: 1.1224 - val_loss: 1.0579\n",
      "Epoch 3/5\n",
      "82020/82020 [==============================] - 2s 25us/sample - loss: 1.0488 - val_loss: 1.0413\n",
      "Epoch 4/5\n",
      "82020/82020 [==============================] - 2s 25us/sample - loss: 1.0267 - val_loss: 1.0141\n",
      "Epoch 5/5\n",
      "82020/82020 [==============================] - 2s 25us/sample - loss: 1.0201 - val_loss: 1.0442\n"
     ]
    }
   ],
   "source": [
    "model = Sequential([\n",
    "        Flatten(input_shape = (train_x.shape[1:])),\n",
    "        Dense(1)])\n",
    "\n",
    "model.compile(loss = 'mse', optimizer = 'nadam')\n",
    "\n",
    "history_bsl = model.fit(train_x, train_y,\n",
    "                   batch_size = BATCH_SIZE,\n",
    "                   epochs = 5,\n",
    "                   validation_data = (valid_x, valid_y))"
   ]
  },
  {
   "cell_type": "code",
   "execution_count": 12,
   "metadata": {},
   "outputs": [
    {
     "name": "stdout",
     "output_type": "stream",
     "text": [
      "Predictions shape: (3789, 1)\n",
      "valid_x shape: (3789, 60, 8)\n",
      "valid_y shape: (3789, 1)\n"
     ]
    }
   ],
   "source": [
    "y_pred = model.predict(valid_x)\n",
    "val_y = valid_y[..., np.newaxis]\n",
    "print(f'Predictions shape: {y_pred.shape}')\n",
    "print(f'valid_x shape: {valid_x.shape}')\n",
    "print(f'valid_y shape: {val_y.shape}')"
   ]
  },
  {
   "cell_type": "code",
   "execution_count": 15,
   "metadata": {},
   "outputs": [
    {
     "data": {
      "image/png": "[encoded data removed]",
      "text/plain": [
       "<Figure size 864x288 with 2 Axes>"
      ]
     },
     "metadata": {
      "needs_background": "light"
     },
     "output_type": "display_data"
    }
   ],
   "source": [
    "fig, axes = plt.subplots(nrows=1, ncols=2, figsize=(12, 4))\n",
    "\n",
    "seq = randint(0, 1000)\n",
    "\n",
    "plt.sca(axes[0])\n",
    "plot_series(valid_x[seq, :, 0], val_y[seq, 0], y_pred[seq, 0], n_steps = SEQ_LEN)\n",
    "\n",
    "plt.sca(axes[1])\n",
    "plot_learning_curves(history_bsl.history[\"loss\"], history_bsl.history[\"val_loss\"], axis = [1, 5, 0.5, 1.5])\n",
    "\n",
    "plt.show()"
   ]
  },
  {
   "cell_type": "markdown",
   "metadata": {},
   "source": [
    "## Recurrent Network\n"
   ]
  },
  {
   "cell_type": "code",
   "execution_count": 22,
   "metadata": {},
   "outputs": [
    {
     "name": "stdout",
     "output_type": "stream",
     "text": [
      "Model: \"sequential_3\"\n",
      "_________________________________________________________________\n",
      "Layer (type)                 Output Shape              Param #   \n",
      "=================================================================\n",
      "conv1d_4 (Conv1D)            (None, 29, 128)           4224      \n",
      "_________________________________________________________________\n",
      "batch_normalization_6 (Batch (None, 29, 128)           512       \n",
      "_________________________________________________________________\n",
      "gru_2 (GRU)                  (None, 29, 64)            37248     \n",
      "_________________________________________________________________\n",
      "dropout_4 (Dropout)          (None, 29, 64)            0         \n",
      "_________________________________________________________________\n",
      "batch_normalization_7 (Batch (None, 29, 64)            256       \n",
      "_________________________________________________________________\n",
      "gru_3 (GRU)                  (None, 64)                24960     \n",
      "_________________________________________________________________\n",
      "dropout_5 (Dropout)          (None, 64)                0         \n",
      "_________________________________________________________________\n",
      "batch_normalization_8 (Batch (None, 64)                256       \n",
      "_________________________________________________________________\n",
      "dense_5 (Dense)              (None, 32)                2080      \n",
      "_________________________________________________________________\n",
      "dropout_6 (Dropout)          (None, 32)                0         \n",
      "_________________________________________________________________\n",
      "dense_6 (Dense)              (None, 1)                 33        \n",
      "=================================================================\n",
      "Total params: 69,569\n",
      "Trainable params: 69,057\n",
      "Non-trainable params: 512\n",
      "_________________________________________________________________\n",
      "Directory already exists\n"
     ]
    }
   ],
   "source": [
    "model = Sequential([\n",
    "    Conv1D(128, 4, strides = 2, padding='valid', activation='relu', input_shape = (train_x.shape[1:])),\n",
    "    BatchNormalization(),\n",
    "    \n",
    "    GRU(64, activation = 'tanh', return_sequences = True),\n",
    "    Dropout(0.2),\n",
    "    BatchNormalization(),\n",
    "    \n",
    "    GRU(64, activation = 'tanh', return_sequences = False),\n",
    "    Dropout(0.2),\n",
    "    BatchNormalization(),\n",
    "    \n",
    "    Dense(32, activation = 'tanh'),\n",
    "    Dropout(0.2),\n",
    "    \n",
    "    Dense(1),\n",
    "])\n",
    "\n",
    "opt = tf.keras.optimizers.Adam(lr=0.001, decay = 1e-6)\n",
    "\n",
    "model.compile(loss = 'mse',\n",
    "             optimizer = 'nadam',\n",
    "             )\n",
    "\n",
    "model.summary()\n",
    "\n",
    "tensorboard = TensorBoard(log_dir = f'logs/{NAME}')\n",
    "filepath = \"RNN_Final-{epoch:02d}-{val_loss:.3f}.hdf5\"  # unique file name that will include the epoch and the validation acc for that epoch\n",
    "checkpoint = ModelCheckpoint(f\"models/{NAME}/{filepath}\", monitor='val_loss', verbose=1, save_best_only=True, mode='auto') # saves only the best ones\n",
    "\n",
    "# create folder for checkpoints (or it will throw an error if not found!)\n",
    "try:\n",
    "    os.makedirs(f\"models/{NAME}\")\n",
    "except:\n",
    "    print(\"Directory already exists\")  "
   ]
  },
  {
   "cell_type": "code",
   "execution_count": 23,
   "metadata": {},
   "outputs": [
    {
     "name": "stdout",
     "output_type": "stream",
     "text": [
      "Train on 82020 samples, validate on 3789 samples\n",
      "Epoch 1/10\n",
      "81920/82020 [============================>.] - ETA: 0s - loss: 1.0936\n",
      "Epoch 00001: val_loss improved from inf to 0.98029, saving model to models/ETH-USD-60-SEQ-1-PRED-1585132657/RNN_Final-01-0.980.hdf5\n",
      "82020/82020 [==============================] - 60s 732us/sample - loss: 1.0933 - val_loss: 0.9803\n",
      "Epoch 2/10\n",
      "81920/82020 [============================>.] - ETA: 0s - loss: 0.9918\n",
      "Epoch 00002: val_loss improved from 0.98029 to 0.97187, saving model to models/ETH-USD-60-SEQ-1-PRED-1585132657/RNN_Final-02-0.972.hdf5\n",
      "82020/82020 [==============================] - 56s 677us/sample - loss: 0.9930 - val_loss: 0.9719\n",
      "Epoch 3/10\n",
      "81920/82020 [============================>.] - ETA: 0s - loss: 0.9844\n",
      "Epoch 00003: val_loss improved from 0.97187 to 0.97016, saving model to models/ETH-USD-60-SEQ-1-PRED-1585132657/RNN_Final-03-0.970.hdf5\n",
      "82020/82020 [==============================] - 54s 657us/sample - loss: 0.9837 - val_loss: 0.9702\n",
      "Epoch 4/10\n",
      "81984/82020 [============================>.] - ETA: 0s - loss: 0.9824\n",
      "Epoch 00004: val_loss improved from 0.97016 to 0.96866, saving model to models/ETH-USD-60-SEQ-1-PRED-1585132657/RNN_Final-04-0.969.hdf5\n",
      "82020/82020 [==============================] - 56s 681us/sample - loss: 0.9823 - val_loss: 0.9687\n",
      "Epoch 5/10\n",
      "81920/82020 [============================>.] - ETA: 0s - loss: 0.9806\n",
      "Epoch 00005: val_loss improved from 0.96866 to 0.96789, saving model to models/ETH-USD-60-SEQ-1-PRED-1585132657/RNN_Final-05-0.968.hdf5\n",
      "82020/82020 [==============================] - 58s 702us/sample - loss: 0.9801 - val_loss: 0.9679\n",
      "Epoch 6/10\n",
      "81984/82020 [============================>.] - ETA: 0s - loss: 0.9792\n",
      "Epoch 00006: val_loss did not improve from 0.96789\n",
      "82020/82020 [==============================] - 55s 672us/sample - loss: 0.9790 - val_loss: 0.9712\n",
      "Epoch 7/10\n",
      "81984/82020 [============================>.] - ETA: 0s - loss: 0.9772\n",
      "Epoch 00007: val_loss did not improve from 0.96789\n",
      "82020/82020 [==============================] - 53s 649us/sample - loss: 0.9769 - val_loss: 0.9726\n",
      "Epoch 8/10\n",
      "81920/82020 [============================>.] - ETA: 0s - loss: 0.9768\n",
      "Epoch 00008: val_loss did not improve from 0.96789\n",
      "82020/82020 [==============================] - 53s 646us/sample - loss: 0.9767 - val_loss: 0.9735\n",
      "Epoch 9/10\n",
      "81920/82020 [============================>.] - ETA: 0s - loss: 0.9738\n",
      "Epoch 00009: val_loss did not improve from 0.96789\n",
      "82020/82020 [==============================] - 54s 652us/sample - loss: 0.9733 - val_loss: 0.9861\n",
      "Epoch 10/10\n",
      "81920/82020 [============================>.] - ETA: 0s - loss: 0.9706\n",
      "Epoch 00010: val_loss did not improve from 0.96789\n",
      "82020/82020 [==============================] - 50s 609us/sample - loss: 0.9705 - val_loss: 0.9793\n"
     ]
    }
   ],
   "source": [
    "history = model.fit(train_x, train_y,\n",
    "                   batch_size = BATCH_SIZE,\n",
    "                   epochs = EPOCHS,\n",
    "                   validation_data = (valid_x, valid_y),\n",
    "                   callbacks = [tensorboard, checkpoint])"
   ]
  },
  {
   "cell_type": "code",
   "execution_count": 24,
   "metadata": {},
   "outputs": [
    {
     "name": "stdout",
     "output_type": "stream",
     "text": [
      "Predictions shape: (3789, 1)\n",
      "valid_x shape: (3789, 60, 8)\n",
      "valid_y shape: (3789,)\n"
     ]
    }
   ],
   "source": [
    "y_pred = model.predict(valid_x)\n",
    "val_y = valid_y[..., np.newaxis]\n",
    "print(f'Predictions shape: {y_pred.shape}')\n",
    "print(f'valid_x shape: {valid_x.shape}')\n",
    "print(f'valid_y shape: {valid_y.shape}')"
   ]
  },
  {
   "cell_type": "code",
   "execution_count": 28,
   "metadata": {},
   "outputs": [
    {
     "data": {
      "image/png": "[encoded data removed]",
      "text/plain": [
       "<Figure size 864x288 with 2 Axes>"
      ]
     },
     "metadata": {
      "needs_background": "light"
     },
     "output_type": "display_data"
    }
   ],
   "source": [
    "fig, axes = plt.subplots(nrows=1, ncols=2, figsize=(12, 4))\n",
    "\n",
    "#seq = randint(0, 1000)\n",
    "\n",
    "plt.sca(axes[0])\n",
    "plot_series(valid_x[seq, :, 0], val_y[seq, 0], y_pred[seq, 0], n_steps = SEQ_LEN)\n",
    "\n",
    "plt.sca(axes[1])\n",
    "plot_learning_curves(history.history[\"loss\"], history.history[\"val_loss\"], axis = [1, 10, 0.5, 1.5])\n",
    "\n",
    "plt.show()"
   ]
  },
  {
   "cell_type": "code",
   "execution_count": null,
   "metadata": {},
   "outputs": [],
   "source": []
  },
  {
   "cell_type": "code",
   "execution_count": null,
   "metadata": {},
   "outputs": [],
   "source": []
  }
 ],
 "metadata": {
  "kernelspec": {
   "display_name": "newpy36",
   "language": "python",
   "name": "newpy36"
  },
  "language_info": {
   "codemirror_mode": {
    "name": "ipython",
    "version": 3
   },
   "file_extension": ".py",
   "mimetype": "text/x-python",
   "name": "python",
   "nbconvert_exporter": "python",
   "pygments_lexer": "ipython3",
   "version": "3.7.6"
  }
 },
 "nbformat": 4,
 "nbformat_minor": 4
}
